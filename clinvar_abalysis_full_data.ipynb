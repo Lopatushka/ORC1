{
 "cells": [
  {
   "cell_type": "code",
   "execution_count": 1,
   "metadata": {},
   "outputs": [],
   "source": [
    "from clinvar_functions import *\n",
    "import pandas as pd\n",
    "import matplotlib.pyplot as plt\n",
    "import pysam"
   ]
  },
  {
   "cell_type": "code",
   "execution_count": 184,
   "metadata": {},
   "outputs": [],
   "source": [
    "# Path to ClinVar VCF file\n",
    "vcf_file = \"./data/clinvar.vcf\"\n",
    "\n",
    "# Open the VCF file\n",
    "vcf_reader = pysam.VariantFile(vcf_file)"
   ]
  },
  {
   "cell_type": "markdown",
   "metadata": {},
   "source": [
    "Fields: ['ALLELEID',\n",
    " 'CLNDISDB',\n",
    " 'CLNDN',\n",
    " 'CLNHGVS',\n",
    " 'CLNREVSTAT',\n",
    " 'CLNSIG',\n",
    " 'CLNSIGSCV',\n",
    " 'CLNVC',\n",
    " 'CLNVCSO',\n",
    " 'CLNVI',\n",
    " 'GENEINFO',\n",
    " 'ORIGIN']"
   ]
  },
  {
   "cell_type": "code",
   "execution_count": 185,
   "metadata": {},
   "outputs": [
    {
     "name": "stderr",
     "output_type": "stream",
     "text": [
      "[W::vcf_parse] Contig '1' is not defined in the header. (Quick workaround: index the file with tabix.)\n",
      "[W::vcf_parse] Contig '2' is not defined in the header. (Quick workaround: index the file with tabix.)\n",
      "[W::vcf_parse] Contig '3' is not defined in the header. (Quick workaround: index the file with tabix.)\n",
      "[W::vcf_parse] Contig '4' is not defined in the header. (Quick workaround: index the file with tabix.)\n",
      "[W::vcf_parse] Contig '5' is not defined in the header. (Quick workaround: index the file with tabix.)\n",
      "[W::vcf_parse] Contig '6' is not defined in the header. (Quick workaround: index the file with tabix.)\n",
      "[W::vcf_parse] Contig '7' is not defined in the header. (Quick workaround: index the file with tabix.)\n",
      "[W::vcf_parse] Contig '8' is not defined in the header. (Quick workaround: index the file with tabix.)\n",
      "[W::vcf_parse] Contig '9' is not defined in the header. (Quick workaround: index the file with tabix.)\n",
      "[W::vcf_parse] Contig '10' is not defined in the header. (Quick workaround: index the file with tabix.)\n",
      "[W::vcf_parse] Contig '11' is not defined in the header. (Quick workaround: index the file with tabix.)\n",
      "[W::vcf_parse] Contig '12' is not defined in the header. (Quick workaround: index the file with tabix.)\n",
      "[W::vcf_parse] Contig '13' is not defined in the header. (Quick workaround: index the file with tabix.)\n",
      "[W::vcf_parse] Contig '14' is not defined in the header. (Quick workaround: index the file with tabix.)\n",
      "[W::vcf_parse] Contig '15' is not defined in the header. (Quick workaround: index the file with tabix.)\n",
      "[W::vcf_parse] Contig '16' is not defined in the header. (Quick workaround: index the file with tabix.)\n"
     ]
    },
    {
     "name": "stdout",
     "output_type": "stream",
     "text": [
      "Error processing record at 16:31092475:VKORC1:79001 - 'NoneType' object is not iterable\n",
      "Error processing record at 16:31096368:VKORC1:79001 - 'NoneType' object is not iterable\n"
     ]
    },
    {
     "name": "stderr",
     "output_type": "stream",
     "text": [
      "[W::vcf_parse] Contig '17' is not defined in the header. (Quick workaround: index the file with tabix.)\n",
      "[W::vcf_parse] Contig '18' is not defined in the header. (Quick workaround: index the file with tabix.)\n",
      "[W::vcf_parse] Contig '19' is not defined in the header. (Quick workaround: index the file with tabix.)\n",
      "[W::vcf_parse] Contig '20' is not defined in the header. (Quick workaround: index the file with tabix.)\n",
      "[W::vcf_parse] Contig '21' is not defined in the header. (Quick workaround: index the file with tabix.)\n",
      "[W::vcf_parse] Contig '22' is not defined in the header. (Quick workaround: index the file with tabix.)\n",
      "[W::vcf_parse] Contig 'X' is not defined in the header. (Quick workaround: index the file with tabix.)\n"
     ]
    },
    {
     "name": "stdout",
     "output_type": "stream",
     "text": [
      "(445, 10)\n"
     ]
    },
    {
     "name": "stderr",
     "output_type": "stream",
     "text": [
      "[W::vcf_parse] Contig 'Y' is not defined in the header. (Quick workaround: index the file with tabix.)\n",
      "[W::vcf_parse] Contig 'MT' is not defined in the header. (Quick workaround: index the file with tabix.)\n",
      "[W::vcf_parse] Contig 'NT_113889.1' is not defined in the header. (Quick workaround: index the file with tabix.)\n",
      "[W::vcf_parse] Contig 'NT_187633.1' is not defined in the header. (Quick workaround: index the file with tabix.)\n",
      "[W::vcf_parse] Contig 'NT_187661.1' is not defined in the header. (Quick workaround: index the file with tabix.)\n",
      "[W::vcf_parse] Contig 'NT_187693.1' is not defined in the header. (Quick workaround: index the file with tabix.)\n",
      "[W::vcf_parse] Contig 'NW_009646201.1' is not defined in the header. (Quick workaround: index the file with tabix.)\n"
     ]
    }
   ],
   "source": [
    "# Extract information from first 10 variants\n",
    "variants = []\n",
    "for record in vcf_reader.fetch():\n",
    "    gene_info = record.info.get(\"GENEINFO\", [\"\"])\n",
    "    if \"ORC1\" in gene_info:\n",
    "        try:\n",
    "            variant_info = {\n",
    "                \"CHROM\": record.chrom,  # Chromosome\n",
    "                \"POS\": record.pos,      # Position\n",
    "                \"ID\": record.id,        # Variant ID (e.g., rs number)\n",
    "                \"GENEINFO\":gene_info,   # Gene information\n",
    "                \"REF\": record.ref,      # Reference allele\n",
    "                \"ALT\": \",\".join(str(alt) for alt in record.alts),  # Alternate allele(s)\n",
    "                \"CLNREVSTAT\": record.info.get(\"CLNREVSTAT\"),  # Review status\n",
    "                \"CLNSIG\": record.info.get(\"CLNSIG\"),  # Clinical significance\n",
    "                \"RESULT\": record.info.get(\"MC\"),  # Molecular consequence\n",
    "                \"CLNDN\": record.info.get(\"CLNDN\")  # Disease name\n",
    "            }\n",
    "            variants.append(variant_info)\n",
    "        except Exception as e:\n",
    "            print(f\"Error processing record at {record.chrom}:{record.pos}:{gene_info} - {e}\")\n",
    "    \n",
    "\n",
    "# Convert to DataFrame\n",
    "df = pd.DataFrame(variants)\n",
    "print(df.shape)"
   ]
  },
  {
   "cell_type": "code",
   "execution_count": 186,
   "metadata": {},
   "outputs": [
    {
     "data": {
      "text/plain": [
       "{'MORC1:27136',\n",
       " 'ORC1:4998',\n",
       " 'ORC1:4998|LOC126805733:126805733',\n",
       " 'ORC1:4998|PRPF38A:84950',\n",
       " 'VKORC1:79001',\n",
       " 'VKORC1:79001|PRSS53:339105',\n",
       " 'VKORC1L1:154807'}"
      ]
     },
     "execution_count": 186,
     "metadata": {},
     "output_type": "execute_result"
    }
   ],
   "source": [
    "# List of genes after filtration\n",
    "set(df['GENEINFO'])"
   ]
  },
  {
   "cell_type": "code",
   "execution_count": 187,
   "metadata": {},
   "outputs": [
    {
     "name": "stdout",
     "output_type": "stream",
     "text": [
      "(339, 10)\n"
     ]
    }
   ],
   "source": [
    "# Filterded by gene name\n",
    "df = df[(df['GENEINFO']=='ORC1:4998|PRPF38A:84950') | (df['GENEINFO']=='ORC1:4998') | (df['GENEINFO']=='ORC1:4998|LOC126805733:126805733')]\n",
    "print(df.shape)"
   ]
  },
  {
   "cell_type": "code",
   "execution_count": 188,
   "metadata": {},
   "outputs": [],
   "source": [
    "# Functions for data cleaning\n",
    "def convert_to_str(x):\n",
    "    if x is not None:\n",
    "        return x[0]\n",
    "    return 'not_specified'\n",
    "\n",
    "def second_element(x):\n",
    "    li = list(x)\n",
    "    if len(li) == 2:\n",
    "        return li[1][1:]\n",
    "    return 'not_specified'\n",
    "\n",
    "def split_row(row):\n",
    "    try:\n",
    "        return row.split(\"|\")[1]\n",
    "    except:\n",
    "        return row"
   ]
  },
  {
   "cell_type": "code",
   "execution_count": 189,
   "metadata": {},
   "outputs": [],
   "source": [
    "df[\"CLNSIG\"] = df[\"CLNSIG\"].apply(lambda x: convert_to_str(x))\n",
    "df[\"RESULT\"] = df[\"RESULT\"].apply(lambda x: convert_to_str(x))\n",
    "df[\"CLNDN\"] = df[\"CLNDN\"].apply(lambda x: convert_to_str(x))\n",
    "\n",
    "df[\"CRITERIA\"] = df[\"CLNREVSTAT\"].apply(lambda x: list(x)[0])\n",
    "df[\"SUBMITTION\"] = df[\"CLNREVSTAT\"].apply(lambda x: second_element(x))\n",
    "df[\"RESULT\"] = df[\"RESULT\"].apply(lambda x: split_row(x))\n",
    "\n",
    "df = df.drop(columns=['CLNREVSTAT'])"
   ]
  },
  {
   "cell_type": "code",
   "execution_count": 193,
   "metadata": {},
   "outputs": [
    {
     "data": {
      "text/html": [
       "<div>\n",
       "<style scoped>\n",
       "    .dataframe tbody tr th:only-of-type {\n",
       "        vertical-align: middle;\n",
       "    }\n",
       "\n",
       "    .dataframe tbody tr th {\n",
       "        vertical-align: top;\n",
       "    }\n",
       "\n",
       "    .dataframe thead th {\n",
       "        text-align: right;\n",
       "    }\n",
       "</style>\n",
       "<table border=\"1\" class=\"dataframe\">\n",
       "  <thead>\n",
       "    <tr style=\"text-align: right;\">\n",
       "      <th></th>\n",
       "      <th>CHROM</th>\n",
       "      <th>POS</th>\n",
       "      <th>ID</th>\n",
       "      <th>GENEINFO</th>\n",
       "      <th>REF</th>\n",
       "      <th>ALT</th>\n",
       "      <th>CLNSIG</th>\n",
       "      <th>RESULT</th>\n",
       "      <th>CLNDN</th>\n",
       "      <th>CRITERIA</th>\n",
       "      <th>SUBMITTION</th>\n",
       "    </tr>\n",
       "  </thead>\n",
       "  <tbody>\n",
       "    <tr>\n",
       "      <th>0</th>\n",
       "      <td>1</td>\n",
       "      <td>52369375</td>\n",
       "      <td>1173067</td>\n",
       "      <td>ORC1:4998</td>\n",
       "      <td>TGTACATCTCCCATATTGCAACACCTCCCTTTCCCAAAGATGTACC...</td>\n",
       "      <td>T</td>\n",
       "      <td>Pathogenic</td>\n",
       "      <td>not_specified</td>\n",
       "      <td>Meier-Gorlin_syndrome_1</td>\n",
       "      <td>criteria_provided</td>\n",
       "      <td>single_submitter</td>\n",
       "    </tr>\n",
       "    <tr>\n",
       "      <th>1</th>\n",
       "      <td>1</td>\n",
       "      <td>52372950</td>\n",
       "      <td>297574</td>\n",
       "      <td>ORC1:4998</td>\n",
       "      <td>G</td>\n",
       "      <td>A</td>\n",
       "      <td>Benign</td>\n",
       "      <td>3_prime_UTR_variant</td>\n",
       "      <td>Meier-Gorlin_syndrome_1|not_provided</td>\n",
       "      <td>criteria_provided</td>\n",
       "      <td>not_specified</td>\n",
       "    </tr>\n",
       "    <tr>\n",
       "      <th>2</th>\n",
       "      <td>1</td>\n",
       "      <td>52372955</td>\n",
       "      <td>297575</td>\n",
       "      <td>ORC1:4998</td>\n",
       "      <td>C</td>\n",
       "      <td>G</td>\n",
       "      <td>Uncertain_significance</td>\n",
       "      <td>3_prime_UTR_variant</td>\n",
       "      <td>Meier-Gorlin_syndrome_1</td>\n",
       "      <td>criteria_provided</td>\n",
       "      <td>single_submitter</td>\n",
       "    </tr>\n",
       "    <tr>\n",
       "      <th>3</th>\n",
       "      <td>1</td>\n",
       "      <td>52373087</td>\n",
       "      <td>297576</td>\n",
       "      <td>ORC1:4998</td>\n",
       "      <td>G</td>\n",
       "      <td>A</td>\n",
       "      <td>Uncertain_significance</td>\n",
       "      <td>3_prime_UTR_variant</td>\n",
       "      <td>Meier-Gorlin_syndrome_1</td>\n",
       "      <td>criteria_provided</td>\n",
       "      <td>single_submitter</td>\n",
       "    </tr>\n",
       "    <tr>\n",
       "      <th>4</th>\n",
       "      <td>1</td>\n",
       "      <td>52373187</td>\n",
       "      <td>703217</td>\n",
       "      <td>ORC1:4998</td>\n",
       "      <td>G</td>\n",
       "      <td>A</td>\n",
       "      <td>Conflicting_classifications_of_pathogenicity</td>\n",
       "      <td>synonymous_variant</td>\n",
       "      <td>Meier-Gorlin_syndrome_1|not_provided|ORC1-rela...</td>\n",
       "      <td>criteria_provided</td>\n",
       "      <td>conflicting_classifications</td>\n",
       "    </tr>\n",
       "    <tr>\n",
       "      <th>...</th>\n",
       "      <td>...</td>\n",
       "      <td>...</td>\n",
       "      <td>...</td>\n",
       "      <td>...</td>\n",
       "      <td>...</td>\n",
       "      <td>...</td>\n",
       "      <td>...</td>\n",
       "      <td>...</td>\n",
       "      <td>...</td>\n",
       "      <td>...</td>\n",
       "      <td>...</td>\n",
       "    </tr>\n",
       "    <tr>\n",
       "      <th>334</th>\n",
       "      <td>1</td>\n",
       "      <td>52402240</td>\n",
       "      <td>875878</td>\n",
       "      <td>ORC1:4998</td>\n",
       "      <td>T</td>\n",
       "      <td>A</td>\n",
       "      <td>Uncertain_significance</td>\n",
       "      <td>intron_variant</td>\n",
       "      <td>Meier-Gorlin_syndrome_1</td>\n",
       "      <td>criteria_provided</td>\n",
       "      <td>single_submitter</td>\n",
       "    </tr>\n",
       "    <tr>\n",
       "      <th>335</th>\n",
       "      <td>1</td>\n",
       "      <td>52404418</td>\n",
       "      <td>875879</td>\n",
       "      <td>ORC1:4998|LOC126805733:126805733</td>\n",
       "      <td>G</td>\n",
       "      <td>A</td>\n",
       "      <td>Uncertain_significance</td>\n",
       "      <td>5_prime_UTR_variant</td>\n",
       "      <td>Meier-Gorlin_syndrome_1</td>\n",
       "      <td>criteria_provided</td>\n",
       "      <td>single_submitter</td>\n",
       "    </tr>\n",
       "    <tr>\n",
       "      <th>336</th>\n",
       "      <td>1</td>\n",
       "      <td>52404439</td>\n",
       "      <td>297590</td>\n",
       "      <td>ORC1:4998|LOC126805733:126805733</td>\n",
       "      <td>G</td>\n",
       "      <td>C</td>\n",
       "      <td>Uncertain_significance</td>\n",
       "      <td>genic_upstream_transcript_variant</td>\n",
       "      <td>Meier-Gorlin_syndrome</td>\n",
       "      <td>criteria_provided</td>\n",
       "      <td>single_submitter</td>\n",
       "    </tr>\n",
       "    <tr>\n",
       "      <th>337</th>\n",
       "      <td>1</td>\n",
       "      <td>52408585</td>\n",
       "      <td>3425738</td>\n",
       "      <td>ORC1:4998|PRPF38A:84950</td>\n",
       "      <td>G</td>\n",
       "      <td>C</td>\n",
       "      <td>Uncertain_significance</td>\n",
       "      <td>missense_variant</td>\n",
       "      <td>not_specified</td>\n",
       "      <td>criteria_provided</td>\n",
       "      <td>single_submitter</td>\n",
       "    </tr>\n",
       "    <tr>\n",
       "      <th>338</th>\n",
       "      <td>1</td>\n",
       "      <td>52408613</td>\n",
       "      <td>3425737</td>\n",
       "      <td>ORC1:4998|PRPF38A:84950</td>\n",
       "      <td>C</td>\n",
       "      <td>T</td>\n",
       "      <td>Uncertain_significance</td>\n",
       "      <td>missense_variant</td>\n",
       "      <td>not_specified</td>\n",
       "      <td>criteria_provided</td>\n",
       "      <td>single_submitter</td>\n",
       "    </tr>\n",
       "  </tbody>\n",
       "</table>\n",
       "<p>339 rows × 11 columns</p>\n",
       "</div>"
      ],
      "text/plain": [
       "    CHROM       POS       ID                          GENEINFO  \\\n",
       "0       1  52369375  1173067                         ORC1:4998   \n",
       "1       1  52372950   297574                         ORC1:4998   \n",
       "2       1  52372955   297575                         ORC1:4998   \n",
       "3       1  52373087   297576                         ORC1:4998   \n",
       "4       1  52373187   703217                         ORC1:4998   \n",
       "..    ...       ...      ...                               ...   \n",
       "334     1  52402240   875878                         ORC1:4998   \n",
       "335     1  52404418   875879  ORC1:4998|LOC126805733:126805733   \n",
       "336     1  52404439   297590  ORC1:4998|LOC126805733:126805733   \n",
       "337     1  52408585  3425738           ORC1:4998|PRPF38A:84950   \n",
       "338     1  52408613  3425737           ORC1:4998|PRPF38A:84950   \n",
       "\n",
       "                                                   REF ALT  \\\n",
       "0    TGTACATCTCCCATATTGCAACACCTCCCTTTCCCAAAGATGTACC...   T   \n",
       "1                                                    G   A   \n",
       "2                                                    C   G   \n",
       "3                                                    G   A   \n",
       "4                                                    G   A   \n",
       "..                                                 ...  ..   \n",
       "334                                                  T   A   \n",
       "335                                                  G   A   \n",
       "336                                                  G   C   \n",
       "337                                                  G   C   \n",
       "338                                                  C   T   \n",
       "\n",
       "                                           CLNSIG  \\\n",
       "0                                      Pathogenic   \n",
       "1                                          Benign   \n",
       "2                          Uncertain_significance   \n",
       "3                          Uncertain_significance   \n",
       "4    Conflicting_classifications_of_pathogenicity   \n",
       "..                                            ...   \n",
       "334                        Uncertain_significance   \n",
       "335                        Uncertain_significance   \n",
       "336                        Uncertain_significance   \n",
       "337                        Uncertain_significance   \n",
       "338                        Uncertain_significance   \n",
       "\n",
       "                                RESULT  \\\n",
       "0                        not_specified   \n",
       "1                  3_prime_UTR_variant   \n",
       "2                  3_prime_UTR_variant   \n",
       "3                  3_prime_UTR_variant   \n",
       "4                   synonymous_variant   \n",
       "..                                 ...   \n",
       "334                     intron_variant   \n",
       "335                5_prime_UTR_variant   \n",
       "336  genic_upstream_transcript_variant   \n",
       "337                   missense_variant   \n",
       "338                   missense_variant   \n",
       "\n",
       "                                                 CLNDN           CRITERIA  \\\n",
       "0                              Meier-Gorlin_syndrome_1  criteria_provided   \n",
       "1                 Meier-Gorlin_syndrome_1|not_provided  criteria_provided   \n",
       "2                              Meier-Gorlin_syndrome_1  criteria_provided   \n",
       "3                              Meier-Gorlin_syndrome_1  criteria_provided   \n",
       "4    Meier-Gorlin_syndrome_1|not_provided|ORC1-rela...  criteria_provided   \n",
       "..                                                 ...                ...   \n",
       "334                            Meier-Gorlin_syndrome_1  criteria_provided   \n",
       "335                            Meier-Gorlin_syndrome_1  criteria_provided   \n",
       "336                              Meier-Gorlin_syndrome  criteria_provided   \n",
       "337                                      not_specified  criteria_provided   \n",
       "338                                      not_specified  criteria_provided   \n",
       "\n",
       "                      SUBMITTION  \n",
       "0               single_submitter  \n",
       "1                  not_specified  \n",
       "2               single_submitter  \n",
       "3               single_submitter  \n",
       "4    conflicting_classifications  \n",
       "..                           ...  \n",
       "334             single_submitter  \n",
       "335             single_submitter  \n",
       "336             single_submitter  \n",
       "337             single_submitter  \n",
       "338             single_submitter  \n",
       "\n",
       "[339 rows x 11 columns]"
      ]
     },
     "execution_count": 193,
     "metadata": {},
     "output_type": "execute_result"
    }
   ],
   "source": [
    "df"
   ]
  },
  {
   "cell_type": "markdown",
   "metadata": {},
   "source": [
    "# Statistics and data cleaning"
   ]
  },
  {
   "cell_type": "code",
   "execution_count": 208,
   "metadata": {},
   "outputs": [
    {
     "data": {
      "text/plain": [
       "CLNSIG\n",
       "Uncertain_significance                          159\n",
       "Likely_benign                                    97\n",
       "Benign                                           24\n",
       "Conflicting_classifications_of_pathogenicity     22\n",
       "Pathogenic                                       16\n",
       "Likely_pathogenic                                 9\n",
       "Benign/Likely_benign                              9\n",
       "no_classification_for_the_single_variant          2\n",
       "Pathogenic/Likely_pathogenic                      1\n",
       "Name: count, dtype: int64"
      ]
     },
     "execution_count": 208,
     "metadata": {},
     "output_type": "execute_result"
    }
   ],
   "source": [
    "df[\"CLNSIG\"].value_counts()"
   ]
  },
  {
   "cell_type": "code",
   "execution_count": 205,
   "metadata": {},
   "outputs": [
    {
     "data": {
      "text/plain": [
       "CRITERIA\n",
       "criteria_provided                           332\n",
       "no_assertion_criteria_provided                5\n",
       "no_classification_for_the_single_variant      2\n",
       "Name: count, dtype: int64"
      ]
     },
     "execution_count": 205,
     "metadata": {},
     "output_type": "execute_result"
    }
   ],
   "source": [
    "df[\"CRITERIA\"].value_counts()"
   ]
  },
  {
   "cell_type": "code",
   "execution_count": 206,
   "metadata": {},
   "outputs": [
    {
     "data": {
      "text/plain": [
       "SUBMITTION\n",
       "single_submitter               248\n",
       "not_specified                   69\n",
       "conflicting_classifications     22\n",
       "Name: count, dtype: int64"
      ]
     },
     "execution_count": 206,
     "metadata": {},
     "output_type": "execute_result"
    }
   ],
   "source": [
    "df[\"SUBMITTION\"].value_counts()"
   ]
  },
  {
   "cell_type": "code",
   "execution_count": 207,
   "metadata": {},
   "outputs": [
    {
     "data": {
      "text/plain": [
       "RESULT\n",
       "missense_variant                     177\n",
       "synonymous_variant                    77\n",
       "intron_variant                        56\n",
       "frameshift_variant                    10\n",
       "splice_acceptor_variant                6\n",
       "nonsense                               4\n",
       "3_prime_UTR_variant                    3\n",
       "splice_donor_variant                   2\n",
       "not_specified                          1\n",
       "inframe_deletion                       1\n",
       "5_prime_UTR_variant                    1\n",
       "genic_upstream_transcript_variant      1\n",
       "Name: count, dtype: int64"
      ]
     },
     "execution_count": 207,
     "metadata": {},
     "output_type": "execute_result"
    }
   ],
   "source": [
    "df[\"RESULT\"].value_counts()"
   ]
  },
  {
   "cell_type": "markdown",
   "metadata": {},
   "source": [
    "Delete:\n",
    "\"no_classification_for_the_single_variant\" (2)\n",
    "no_assertion_criteria_provided (5) with 3 Meier-Gorlin_syndrome_1\n",
    "\n",
    "conflicting_classifications: if there is Meier-Gorlin_syndrome_1: put Meier-Gorlin_syndrome_1 probably. Else - delete"
   ]
  },
  {
   "cell_type": "code",
   "execution_count": 221,
   "metadata": {},
   "outputs": [],
   "source": [
    "# Data cleaning\n",
    "df = df[df[\"CLNSIG\"] != \"no_classification_for_the_single_variant\"]\n",
    "df = df[df[\"CLNSIG\"] != \"no_classification_for_the_single_variant\"]\n",
    "df = df[df[\"CRITERIA\"] != \"no_assertion_criteria_provided\"]"
   ]
  },
  {
   "cell_type": "code",
   "execution_count": 222,
   "metadata": {},
   "outputs": [
    {
     "data": {
      "text/plain": [
       "(332, 11)"
      ]
     },
     "execution_count": 222,
     "metadata": {},
     "output_type": "execute_result"
    }
   ],
   "source": [
    "df.shape"
   ]
  }
 ],
 "metadata": {
  "kernelspec": {
   "display_name": "bioinfo",
   "language": "python",
   "name": "python3"
  },
  "language_info": {
   "codemirror_mode": {
    "name": "ipython",
    "version": 3
   },
   "file_extension": ".py",
   "mimetype": "text/x-python",
   "name": "python",
   "nbconvert_exporter": "python",
   "pygments_lexer": "ipython3",
   "version": "3.9.18"
  }
 },
 "nbformat": 4,
 "nbformat_minor": 2
}
