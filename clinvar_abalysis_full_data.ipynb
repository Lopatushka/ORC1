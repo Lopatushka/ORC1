{
 "cells": [
  {
   "cell_type": "code",
   "execution_count": 1,
   "metadata": {},
   "outputs": [],
   "source": [
    "from clinvar_functions import *\n",
    "import pandas as pd\n",
    "import matplotlib.pyplot as plt\n",
    "import pysam"
   ]
  },
  {
   "cell_type": "code",
   "execution_count": 2,
   "metadata": {},
   "outputs": [],
   "source": [
    "# Path to ClinVar VCF file\n",
    "vcf_file = \"clinvar.vcf\"\n",
    "\n",
    "# Open the VCF file\n",
    "vcf_reader = pysam.VariantFile(vcf_file)"
   ]
  },
  {
   "cell_type": "code",
   "execution_count": null,
   "metadata": {},
   "outputs": [],
   "source": [
    "variants = []\n",
    "\n",
    "for record in vcf_reader.fetch():\n",
    "    if 'ORC1' in record.info.get(\"GENEINFO\", []):\n",
    "        try: \n",
    "            variants.append(\n",
    "            {\n",
    "            \"CHROM\": record.chrom,  # Chromosome\n",
    "            \"POS\": record.pos,      # Position\n",
    "            \"ID\": record.id,        # Variant ID (e.g., rs number)\n",
    "            \"REF\": record.ref,      # Reference allele\n",
    "            \"ALT\": \",\".join(str(alt) for alt in record.alts),  # Alternate allele(s)\n",
    "            \"QUAL\": record.qual,    # Quality score\n",
    "            \"FILTER\": record.filter.keys(),  # Filter status\n",
    "            \"INFO\": record.info,    # Additional annotation info\n",
    "            \"RESULT\": record.info.get(\"MC\", [\"\"])[0],   # Consequence type\n",
    "            'CLNDN': record.info.get(\"CLNDN\", [\"\"])[0]\n",
    "        }\n",
    "            )\n",
    "        except:\n",
    "            pass\n",
    "\n",
    "# Convert to DataFrame\n",
    "df = pd.DataFrame(variants)"
   ]
  }
 ],
 "metadata": {
  "kernelspec": {
   "display_name": "bioinfo",
   "language": "python",
   "name": "python3"
  },
  "language_info": {
   "codemirror_mode": {
    "name": "ipython",
    "version": 3
   },
   "file_extension": ".py",
   "mimetype": "text/x-python",
   "name": "python",
   "nbconvert_exporter": "python",
   "pygments_lexer": "ipython3",
   "version": "3.9.18"
  }
 },
 "nbformat": 4,
 "nbformat_minor": 2
}
