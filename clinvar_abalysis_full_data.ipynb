{
 "cells": [
  {
   "cell_type": "code",
   "execution_count": 1,
   "metadata": {},
   "outputs": [],
   "source": [
    "from clinvar_functions import *\n",
    "import pandas as pd\n",
    "import matplotlib.pyplot as plt\n",
    "import pysam"
   ]
  },
  {
   "cell_type": "code",
   "execution_count": 2,
   "metadata": {},
   "outputs": [],
   "source": [
    "# Path to ClinVar VCF file\n",
    "vcf_file = \"./data/clinvar.vcf\"\n",
    "\n",
    "# Open the VCF file\n",
    "vcf_reader = pysam.VariantFile(vcf_file)"
   ]
  },
  {
   "cell_type": "markdown",
   "metadata": {},
   "source": [
    "Fields: ['ALLELEID',\n",
    " 'CLNDISDB',\n",
    " 'CLNDN',\n",
    " 'CLNHGVS',\n",
    " 'CLNREVSTAT',\n",
    " 'CLNSIG',\n",
    " 'CLNSIGSCV',\n",
    " 'CLNVC',\n",
    " 'CLNVCSO',\n",
    " 'CLNVI',\n",
    " 'GENEINFO',\n",
    " 'ORIGIN']"
   ]
  },
  {
   "cell_type": "code",
   "execution_count": 3,
   "metadata": {},
   "outputs": [
    {
     "name": "stderr",
     "output_type": "stream",
     "text": [
      "[W::vcf_parse] Contig '1' is not defined in the header. (Quick workaround: index the file with tabix.)\n",
      "[W::vcf_parse] Contig '2' is not defined in the header. (Quick workaround: index the file with tabix.)\n",
      "[W::vcf_parse] Contig '3' is not defined in the header. (Quick workaround: index the file with tabix.)\n",
      "[W::vcf_parse] Contig '4' is not defined in the header. (Quick workaround: index the file with tabix.)\n",
      "[W::vcf_parse] Contig '5' is not defined in the header. (Quick workaround: index the file with tabix.)\n",
      "[W::vcf_parse] Contig '6' is not defined in the header. (Quick workaround: index the file with tabix.)\n",
      "[W::vcf_parse] Contig '7' is not defined in the header. (Quick workaround: index the file with tabix.)\n",
      "[W::vcf_parse] Contig '8' is not defined in the header. (Quick workaround: index the file with tabix.)\n",
      "[W::vcf_parse] Contig '9' is not defined in the header. (Quick workaround: index the file with tabix.)\n",
      "[W::vcf_parse] Contig '10' is not defined in the header. (Quick workaround: index the file with tabix.)\n",
      "[W::vcf_parse] Contig '11' is not defined in the header. (Quick workaround: index the file with tabix.)\n",
      "[W::vcf_parse] Contig '12' is not defined in the header. (Quick workaround: index the file with tabix.)\n",
      "[W::vcf_parse] Contig '13' is not defined in the header. (Quick workaround: index the file with tabix.)\n",
      "[W::vcf_parse] Contig '14' is not defined in the header. (Quick workaround: index the file with tabix.)\n",
      "[W::vcf_parse] Contig '15' is not defined in the header. (Quick workaround: index the file with tabix.)\n",
      "[W::vcf_parse] Contig '16' is not defined in the header. (Quick workaround: index the file with tabix.)\n"
     ]
    },
    {
     "name": "stdout",
     "output_type": "stream",
     "text": [
      "Error processing record at 16:31092475:VKORC1:79001 - 'NoneType' object is not iterable\n",
      "Error processing record at 16:31096368:VKORC1:79001 - 'NoneType' object is not iterable\n"
     ]
    },
    {
     "name": "stderr",
     "output_type": "stream",
     "text": [
      "[W::vcf_parse] Contig '17' is not defined in the header. (Quick workaround: index the file with tabix.)\n",
      "[W::vcf_parse] Contig '18' is not defined in the header. (Quick workaround: index the file with tabix.)\n",
      "[W::vcf_parse] Contig '19' is not defined in the header. (Quick workaround: index the file with tabix.)\n",
      "[W::vcf_parse] Contig '20' is not defined in the header. (Quick workaround: index the file with tabix.)\n",
      "[W::vcf_parse] Contig '21' is not defined in the header. (Quick workaround: index the file with tabix.)\n",
      "[W::vcf_parse] Contig '22' is not defined in the header. (Quick workaround: index the file with tabix.)\n",
      "[W::vcf_parse] Contig 'X' is not defined in the header. (Quick workaround: index the file with tabix.)\n"
     ]
    },
    {
     "name": "stdout",
     "output_type": "stream",
     "text": [
      "(445, 10)\n"
     ]
    },
    {
     "name": "stderr",
     "output_type": "stream",
     "text": [
      "[W::vcf_parse] Contig 'Y' is not defined in the header. (Quick workaround: index the file with tabix.)\n",
      "[W::vcf_parse] Contig 'MT' is not defined in the header. (Quick workaround: index the file with tabix.)\n",
      "[W::vcf_parse] Contig 'NT_113889.1' is not defined in the header. (Quick workaround: index the file with tabix.)\n",
      "[W::vcf_parse] Contig 'NT_187633.1' is not defined in the header. (Quick workaround: index the file with tabix.)\n",
      "[W::vcf_parse] Contig 'NT_187661.1' is not defined in the header. (Quick workaround: index the file with tabix.)\n",
      "[W::vcf_parse] Contig 'NT_187693.1' is not defined in the header. (Quick workaround: index the file with tabix.)\n",
      "[W::vcf_parse] Contig 'NW_009646201.1' is not defined in the header. (Quick workaround: index the file with tabix.)\n"
     ]
    }
   ],
   "source": [
    "# Extract information from first 10 variants\n",
    "variants = []\n",
    "for record in vcf_reader.fetch():\n",
    "    gene_info = record.info.get(\"GENEINFO\", [\"\"])\n",
    "    if \"ORC1\" in gene_info:\n",
    "        try:\n",
    "            variant_info = {\n",
    "                \"CHROM\": record.chrom,  # Chromosome\n",
    "                \"POS\": record.pos,      # Position\n",
    "                \"ID\": record.id,        # Variant ID (e.g., rs number)\n",
    "                \"GENEINFO\":gene_info,   # Gene information\n",
    "                \"REF\": record.ref,      # Reference allele\n",
    "                \"ALT\": \",\".join(str(alt) for alt in record.alts),  # Alternate allele(s)\n",
    "                \"CLNREVSTAT\": record.info.get(\"CLNREVSTAT\"),  # Review status\n",
    "                \"CLNSIG\": record.info.get(\"CLNSIG\"),  # Clinical significance\n",
    "                \"RESULT\": record.info.get(\"MC\"),  # Molecular consequence\n",
    "                \"CLNDN\": record.info.get(\"CLNDN\")  # Disease name\n",
    "            }\n",
    "            variants.append(variant_info)\n",
    "        except Exception as e:\n",
    "            print(f\"Error processing record at {record.chrom}:{record.pos}:{gene_info} - {e}\")\n",
    "    \n",
    "\n",
    "# Convert to DataFrame\n",
    "df = pd.DataFrame(variants)\n",
    "print(df.shape)"
   ]
  },
  {
   "cell_type": "code",
   "execution_count": 4,
   "metadata": {},
   "outputs": [
    {
     "data": {
      "text/plain": [
       "{'MORC1:27136',\n",
       " 'ORC1:4998',\n",
       " 'ORC1:4998|LOC126805733:126805733',\n",
       " 'ORC1:4998|PRPF38A:84950',\n",
       " 'VKORC1:79001',\n",
       " 'VKORC1:79001|PRSS53:339105',\n",
       " 'VKORC1L1:154807'}"
      ]
     },
     "execution_count": 4,
     "metadata": {},
     "output_type": "execute_result"
    }
   ],
   "source": [
    "# List of genes after filtration\n",
    "set(df['GENEINFO'])"
   ]
  },
  {
   "cell_type": "code",
   "execution_count": 5,
   "metadata": {},
   "outputs": [
    {
     "name": "stdout",
     "output_type": "stream",
     "text": [
      "(339, 10)\n"
     ]
    }
   ],
   "source": [
    "# Filterded by gene name\n",
    "df = df[(df['GENEINFO']=='ORC1:4998|PRPF38A:84950') | (df['GENEINFO']=='ORC1:4998') | (df['GENEINFO']=='ORC1:4998|LOC126805733:126805733')]\n",
    "print(df.shape)"
   ]
  },
  {
   "cell_type": "markdown",
   "metadata": {},
   "source": [
    "Delete:\n",
    "\"no_classification_for_the_single_variant\" (2)\n",
    "no_assertion_criteria_provided (5) with 3 Meier-Gorlin_syndrome_1\n",
    "\n",
    "conflicting_classifications: if there is Meier-Gorlin_syndrome_1: put Meier-Gorlin_syndrome_1 probably. Else - delete"
   ]
  },
  {
   "cell_type": "code",
   "execution_count": 6,
   "metadata": {},
   "outputs": [],
   "source": [
    "# Change columns\n",
    "df[\"CLNSIG\"] = df[\"CLNSIG\"].apply(lambda x: convert_to_str(x))\n",
    "df[\"RESULT\"] = df[\"RESULT\"].apply(lambda x: convert_to_str(x))\n",
    "df[\"CLNDN\"] = df[\"CLNDN\"].apply(lambda x: convert_to_str(x))\n",
    "\n",
    "df[\"CRITERIA\"] = df[\"CLNREVSTAT\"].apply(lambda x: list(x)[0])\n",
    "df[\"SUBMITTION\"] = df[\"CLNREVSTAT\"].apply(lambda x: second_element(x))\n",
    "df[\"RESULT\"] = df[\"RESULT\"].apply(lambda x: split_row(x))\n",
    "\n",
    "df = df.drop(columns=['CLNREVSTAT'])\n",
    "\n",
    "# Data cleaning\n",
    "df = df[df[\"CLNSIG\"] != \"no_classification_for_the_single_variant\"]\n",
    "df = df[df[\"CLNSIG\"] != \"no_classification_for_the_single_variant\"]\n",
    "df = df[df[\"CRITERIA\"] != \"no_assertion_criteria_provided\"]\n",
    "\n",
    "# Create new column\n",
    "df[\"CLNDN_NEW\"] = df[\"CLNDN\"].map(rename_condition_2, na_action='ignore')"
   ]
  },
  {
   "cell_type": "markdown",
   "metadata": {},
   "source": [
    "# Statistics"
   ]
  },
  {
   "cell_type": "code",
   "execution_count": 7,
   "metadata": {},
   "outputs": [
    {
     "data": {
      "text/plain": [
       "CLNSIG\n",
       "Uncertain_significance                          158\n",
       "Likely_benign                                    97\n",
       "Benign                                           24\n",
       "Conflicting_classifications_of_pathogenicity     22\n",
       "Pathogenic                                       13\n",
       "Benign/Likely_benign                              9\n",
       "Likely_pathogenic                                 8\n",
       "Pathogenic/Likely_pathogenic                      1\n",
       "Name: count, dtype: int64"
      ]
     },
     "execution_count": 7,
     "metadata": {},
     "output_type": "execute_result"
    }
   ],
   "source": [
    "df[\"CLNSIG\"].value_counts()"
   ]
  },
  {
   "cell_type": "code",
   "execution_count": 8,
   "metadata": {},
   "outputs": [
    {
     "data": {
      "text/plain": [
       "CRITERIA\n",
       "criteria_provided    332\n",
       "Name: count, dtype: int64"
      ]
     },
     "execution_count": 8,
     "metadata": {},
     "output_type": "execute_result"
    }
   ],
   "source": [
    "df[\"CRITERIA\"].value_counts()"
   ]
  },
  {
   "cell_type": "code",
   "execution_count": 9,
   "metadata": {},
   "outputs": [
    {
     "data": {
      "text/plain": [
       "SUBMITTION\n",
       "single_submitter               248\n",
       "not_specified                   62\n",
       "conflicting_classifications     22\n",
       "Name: count, dtype: int64"
      ]
     },
     "execution_count": 9,
     "metadata": {},
     "output_type": "execute_result"
    }
   ],
   "source": [
    "df[\"SUBMITTION\"].value_counts()"
   ]
  },
  {
   "cell_type": "code",
   "execution_count": 10,
   "metadata": {},
   "outputs": [
    {
     "data": {
      "text/plain": [
       "RESULT\n",
       "missense_variant                     174\n",
       "synonymous_variant                    77\n",
       "intron_variant                        56\n",
       "frameshift_variant                     7\n",
       "splice_acceptor_variant                5\n",
       "nonsense                               4\n",
       "3_prime_UTR_variant                    3\n",
       "splice_donor_variant                   2\n",
       "not_specified                          1\n",
       "inframe_deletion                       1\n",
       "5_prime_UTR_variant                    1\n",
       "genic_upstream_transcript_variant      1\n",
       "Name: count, dtype: int64"
      ]
     },
     "execution_count": 10,
     "metadata": {},
     "output_type": "execute_result"
    }
   ],
   "source": [
    "df[\"RESULT\"].value_counts()"
   ]
  },
  {
   "cell_type": "code",
   "execution_count": 11,
   "metadata": {},
   "outputs": [
    {
     "data": {
      "text/plain": [
       "CLNDN_NEW\n",
       "not_provided                        200\n",
       "Meier-Gorlin_syndrome_1_probably     46\n",
       "Inborn_genetic_diseases              33\n",
       "Meier-Gorlin_syndrome_1              28\n",
       "Inborn_genetic_diseases_probably     20\n",
       "ORC1-related_disorder_probably        5\n",
       "Name: count, dtype: int64"
      ]
     },
     "execution_count": 11,
     "metadata": {},
     "output_type": "execute_result"
    }
   ],
   "source": [
    "df[\"CLNDN_NEW\"].value_counts()"
   ]
  },
  {
   "cell_type": "code",
   "execution_count": 20,
   "metadata": {},
   "outputs": [
    {
     "data": {
      "text/plain": [
       "CLNDN_NEW                         CLNSIG                                      \n",
       "Inborn_genetic_diseases           Likely_benign                                    3\n",
       "                                  Likely_pathogenic                                1\n",
       "                                  Uncertain_significance                          29\n",
       "Inborn_genetic_diseases_probably  Conflicting_classifications_of_pathogenicity     5\n",
       "                                  Likely_pathogenic                                1\n",
       "                                  Uncertain_significance                          14\n",
       "Meier-Gorlin_syndrome_1           Likely_pathogenic                                2\n",
       "                                  Pathogenic                                       5\n",
       "                                  Uncertain_significance                          21\n",
       "Meier-Gorlin_syndrome_1_probably  Benign                                           9\n",
       "                                  Benign/Likely_benign                             8\n",
       "                                  Conflicting_classifications_of_pathogenicity    16\n",
       "                                  Likely_pathogenic                                1\n",
       "                                  Pathogenic/Likely_pathogenic                     1\n",
       "                                  Uncertain_significance                          11\n",
       "ORC1-related_disorder_probably    Likely_benign                                    4\n",
       "                                  Uncertain_significance                           1\n",
       "not_provided                      Benign                                          15\n",
       "                                  Benign/Likely_benign                             1\n",
       "                                  Conflicting_classifications_of_pathogenicity     1\n",
       "                                  Likely_benign                                   90\n",
       "                                  Likely_pathogenic                                3\n",
       "                                  Pathogenic                                       8\n",
       "                                  Uncertain_significance                          82\n",
       "Name: RESULT, dtype: int64"
      ]
     },
     "execution_count": 20,
     "metadata": {},
     "output_type": "execute_result"
    }
   ],
   "source": [
    "df.groupby(['CLNDN_NEW','CLNSIG']).count()['RESULT']"
   ]
  },
  {
   "cell_type": "code",
   "execution_count": 28,
   "metadata": {},
   "outputs": [
    {
     "data": {
      "text/plain": [
       "(22, 12)"
      ]
     },
     "execution_count": 28,
     "metadata": {},
     "output_type": "execute_result"
    }
   ],
   "source": [
    "df_filtered = df[(df[\"CLNSIG\"]=='Pathogenic') | (df[\"CLNSIG\"]=='Likely_pathogenic')| (df[\"CLNSIG\"]=='Pathogenic/Likely_pathogenic')]\n",
    "df_filtered.shape"
   ]
  },
  {
   "cell_type": "code",
   "execution_count": 30,
   "metadata": {},
   "outputs": [
    {
     "data": {
      "text/plain": [
       "RESULT\n",
       "frameshift_variant         7\n",
       "splice_acceptor_variant    5\n",
       "missense_variant           5\n",
       "nonsense                   3\n",
       "not_specified              1\n",
       "splice_donor_variant       1\n",
       "Name: count, dtype: int64"
      ]
     },
     "execution_count": 30,
     "metadata": {},
     "output_type": "execute_result"
    }
   ],
   "source": [
    "df_filtered['RESULT'].value_counts()"
   ]
  }
 ],
 "metadata": {
  "kernelspec": {
   "display_name": "bioinfo",
   "language": "python",
   "name": "python3"
  },
  "language_info": {
   "codemirror_mode": {
    "name": "ipython",
    "version": 3
   },
   "file_extension": ".py",
   "mimetype": "text/x-python",
   "name": "python",
   "nbconvert_exporter": "python",
   "pygments_lexer": "ipython3",
   "version": "3.9.18"
  }
 },
 "nbformat": 4,
 "nbformat_minor": 2
}
