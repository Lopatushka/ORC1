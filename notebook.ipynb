{
 "cells": [
  {
   "cell_type": "markdown",
   "metadata": {},
   "source": [
    "# Analysis of clinical variatns of ORC1 protein"
   ]
  },
  {
   "cell_type": "markdown",
   "metadata": {},
   "source": [
    "## ORC1 regions"
   ]
  },
  {
   "cell_type": "code",
   "execution_count": 24,
   "metadata": {},
   "outputs": [],
   "source": [
    "LLPS = [(360, 382), (412, 476), (577, 636), (677, 729), (757, 816)] # Chinees paper\n",
    "IDR_total = [(183, 476)] # Chinees paper\n",
    "G4_RNA = [(413, 511)] # Hoshina paper\n"
   ]
  },
  {
   "cell_type": "code",
   "execution_count": 25,
   "metadata": {},
   "outputs": [],
   "source": [
    "def generate_list(x):\n",
    "    '''Generate a list of all numbers in the given intervals'''\n",
    "    generated_list = []\n",
    "    for start, end in x:\n",
    "        generated_list.extend(range(start, end + 1))  # `end + 1` to include the endpoint\n",
    "    return generated_list"
   ]
  },
  {
   "cell_type": "code",
   "execution_count": 32,
   "metadata": {},
   "outputs": [],
   "source": [
    "G4_RNA_positions = generate_list(G4_RNA)\n",
    "LLPS_positions = generate_list(LLPS)"
   ]
  },
  {
   "cell_type": "markdown",
   "metadata": {},
   "source": [
    "## Read data"
   ]
  },
  {
   "cell_type": "code",
   "execution_count": 26,
   "metadata": {},
   "outputs": [
    {
     "data": {
      "text/plain": [
       "(333, 25)"
      ]
     },
     "execution_count": 26,
     "metadata": {},
     "output_type": "execute_result"
    }
   ],
   "source": [
    "import pandas as pd\n",
    "import re\n",
    "# Set option to display all rows and columns\n",
    "pd.set_option('display.max_rows', None)\n",
    "pd.set_option('display.max_columns', None)\n",
    "\n",
    "df = pd.read_csv('clinvar_result.csv', sep = \"\\t\")\n",
    "df = df[df['Gene(s)'] == 'ORC1'] # save only ORC1 gene - delete 7 records\n",
    "df.shape"
   ]
  },
  {
   "cell_type": "code",
   "execution_count": 27,
   "metadata": {},
   "outputs": [
    {
     "data": {
      "text/html": [
       "<div>\n",
       "<style scoped>\n",
       "    .dataframe tbody tr th:only-of-type {\n",
       "        vertical-align: middle;\n",
       "    }\n",
       "\n",
       "    .dataframe tbody tr th {\n",
       "        vertical-align: top;\n",
       "    }\n",
       "\n",
       "    .dataframe thead th {\n",
       "        text-align: right;\n",
       "    }\n",
       "</style>\n",
       "<table border=\"1\" class=\"dataframe\">\n",
       "  <thead>\n",
       "    <tr style=\"text-align: right;\">\n",
       "      <th></th>\n",
       "      <th>Name</th>\n",
       "      <th>Gene(s)</th>\n",
       "      <th>Protein change</th>\n",
       "      <th>Condition(s)</th>\n",
       "      <th>Accession</th>\n",
       "      <th>GRCh37Chromosome</th>\n",
       "      <th>GRCh37Location</th>\n",
       "      <th>GRCh38Chromosome</th>\n",
       "      <th>GRCh38Location</th>\n",
       "      <th>VariationID</th>\n",
       "      <th>AlleleID(s)</th>\n",
       "      <th>dbSNP ID</th>\n",
       "      <th>Canonical SPDI</th>\n",
       "      <th>Variant type</th>\n",
       "      <th>Molecular consequence</th>\n",
       "      <th>Germline classification</th>\n",
       "      <th>Germline date last evaluated</th>\n",
       "      <th>Germline review status</th>\n",
       "      <th>Somatic clinical impact</th>\n",
       "      <th>Somatic clinical impact date last evaluated</th>\n",
       "      <th>Somatic clinical impact review status</th>\n",
       "      <th>Oncogenicity classification</th>\n",
       "      <th>Oncogenicity date last evaluated</th>\n",
       "      <th>Oncogenicity review status</th>\n",
       "      <th>Unnamed: 24</th>\n",
       "    </tr>\n",
       "  </thead>\n",
       "  <tbody>\n",
       "    <tr>\n",
       "      <th>0</th>\n",
       "      <td>NM_001190818.1(ORC1):c.2392-249_*3804del</td>\n",
       "      <td>ORC1</td>\n",
       "      <td>NaN</td>\n",
       "      <td>Meier-Gorlin syndrome 1</td>\n",
       "      <td>VCV001173067</td>\n",
       "      <td>1</td>\n",
       "      <td>52835048 - 52839295</td>\n",
       "      <td>1</td>\n",
       "      <td>52369376 - 52373623</td>\n",
       "      <td>1173067</td>\n",
       "      <td>1162237</td>\n",
       "      <td>NaN</td>\n",
       "      <td>NaN</td>\n",
       "      <td>Deletion</td>\n",
       "      <td>NaN</td>\n",
       "      <td>Pathogenic</td>\n",
       "      <td>NaN</td>\n",
       "      <td>criteria provided, single submitter</td>\n",
       "      <td>NaN</td>\n",
       "      <td>NaN</td>\n",
       "      <td>NaN</td>\n",
       "      <td>NaN</td>\n",
       "      <td>NaN</td>\n",
       "      <td>NaN</td>\n",
       "      <td>NaN</td>\n",
       "    </tr>\n",
       "    <tr>\n",
       "      <th>1</th>\n",
       "      <td>NM_004153.4(ORC1):c.*231C&gt;T</td>\n",
       "      <td>ORC1</td>\n",
       "      <td>NaN</td>\n",
       "      <td>Meier-Gorlin syndrome 1|not provided</td>\n",
       "      <td>VCV000297574</td>\n",
       "      <td>1</td>\n",
       "      <td>52838622</td>\n",
       "      <td>1</td>\n",
       "      <td>52372950</td>\n",
       "      <td>297574</td>\n",
       "      <td>282556</td>\n",
       "      <td>rs3087471</td>\n",
       "      <td>NC_000001.11:52372949:G:A</td>\n",
       "      <td>single nucleotide variant</td>\n",
       "      <td>3 prime UTR variant</td>\n",
       "      <td>Benign</td>\n",
       "      <td>Jun 20, 2021</td>\n",
       "      <td>criteria provided, multiple submitters, no con...</td>\n",
       "      <td>NaN</td>\n",
       "      <td>NaN</td>\n",
       "      <td>NaN</td>\n",
       "      <td>NaN</td>\n",
       "      <td>NaN</td>\n",
       "      <td>NaN</td>\n",
       "      <td>NaN</td>\n",
       "    </tr>\n",
       "    <tr>\n",
       "      <th>2</th>\n",
       "      <td>NM_004153.4(ORC1):c.*226G&gt;C</td>\n",
       "      <td>ORC1</td>\n",
       "      <td>NaN</td>\n",
       "      <td>Meier-Gorlin syndrome 1</td>\n",
       "      <td>VCV000297575</td>\n",
       "      <td>1</td>\n",
       "      <td>52838627</td>\n",
       "      <td>1</td>\n",
       "      <td>52372955</td>\n",
       "      <td>297575</td>\n",
       "      <td>282836</td>\n",
       "      <td>rs886046395</td>\n",
       "      <td>NC_000001.11:52372954:C:G</td>\n",
       "      <td>single nucleotide variant</td>\n",
       "      <td>3 prime UTR variant</td>\n",
       "      <td>Uncertain significance</td>\n",
       "      <td>Jan 13, 2018</td>\n",
       "      <td>criteria provided, single submitter</td>\n",
       "      <td>NaN</td>\n",
       "      <td>NaN</td>\n",
       "      <td>NaN</td>\n",
       "      <td>NaN</td>\n",
       "      <td>NaN</td>\n",
       "      <td>NaN</td>\n",
       "      <td>NaN</td>\n",
       "    </tr>\n",
       "    <tr>\n",
       "      <th>3</th>\n",
       "      <td>NM_004153.4(ORC1):c.*94C&gt;T</td>\n",
       "      <td>ORC1</td>\n",
       "      <td>NaN</td>\n",
       "      <td>Meier-Gorlin syndrome 1</td>\n",
       "      <td>VCV000297576</td>\n",
       "      <td>1</td>\n",
       "      <td>52838759</td>\n",
       "      <td>1</td>\n",
       "      <td>52373087</td>\n",
       "      <td>297576</td>\n",
       "      <td>281284</td>\n",
       "      <td>rs574908976</td>\n",
       "      <td>NC_000001.11:52373086:G:A</td>\n",
       "      <td>single nucleotide variant</td>\n",
       "      <td>3 prime UTR variant</td>\n",
       "      <td>Uncertain significance</td>\n",
       "      <td>Jan 13, 2018</td>\n",
       "      <td>criteria provided, single submitter</td>\n",
       "      <td>NaN</td>\n",
       "      <td>NaN</td>\n",
       "      <td>NaN</td>\n",
       "      <td>NaN</td>\n",
       "      <td>NaN</td>\n",
       "      <td>NaN</td>\n",
       "      <td>NaN</td>\n",
       "    </tr>\n",
       "    <tr>\n",
       "      <th>4</th>\n",
       "      <td>NM_004153.4(ORC1):c.2580C&gt;T (p.Asp860=)</td>\n",
       "      <td>ORC1</td>\n",
       "      <td>NaN</td>\n",
       "      <td>ORC1-related disorder|Meier-Gorlin syndrome 1|...</td>\n",
       "      <td>VCV000703217</td>\n",
       "      <td>1</td>\n",
       "      <td>52838859</td>\n",
       "      <td>1</td>\n",
       "      <td>52373187</td>\n",
       "      <td>703217</td>\n",
       "      <td>690638</td>\n",
       "      <td>rs61756139</td>\n",
       "      <td>NC_000001.11:52373186:G:A</td>\n",
       "      <td>single nucleotide variant</td>\n",
       "      <td>synonymous variant</td>\n",
       "      <td>Conflicting classifications of pathogenicity</td>\n",
       "      <td>Dec 13, 2023</td>\n",
       "      <td>criteria provided, conflicting classifications</td>\n",
       "      <td>NaN</td>\n",
       "      <td>NaN</td>\n",
       "      <td>NaN</td>\n",
       "      <td>NaN</td>\n",
       "      <td>NaN</td>\n",
       "      <td>NaN</td>\n",
       "      <td>NaN</td>\n",
       "    </tr>\n",
       "  </tbody>\n",
       "</table>\n",
       "</div>"
      ],
      "text/plain": [
       "                                       Name Gene(s) Protein change  \\\n",
       "0  NM_001190818.1(ORC1):c.2392-249_*3804del    ORC1            NaN   \n",
       "1               NM_004153.4(ORC1):c.*231C>T    ORC1            NaN   \n",
       "2               NM_004153.4(ORC1):c.*226G>C    ORC1            NaN   \n",
       "3                NM_004153.4(ORC1):c.*94C>T    ORC1            NaN   \n",
       "4   NM_004153.4(ORC1):c.2580C>T (p.Asp860=)    ORC1            NaN   \n",
       "\n",
       "                                        Condition(s)     Accession  \\\n",
       "0                            Meier-Gorlin syndrome 1  VCV001173067   \n",
       "1               Meier-Gorlin syndrome 1|not provided  VCV000297574   \n",
       "2                            Meier-Gorlin syndrome 1  VCV000297575   \n",
       "3                            Meier-Gorlin syndrome 1  VCV000297576   \n",
       "4  ORC1-related disorder|Meier-Gorlin syndrome 1|...  VCV000703217   \n",
       "\n",
       "  GRCh37Chromosome       GRCh37Location GRCh38Chromosome       GRCh38Location  \\\n",
       "0                1  52835048 - 52839295                1  52369376 - 52373623   \n",
       "1                1             52838622                1             52372950   \n",
       "2                1             52838627                1             52372955   \n",
       "3                1             52838759                1             52373087   \n",
       "4                1             52838859                1             52373187   \n",
       "\n",
       "   VariationID AlleleID(s)     dbSNP ID             Canonical SPDI  \\\n",
       "0      1173067     1162237          NaN                        NaN   \n",
       "1       297574      282556    rs3087471  NC_000001.11:52372949:G:A   \n",
       "2       297575      282836  rs886046395  NC_000001.11:52372954:C:G   \n",
       "3       297576      281284  rs574908976  NC_000001.11:52373086:G:A   \n",
       "4       703217      690638   rs61756139  NC_000001.11:52373186:G:A   \n",
       "\n",
       "                Variant type Molecular consequence  \\\n",
       "0                   Deletion                   NaN   \n",
       "1  single nucleotide variant   3 prime UTR variant   \n",
       "2  single nucleotide variant   3 prime UTR variant   \n",
       "3  single nucleotide variant   3 prime UTR variant   \n",
       "4  single nucleotide variant    synonymous variant   \n",
       "\n",
       "                        Germline classification Germline date last evaluated  \\\n",
       "0                                    Pathogenic                          NaN   \n",
       "1                                        Benign                 Jun 20, 2021   \n",
       "2                        Uncertain significance                 Jan 13, 2018   \n",
       "3                        Uncertain significance                 Jan 13, 2018   \n",
       "4  Conflicting classifications of pathogenicity                 Dec 13, 2023   \n",
       "\n",
       "                              Germline review status Somatic clinical impact  \\\n",
       "0                criteria provided, single submitter                     NaN   \n",
       "1  criteria provided, multiple submitters, no con...                     NaN   \n",
       "2                criteria provided, single submitter                     NaN   \n",
       "3                criteria provided, single submitter                     NaN   \n",
       "4     criteria provided, conflicting classifications                     NaN   \n",
       "\n",
       "   Somatic clinical impact date last evaluated  \\\n",
       "0                                          NaN   \n",
       "1                                          NaN   \n",
       "2                                          NaN   \n",
       "3                                          NaN   \n",
       "4                                          NaN   \n",
       "\n",
       "  Somatic clinical impact review status Oncogenicity classification  \\\n",
       "0                                   NaN                         NaN   \n",
       "1                                   NaN                         NaN   \n",
       "2                                   NaN                         NaN   \n",
       "3                                   NaN                         NaN   \n",
       "4                                   NaN                         NaN   \n",
       "\n",
       "   Oncogenicity date last evaluated Oncogenicity review status  Unnamed: 24  \n",
       "0                               NaN                        NaN          NaN  \n",
       "1                               NaN                        NaN          NaN  \n",
       "2                               NaN                        NaN          NaN  \n",
       "3                               NaN                        NaN          NaN  \n",
       "4                               NaN                        NaN          NaN  "
      ]
     },
     "execution_count": 27,
     "metadata": {},
     "output_type": "execute_result"
    }
   ],
   "source": [
    "df.head()"
   ]
  },
  {
   "cell_type": "code",
   "execution_count": 22,
   "metadata": {},
   "outputs": [],
   "source": [
    "# Subset of data: only mutations in protein\n",
    "df_proteins = df[df['Protein change'].apply(lambda x: isinstance(x, str))]"
   ]
  },
  {
   "cell_type": "markdown",
   "metadata": {},
   "source": [
    "## Look at the different columns of df"
   ]
  },
  {
   "cell_type": "code",
   "execution_count": null,
   "metadata": {},
   "outputs": [],
   "source": [
    "df[\"Condition(s)\"].value_counts()"
   ]
  },
  {
   "cell_type": "code",
   "execution_count": null,
   "metadata": {},
   "outputs": [],
   "source": [
    "df[\"Germline classification\"].value_counts()"
   ]
  },
  {
   "cell_type": "code",
   "execution_count": null,
   "metadata": {},
   "outputs": [],
   "source": [
    "df['Germline review status'].value_counts()"
   ]
  },
  {
   "cell_type": "markdown",
   "metadata": {},
   "source": [
    "## Get list of transcript IDs"
   ]
  },
  {
   "cell_type": "code",
   "execution_count": null,
   "metadata": {},
   "outputs": [],
   "source": [
    "IDs = df['Name'].apply(lambda x: x.split(\":\")[0])\n",
    "IDs.value_counts()"
   ]
  },
  {
   "cell_type": "markdown",
   "metadata": {},
   "source": [
    "## Rename Condition"
   ]
  },
  {
   "cell_type": "code",
   "execution_count": null,
   "metadata": {},
   "outputs": [],
   "source": [
    "df['Condition(s)'].unique()"
   ]
  },
  {
   "cell_type": "code",
   "execution_count": 28,
   "metadata": {},
   "outputs": [],
   "source": [
    "def rename_condition(x):\n",
    "    if x == 'Meier-Gorlin syndrome 1':\n",
    "        return x\n",
    "    elif 'Meier-Gorlin syndrome 1' in x:\n",
    "        return \"Meier-Gorlin syndrome 1 probaly\"\n",
    "    elif x == 'ORC1-related disorder':\n",
    "        return x\n",
    "    elif 'ORC1-related disorder' in x:\n",
    "        return 'ORC1-related disorder probably'\n",
    "    elif x == \"Inborn genetic diseases\":\n",
    "        return x\n",
    "    elif 'Inborn genetic diseases' in x:\n",
    "        return 'Inborn genetic diseases probably'\n",
    "    elif x == \"not provided\":\n",
    "        return \"not provided\"\n",
    "    elif \"not provided\" in x:\n",
    "        return \"not provided\"\n",
    "    else:\n",
    "        return x"
   ]
  },
  {
   "cell_type": "code",
   "execution_count": 29,
   "metadata": {},
   "outputs": [],
   "source": [
    "df['Condition_new'] = df['Condition(s)'].map(rename_condition, na_action='ignore')"
   ]
  },
  {
   "cell_type": "code",
   "execution_count": 30,
   "metadata": {},
   "outputs": [
    {
     "data": {
      "text/plain": [
       "Condition_new\n",
       "not provided                        206\n",
       "Meier-Gorlin syndrome 1 probaly      42\n",
       "Meier-Gorlin syndrome 1              30\n",
       "Inborn genetic diseases              30\n",
       "Inborn genetic diseases probably     12\n",
       "ORC1-related disorder probably        6\n",
       "not specified                         5\n",
       "Name: count, dtype: int64"
      ]
     },
     "execution_count": 30,
     "metadata": {},
     "output_type": "execute_result"
    }
   ],
   "source": [
    "df['Condition_new'].value_counts()"
   ]
  },
  {
   "cell_type": "markdown",
   "metadata": {},
   "source": [
    "## Groupby"
   ]
  },
  {
   "cell_type": "code",
   "execution_count": null,
   "metadata": {},
   "outputs": [],
   "source": [
    "df.groupby(\"Germline review status\")[\"Condition_new\"].value_counts()"
   ]
  },
  {
   "cell_type": "markdown",
   "metadata": {},
   "source": [
    "## Subsets"
   ]
  },
  {
   "cell_type": "code",
   "execution_count": 34,
   "metadata": {},
   "outputs": [],
   "source": [
    "def mutation_analysis(sb, li):\n",
    "    '''\n",
    "    Input - subset of dataframe, list of position within interval of interest\n",
    "    '''\n",
    "    sb.dropna(inplace=True)\n",
    "    sb = list(sb)\n",
    "    interval_mutations = []\n",
    "    no_interval_mutations = []\n",
    "    for mutation in sb:\n",
    "        positions = list(map(int, re.findall(r'\\d+', mutation)))\n",
    "        for position in positions:\n",
    "            if position in li:\n",
    "                interval_mutations.append(mutation)\n",
    "            else:\n",
    "                no_interval_mutations.append(mutation)\n",
    "    print(f\"Number of mutations within interaval of interest is {len(interval_mutations)}\")\n",
    "    print(f\"Number of mutations outside interaval of interest is {len(no_interval_mutations)}\")\n",
    "    return(interval_mutations, no_interval_mutations)"
   ]
  },
  {
   "cell_type": "code",
   "execution_count": 29,
   "metadata": {},
   "outputs": [],
   "source": [
    "G4_RNA_positions"
   ]
  },
  {
   "cell_type": "code",
   "execution_count": 87,
   "metadata": {},
   "outputs": [],
   "source": [
    "# Protein change: criteria provided, multiple submitters, no conflicts + Meier-Gorlin syndrome 1 probaly\n",
    "protein_mut = df['Protein change'][(df['Germline review status'] == 'criteria provided, multiple submitters, no conflicts') & (df['Condition_new']=='not provided')]"
   ]
  },
  {
   "cell_type": "code",
   "execution_count": 90,
   "metadata": {},
   "outputs": [],
   "source": [
    "# Protein change + criteria provided, single submitter + Meier-Gorlin syndrome 1 probaly\n",
    "protein_mut = df['Protein change'][(df['Germline review status'] == 'criteria provided, single submitter') & (df['Condition_new']=='not provided')]"
   ]
  },
  {
   "cell_type": "code",
   "execution_count": 91,
   "metadata": {},
   "outputs": [
    {
     "name": "stdout",
     "output_type": "stream",
     "text": [
      "Number of mutations within interaval of interest is 23\n",
      "Number of mutations outside interaval of interest is 111\n"
     ]
    }
   ],
   "source": [
    "yes, no = mutation_analysis(protein_mut, G4_RNA_positions)"
   ]
  },
  {
   "cell_type": "code",
   "execution_count": 92,
   "metadata": {},
   "outputs": [
    {
     "data": {
      "text/plain": [
       "['N511S, N516S',\n",
       " 'I509V, I514V',\n",
       " 'I509L, I514L',\n",
       " 'E497Q, E502Q',\n",
       " 'E497Q, E502Q',\n",
       " 'V495A, V500A',\n",
       " 'V495A, V500A',\n",
       " 'S473N, S478N',\n",
       " 'S473N, S478N',\n",
       " 'R470H, R475H',\n",
       " 'R470H, R475H',\n",
       " 'R470C, R475C',\n",
       " 'R470C, R475C',\n",
       " 'R463C, R468C',\n",
       " 'R463C, R468C',\n",
       " 'K460del',\n",
       " 'T455A',\n",
       " 'R444L',\n",
       " 'R444*',\n",
       " 'R441M',\n",
       " 'T438N',\n",
       " 'P430A',\n",
       " 'D418E']"
      ]
     },
     "execution_count": 92,
     "metadata": {},
     "output_type": "execute_result"
    }
   ],
   "source": [
    "yes"
   ]
  },
  {
   "cell_type": "code",
   "execution_count": 93,
   "metadata": {},
   "outputs": [
    {
     "data": {
      "text/plain": [
       "['R841Q, R846Q',\n",
       " 'R841Q, R846Q',\n",
       " 'R839Q, R844Q',\n",
       " 'R839Q, R844Q',\n",
       " 'D840N, D835N',\n",
       " 'D840N, D835N',\n",
       " 'E830D, E835D',\n",
       " 'E830D, E835D',\n",
       " 'R825C, R830C',\n",
       " 'R825C, R830C',\n",
       " 'V822L, V817L',\n",
       " 'V822L, V817L',\n",
       " 'P809S, P814S',\n",
       " 'P809S, P814S',\n",
       " 'M803V, M808V',\n",
       " 'M803V, M808V',\n",
       " 'H802R, H797R',\n",
       " 'H802R, H797R',\n",
       " 'I793M, I798M',\n",
       " 'I793M, I798M',\n",
       " 'T789M, T794M',\n",
       " 'T789M, T794M',\n",
       " 'R786C, R781C',\n",
       " 'R786C, R781C',\n",
       " 'V767L, V772L',\n",
       " 'V767L, V772L',\n",
       " 'K763R, K768R',\n",
       " 'K763R, K768R',\n",
       " 'M753T, M758T',\n",
       " 'M753T, M758T',\n",
       " 'E748D, E753D',\n",
       " 'E748D, E753D',\n",
       " 'G739fs, G744fs',\n",
       " 'G739fs, G744fs',\n",
       " 'E726fs, E731fs',\n",
       " 'E726fs, E731fs',\n",
       " 'R728H, R723H',\n",
       " 'R728H, R723H',\n",
       " 'R728C, R723C',\n",
       " 'R728C, R723C',\n",
       " 'C721fs, C726fs',\n",
       " 'C721fs, C726fs',\n",
       " 'D697G, D702G',\n",
       " 'D697G, D702G',\n",
       " 'R688W, R693W',\n",
       " 'R688W, R693W',\n",
       " 'Y683F, Y678F',\n",
       " 'Y683F, Y678F',\n",
       " 'R666W, R661W',\n",
       " 'R666W, R661W',\n",
       " 'M659I, M664I',\n",
       " 'M659I, M664I',\n",
       " 'M658T, M663T',\n",
       " 'M658T, M663T',\n",
       " 'I647T, I652T',\n",
       " 'I647T, I652T',\n",
       " 'A640T, A645T',\n",
       " 'A640T, A645T',\n",
       " 'I632V, I627V',\n",
       " 'I632V, I627V',\n",
       " 'D623G, D618G',\n",
       " 'D623G, D618G',\n",
       " 'Q599*, Q604*',\n",
       " 'Q599*, Q604*',\n",
       " 'A597T, A592T',\n",
       " 'A597T, A592T',\n",
       " 'I561T, I566T',\n",
       " 'I561T, I566T',\n",
       " 'N558S, N553S',\n",
       " 'N558S, N553S',\n",
       " 'C550Y, C545Y',\n",
       " 'C550Y, C545Y',\n",
       " 'G534R, G529R',\n",
       " 'G534R, G529R',\n",
       " 'G529S, G534S',\n",
       " 'G529S, G534S',\n",
       " 'L517P, L522P',\n",
       " 'L517P, L522P',\n",
       " 'N511S, N516S',\n",
       " 'I509V, I514V',\n",
       " 'I509L, I514L',\n",
       " 'S401G',\n",
       " 'R380H',\n",
       " 'H377R',\n",
       " 'V351M',\n",
       " 'D329E',\n",
       " 'A323V',\n",
       " 'R321*',\n",
       " 'A292V',\n",
       " 'R277S',\n",
       " 'R264W',\n",
       " 'S252L',\n",
       " 'S248F',\n",
       " 'K235fs',\n",
       " 'T230N',\n",
       " 'R222H',\n",
       " 'R222L',\n",
       " 'K220R',\n",
       " 'A218T',\n",
       " 'K210E',\n",
       " 'S201Y',\n",
       " 'A197S',\n",
       " 'K193M',\n",
       " 'A184V',\n",
       " 'F155Y',\n",
       " 'T146M',\n",
       " 'L103S',\n",
       " 'F92fs',\n",
       " 'R83C',\n",
       " 'E39D',\n",
       " 'H3P']"
      ]
     },
     "execution_count": 93,
     "metadata": {},
     "output_type": "execute_result"
    }
   ],
   "source": [
    "no"
   ]
  }
 ],
 "metadata": {
  "kernelspec": {
   "display_name": "bioinfo",
   "language": "python",
   "name": "python3"
  },
  "language_info": {
   "codemirror_mode": {
    "name": "ipython",
    "version": 3
   },
   "file_extension": ".py",
   "mimetype": "text/x-python",
   "name": "python",
   "nbconvert_exporter": "python",
   "pygments_lexer": "ipython3",
   "version": "3.12.1"
  }
 },
 "nbformat": 4,
 "nbformat_minor": 2
}
