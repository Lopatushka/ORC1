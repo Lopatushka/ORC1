{
 "cells": [
  {
   "cell_type": "code",
   "execution_count": 1,
   "metadata": {},
   "outputs": [
    {
     "name": "stdout",
     "output_type": "stream",
     "text": [
      "Download complete.\n"
     ]
    }
   ],
   "source": [
    "# Download the list of Clinvar XML releases\n",
    "import requests\n",
    "\n",
    "clinvar_xml_url = \"https://ftp.ncbi.nlm.nih.gov/pub/clinvar/xml/\"\n",
    "output_file = \"ClinVarFullRelease.xml.gz\"\n",
    "\n",
    "# Stream download\n",
    "response = requests.get(clinvar_xml_url, stream=True)\n",
    "if response.status_code == 200:\n",
    "    with open(output_file, \"wb\") as f:\n",
    "        for chunk in response.iter_content(chunk_size=8192):\n",
    "            f.write(chunk)\n",
    "    print(\"Download complete.\")\n",
    "else:\n",
    "    print(f\"Download failed! HTTP status code: {response.status_code}\")\n"
   ]
  },
  {
   "cell_type": "code",
   "execution_count": null,
   "metadata": {},
   "outputs": [
    {
     "name": "stdout",
     "output_type": "stream",
     "text": [
      "https://ftp.ncbi.nlm.nih.gov/pub/clinvar/xml/ClinVarFullRelease_2023-10.xml.gz\n",
      "https://ftp.ncbi.nlm.nih.gov/pub/clinvar/xml/ClinVarFullRelease_2024-02.xml.gz\n",
      "https://ftp.ncbi.nlm.nih.gov/pub/clinvar/xml/ClinVarFullRelease_2024-04.xml.gz\n",
      "https://ftp.ncbi.nlm.nih.gov/pub/clinvar/xml/ClinVarVCVRelease_00-latest.xml.gz\n",
      "https://ftp.ncbi.nlm.nih.gov/pub/clinvar/xml/ClinVarVCVRelease_2024-02.xml.gz\n",
      "https://ftp.ncbi.nlm.nih.gov/pub/clinvar/xml/ClinVarVCVRelease_2024-03.xml.gz\n",
      "https://ftp.ncbi.nlm.nih.gov/pub/clinvar/xml/ClinVarVCVRelease_2024-04.xml.gz\n",
      "https://ftp.ncbi.nlm.nih.gov/pub/clinvar/xml/ClinVarVCVRelease_2024-05.xml.gz\n",
      "https://ftp.ncbi.nlm.nih.gov/pub/clinvar/xml/ClinVarVCVRelease_2024-06.xml.gz\n",
      "https://ftp.ncbi.nlm.nih.gov/pub/clinvar/xml/ClinVarVCVRelease_2024-07.xml.gz\n",
      "https://ftp.ncbi.nlm.nih.gov/pub/clinvar/xml/ClinVarVCVRelease_2024-08.xml.gz\n",
      "https://ftp.ncbi.nlm.nih.gov/pub/clinvar/xml/ClinVarVCVRelease_2024-09.xml.gz\n",
      "https://ftp.ncbi.nlm.nih.gov/pub/clinvar/xml/ClinVarVCVRelease_2024-10.xml.gz\n",
      "https://ftp.ncbi.nlm.nih.gov/pub/clinvar/xml/ClinVarVCVRelease_2024-11.xml.gz\n",
      "https://ftp.ncbi.nlm.nih.gov/pub/clinvar/xml/ClinVarVCVRelease_2024-12.xml.gz\n",
      "https://ftp.ncbi.nlm.nih.gov/pub/clinvar/xml/ClinVarVCVRelease_2025-01.xml.gz\n"
     ]
    }
   ],
   "source": [
    "# Parse the HTML Page to Extract File Links\n",
    "import requests\n",
    "from bs4 import BeautifulSoup\n",
    "\n",
    "# URL of the ClinVar XML directory\n",
    "url = \"https://ftp.ncbi.nlm.nih.gov/pub/clinvar/xml/\"\n",
    "\n",
    "# Fetch the HTML page\n",
    "response = requests.get(url)\n",
    "html_content = response.text\n",
    "\n",
    "# Parse the HTML content\n",
    "soup = BeautifulSoup(html_content, \"html.parser\")\n",
    "\n",
    "# Find all links to .gz files\n",
    "file_links = []\n",
    "for link in soup.find_all(\"a\"):\n",
    "    href = link.get(\"href\")\n",
    "    if href and href.endswith(\".xml.gz\"):\n",
    "        file_links.append(url + href)\n",
    "\n",
    "# Display extracted file links\n",
    "for file in file_links:\n",
    "    print(file)"
   ]
  },
  {
   "cell_type": "code",
   "execution_count": 6,
   "metadata": {},
   "outputs": [
    {
     "name": "stdout",
     "output_type": "stream",
     "text": [
      "Downloaded ClinVarFullRelease_2025-01.xml.gz\n"
     ]
    }
   ],
   "source": [
    "# Download the Latest ClinVar XML File\n",
    "import os\n",
    "\n",
    "# Choose the latest file (modify as needed)\n",
    "latest_file_url = \"https://ftp.ncbi.nlm.nih.gov/pub/clinvar/xml/ClinVarVCVRelease_2025-01.xml.gz\"\n",
    "output_file = \"ClinVarFullRelease_2025-01.xml.gz\"\n",
    "\n",
    "# Download the file\n",
    "response = requests.get(latest_file_url, stream=True)\n",
    "if response.status_code == 200:\n",
    "    with open(output_file, \"wb\") as f:\n",
    "        for chunk in response.iter_content(chunk_size=8192):\n",
    "            f.write(chunk)\n",
    "    print(f\"Downloaded {output_file}\")\n",
    "else:\n",
    "    print(f\"Failed to download file. HTTP Status Code: {response.status_code}\")\n"
   ]
  },
  {
   "cell_type": "code",
   "execution_count": 7,
   "metadata": {},
   "outputs": [
    {
     "name": "stdout",
     "output_type": "stream",
     "text": [
      "File size: 4154767604 bytes\n",
      "The file is correctly recognized as a GZIP file.\n"
     ]
    }
   ],
   "source": [
    "# Check that the XML file is correct\n",
    "import os\n",
    "\n",
    "file_path = \"ClinVarFullRelease_2025-01.xml.gz\"\n",
    "\n",
    "# Check the file size\n",
    "print(f\"File size: {os.path.getsize(file_path)} bytes\")\n",
    "\n",
    "# Check if it's a gzip file\n",
    "with open(file_path, \"rb\") as f:\n",
    "    signature = f.read(2)  # Read the first two bytes\n",
    "\n",
    "if signature == b'\\x1f\\x8b':  # GZIP signature\n",
    "    print(\"The file is correctly recognized as a GZIP file.\")\n",
    "else:\n",
    "    print(\"The file is NOT a GZIP file. The download may be corrupted.\")"
   ]
  },
  {
   "cell_type": "code",
   "execution_count": 1,
   "metadata": {},
   "outputs": [
    {
     "ename": "",
     "evalue": "",
     "output_type": "error",
     "traceback": [
      "\u001b[1;31mThe Kernel crashed while executing code in the current cell or a previous cell. \n",
      "\u001b[1;31mPlease review the code in the cell(s) to identify a possible cause of the failure. \n",
      "\u001b[1;31mClick <a href='https://aka.ms/vscodeJupyterKernelCrash'>here</a> for more info. \n",
      "\u001b[1;31mView Jupyter <a href='command:jupyter.viewOutput'>log</a> for further details."
     ]
    }
   ],
   "source": [
    "import xml.etree.ElementTree as ET\n",
    "import gzip\n",
    "\n",
    "# Define the extracted XML file\n",
    "output_file = \"ClinVarFullRelease_2025-01.xml.gz\"\n",
    "\n",
    "# Open and parse the XML file\n",
    "with gzip.open(output_file, \"rt\", encoding=\"utf-8\") as f:\n",
    "    tree = ET.parse(f)\n",
    "    root = tree.getroot()\n",
    "\n",
    "# Extract citations for ORC1\n",
    "orc1_citations = []\n",
    "\n",
    "for record in root.findall(\".//ReferenceClinVarAssertion\"):\n",
    "    gene_symbol = record.find(\".//Gene//Symbol\")\n",
    "    \n",
    "    if gene_symbol is not None and gene_symbol.text == \"ORC1\":\n",
    "        citation = record.find(\".//Citation\")\n",
    "        \n",
    "        if citation is not None:\n",
    "            pubmed_id = citation.find(\".//ID\").text if citation.find(\".//ID\") is not None else \"N/A\"\n",
    "            orc1_citations.append(pubmed_id)\n",
    "\n",
    "# Display results\n",
    "print(f\"Extracted {len(orc1_citations)} citations for ORC1 protein\")\n"
   ]
  },
  {
   "cell_type": "code",
   "execution_count": null,
   "metadata": {},
   "outputs": [],
   "source": [
    "\n"
   ]
  }
 ],
 "metadata": {
  "kernelspec": {
   "display_name": "bioinfo",
   "language": "python",
   "name": "python3"
  },
  "language_info": {
   "codemirror_mode": {
    "name": "ipython",
    "version": 3
   },
   "file_extension": ".py",
   "mimetype": "text/x-python",
   "name": "python",
   "nbconvert_exporter": "python",
   "pygments_lexer": "ipython3",
   "version": "3.9.18"
  }
 },
 "nbformat": 4,
 "nbformat_minor": 2
}
