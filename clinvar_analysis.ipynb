{
 "cells": [
  {
   "cell_type": "markdown",
   "metadata": {},
   "source": [
    "# Analysis of clinical variatns of ORC1 protein"
   ]
  },
  {
   "cell_type": "code",
   "execution_count": 1,
   "metadata": {},
   "outputs": [],
   "source": [
    "# Import libraries\n",
    "from clinvar_functions import *\n",
    "import pandas as pd\n",
    "import matplotlib.pyplot as plt\n",
    "\n",
    "# Set option to display all rows\n",
    "#pd.set_option('display.max_rows', None)"
   ]
  },
  {
   "cell_type": "markdown",
   "metadata": {},
   "source": [
    "## ORC1 regions"
   ]
  },
  {
   "cell_type": "code",
   "execution_count": 15,
   "metadata": {},
   "outputs": [],
   "source": [
    "# List of intervals for particular feature\n",
    "\n",
    "#LLPS = [(360, 382), (412, 476), (577, 636), (677, 729), (757, 816)] # Chinees paper\n",
    "#IDR_total = [(183, 476)] # Chinees paper\n",
    "#G4_RNA = [(413, 511)] # Hoshina paper\n",
    "#CDCD6=[(180, 240)] # CDC6 paper\n",
    "#BP=[(354, 368), (378, 392)] # CDC6 paper\n",
    "IDR = [(183, 511)]\n",
    "RBD = [(413, 511)]\n",
    "\n",
    "# Positions\n",
    "IDR_pos = generate_list(IDR)\n",
    "RBD_pos = generate_list(RBD)\n",
    "# G4_RNA_positions = generate_list(G4_RNA)\n",
    "# LLPS_positions = generate_list(LLPS)\n",
    "# CDCD6_positions = generate_list(CDCD6)\n",
    "# BP_positions = generate_list(BP)"
   ]
  },
  {
   "cell_type": "markdown",
   "metadata": {},
   "source": [
    "## Read data"
   ]
  },
  {
   "cell_type": "code",
   "execution_count": 2,
   "metadata": {},
   "outputs": [
    {
     "data": {
      "text/plain": [
       "(333, 25)"
      ]
     },
     "execution_count": 2,
     "metadata": {},
     "output_type": "execute_result"
    }
   ],
   "source": [
    "# Set option to display all rows and columns\n",
    "# pd.set_option('display.max_rows', None)\n",
    "# pd.set_option('display.max_columns', None)\n",
    "\n",
    "# Read dataframe\n",
    "df = pd.read_csv('clinvar_result.csv', sep = \"\\t\")\n",
    "df = df[df['Gene(s)'] == 'ORC1'] # save only ORC1 gene - delete 7 records\n",
    "df.shape"
   ]
  },
  {
   "cell_type": "code",
   "execution_count": 3,
   "metadata": {},
   "outputs": [
    {
     "data": {
      "text/plain": [
       "Index(['Name', 'Gene(s)', 'Protein change', 'Condition(s)', 'Accession',\n",
       "       'GRCh37Chromosome', 'GRCh37Location', 'GRCh38Chromosome',\n",
       "       'GRCh38Location', 'VariationID', 'AlleleID(s)', 'dbSNP ID',\n",
       "       'Canonical SPDI', 'Variant type', 'Molecular consequence',\n",
       "       'Germline classification', 'Germline date last evaluated',\n",
       "       'Germline review status', 'Somatic clinical impact',\n",
       "       'Somatic clinical impact date last evaluated',\n",
       "       'Somatic clinical impact review status', 'Oncogenicity classification',\n",
       "       'Oncogenicity date last evaluated', 'Oncogenicity review status',\n",
       "       'Unnamed: 24'],\n",
       "      dtype='object')"
      ]
     },
     "execution_count": 3,
     "metadata": {},
     "output_type": "execute_result"
    }
   ],
   "source": [
    "df.columns"
   ]
  },
  {
   "cell_type": "code",
   "execution_count": 19,
   "metadata": {},
   "outputs": [],
   "source": [
    "# Keep only protein changes\n",
    "#df = df.dropna(subset=[\"Protein change\"])"
   ]
  },
  {
   "cell_type": "markdown",
   "metadata": {},
   "source": [
    "## Look at the different columns of df"
   ]
  },
  {
   "cell_type": "code",
   "execution_count": null,
   "metadata": {},
   "outputs": [],
   "source": [
    "df[\"Condition(s)\"].value_counts()"
   ]
  },
  {
   "cell_type": "code",
   "execution_count": null,
   "metadata": {},
   "outputs": [],
   "source": [
    "df[\"Germline classification\"].value_counts()"
   ]
  },
  {
   "cell_type": "code",
   "execution_count": null,
   "metadata": {},
   "outputs": [],
   "source": [
    "df['Germline review status'].value_counts()"
   ]
  },
  {
   "cell_type": "markdown",
   "metadata": {},
   "source": [
    "## Get list of transcript IDs"
   ]
  },
  {
   "cell_type": "code",
   "execution_count": null,
   "metadata": {},
   "outputs": [],
   "source": [
    "IDs = df['Name'].apply(lambda x: x.split(\":\")[0])\n",
    "IDs.value_counts()"
   ]
  },
  {
   "cell_type": "markdown",
   "metadata": {},
   "source": [
    "## Add new column: Condition_new"
   ]
  },
  {
   "cell_type": "code",
   "execution_count": 4,
   "metadata": {},
   "outputs": [],
   "source": [
    "df['Condition_new'] = df['Condition(s)'].map(rename_condition, na_action='ignore')"
   ]
  },
  {
   "cell_type": "code",
   "execution_count": 5,
   "metadata": {},
   "outputs": [
    {
     "data": {
      "text/plain": [
       "Condition_new\n",
       "not provided                        211\n",
       "Meier-Gorlin syndrome 1 probably     42\n",
       "Meier-Gorlin syndrome 1              30\n",
       "Inborn genetic diseases              30\n",
       "Inborn genetic diseases probably     12\n",
       "ORC1-related disorder probably        6\n",
       "Name: count, dtype: int64"
      ]
     },
     "execution_count": 5,
     "metadata": {},
     "output_type": "execute_result"
    }
   ],
   "source": [
    "df['Condition_new'].value_counts()"
   ]
  },
  {
   "cell_type": "markdown",
   "metadata": {},
   "source": [
    "# Non-coding mutations"
   ]
  },
  {
   "cell_type": "code",
   "execution_count": null,
   "metadata": {},
   "outputs": [],
   "source": [
    "sum(df[\"Protein change\"].isna()) # no protein change - how many mutations?"
   ]
  },
  {
   "cell_type": "code",
   "execution_count": null,
   "metadata": {},
   "outputs": [],
   "source": [
    "len(df[\"Protein change\"]) # all variants - how many?"
   ]
  },
  {
   "cell_type": "code",
   "execution_count": 7,
   "metadata": {},
   "outputs": [],
   "source": [
    "# Making a subset of variants that are not affected protein level\n",
    "noncoding = df[df[\"Protein change\"].isna()]"
   ]
  },
  {
   "cell_type": "code",
   "execution_count": null,
   "metadata": {},
   "outputs": [],
   "source": [
    "noncoding['Condition_new'].value_counts()"
   ]
  },
  {
   "cell_type": "code",
   "execution_count": null,
   "metadata": {},
   "outputs": [],
   "source": [
    "noncoding[noncoding['Condition_new'] == 'Meier-Gorlin syndrome 1'].groupby('Germline review status').size()"
   ]
  },
  {
   "cell_type": "code",
   "execution_count": null,
   "metadata": {},
   "outputs": [],
   "source": [
    "noncoding[noncoding['Condition_new'] == 'Meier-Gorlin syndrome 1 probably'].groupby('Germline review status').size()"
   ]
  },
  {
   "cell_type": "markdown",
   "metadata": {},
   "source": [
    "# Non-coding variants visualization"
   ]
  },
  {
   "cell_type": "markdown",
   "metadata": {},
   "source": [
    "List of Exons of ORC1 (file hg38_dna range=chr1:52372829-52404423):\n",
    "exon          \t1..547        \n",
    "exon          \t1982..2069    \n",
    "exon          \t2602..2771    \n",
    "exon          \t8814..8933    \n",
    "exon          \t10.592..10.741\n",
    "exon          \t11.002..11.109\n",
    "exon          \t11.722..11.893\n",
    "exon          \t12.333..12.434\n",
    "exon          \t13.024..13.121\n",
    "exon          \t15.614..15.809\n",
    "exon          \t16.389..16.493\n",
    "exon          \t20.615..20.975\n",
    "exon          \t23.218..23.536\n",
    "exon          \t24.857..25.035\n",
    "exon          \t28.534..28.661\n",
    "exon          \t29.301..29.400\n",
    "exon          \t31.418..31.595"
   ]
  },
  {
   "cell_type": "markdown",
   "metadata": {},
   "source": [
    "List of regulation elements (file hg38_dna range=chr1:52372829-52404423):\n",
    "enhancer_distal 12585...12893\n",
    "enhancer_proximal 30091..30367\n",
    "enhancer_proximal 30826..31175\n",
    "enhancer_proximal 31239..31442\n",
    "promoter (partial) 31531..31595\n"
   ]
  },
  {
   "cell_type": "markdown",
   "metadata": {},
   "source": [
    "Gene length: 31595 bp\n",
    "Positions: 52372829 - 52404423"
   ]
  },
  {
   "cell_type": "code",
   "execution_count": 8,
   "metadata": {},
   "outputs": [],
   "source": [
    "# Subset of data from noncoding dataframe\n",
    "\n",
    "# Filter the data for multiple conditions\n",
    "MGS_non_coding_muts = noncoding[\n",
    "    (noncoding['Condition_new'] == 'Meier-Gorlin syndrome 1') &\n",
    "    (noncoding['Germline review status'] == 'criteria provided, single submitter')\n",
    "][['GRCh38Location', 'Name', 'Condition_new', 'Accession']]\n",
    "\n",
    "# Filter the data for multiple conditions\n",
    "MGS_probable_non_coding_muts = noncoding[\n",
    "    (noncoding['Condition_new'] == 'Meier-Gorlin syndrome 1 probably') &\n",
    "    (noncoding['Germline review status'] == 'criteria provided, multiple submitters, no conflicts')\n",
    "][['GRCh38Location', 'Name', 'Condition_new', 'Accession']]\n",
    "\n",
    "# Create new column New_location\n",
    "MGS_non_coding_muts[\"New_location\"] = MGS_non_coding_muts['GRCh38Location'].apply(parse_location).astype(int).apply(lambda x: adjust_location(x, 52372828))\n",
    "MGS_probable_non_coding_muts[\"New_location\"] = MGS_probable_non_coding_muts['GRCh38Location'].apply(parse_location).astype(int).apply(lambda x: adjust_location(x, 52372828))\n",
    "\n",
    "# Create new column New_name\n",
    "\n",
    "MGS_non_coding_muts[\"New_name\"] = MGS_non_coding_muts['Name'].apply(lambda x: x.split(\":\")[1])\n",
    "MGS_probable_non_coding_muts[\"New_name\"] = MGS_probable_non_coding_muts['Name'].apply(lambda x: x.split(\":\")[1])"
   ]
  },
  {
   "cell_type": "code",
   "execution_count": 23,
   "metadata": {},
   "outputs": [
    {
     "data": {
      "image/png": "[encoded data removed]",
      "text/plain": [
       "<Figure size 2000x400 with 1 Axes>"
      ]
     },
     "metadata": {},
     "output_type": "display_data"
    }
   ],
   "source": [
    "# Define protein information\n",
    "protein_length = 31595  # Gene length\n",
    "domains = [\n",
    "    # regulatory elements\n",
    "    {\"name\": \"enhancer_distal\", \"start\": 12585, \"end\": 12893, \"color\": \"grey\", \"alpha\": 0.25},\n",
    "    {\"name\": \"enhancer_proximal\", \"start\": 30091, \"end\": 30367, \"color\": \"grey\", \"alpha\": 0.7},\n",
    "    {\"name\": \"enhancer_proximal\", \"start\": 30826, \"end\": 31175, \"color\": \"grey\", \"alpha\": 0.7},\n",
    "    {\"name\": \"enhancer_proximal\", \"start\": 31239, \"end\": 31442, \"color\": \"grey\", \"alpha\": 0.7},\n",
    "    {\"name\": \"promoter\", \"start\": 31531, \"end\": 31595, \"color\": \"black\", \"alpha\": 1},\n",
    "\n",
    "    {\"name\": \"non-coding exon\", \"start\": 1, \"end\": 352, \"color\": \"deepskyblue\", \"alpha\": 0.5},\n",
    "    {\"name\": \"exon\", \"start\": 353, \"end\": 597, \"color\": \"mediumaquamarine\", \"alpha\": 1},\n",
    "\n",
    "    {\"name\": \"exon\", \"start\": 1982, \"end\": 2069, \"color\": \"mediumaquamarine\", \"alpha\": 1},\n",
    "    {\"name\": \"exon\", \"start\": 2602, \"end\": 2771, \"color\": \"mediumaquamarine\", \"alpha\": 1},\n",
    "    {\"name\": \"exon\", \"start\": 8814, \"end\": 8933, \"color\": \"mediumaquamarine\", \"alpha\": 1},\n",
    "    {\"name\": \"exon\", \"start\": 10592, \"end\": 10741, \"color\": \"mediumaquamarine\", \"alpha\": 1},\n",
    "    {\"name\": \"exon\", \"start\": 11002, \"end\": 11109, \"color\": \"mediumaquamarine\", \"alpha\": 1},\n",
    "    {\"name\": \"exon\", \"start\": 11722, \"end\": 11893, \"color\": \"mediumaquamarine\", \"alpha\": 1},\n",
    "\n",
    "    # IDR end\n",
    "    {\"name\": \"exon\", \"start\": 12333, \"end\": 12382, \"color\": \"mediumaquamarine\", \"alpha\": 1},\n",
    "    {\"name\": \"exon: RBD domain\", \"start\": 12383, \"end\": 12434, \"color\": \"red\", \"alpha\": 1},\n",
    "\n",
    "    {\"name\": \"exon: RBD domain\", \"start\": 13024, \"end\": 13121, \"color\": \"red\", \"alpha\": 1},\n",
    "\n",
    "    # RBD start\n",
    "    {\"name\": \"exon: IDR domain\", \"start\": 15760, \"end\": 15809, \"color\": \"orange\", \"alpha\": 1},\n",
    "    {\"name\": \"exon: IDR domain\", \"start\": 15614, \"end\": 15759, \"color\": \"red\", \"alpha\": 1},\n",
    "\n",
    "    {\"name\": \"exon: IDR domain\", \"start\": 16389, \"end\": 16493, \"color\": \"orange\", \"alpha\": 1},\n",
    "    {\"name\": \"exon: IDR domain\", \"start\": 20615, \"end\": 20975, \"color\": \"orange\", \"alpha\": 1},\n",
    "    \n",
    "    # IDR start\n",
    "    {\"name\": \"exon: IDR domain\", \"start\": 23218, \"end\": 23392, \"color\": \"orange\", \"alpha\": 1},\n",
    "    {\"name\": \"exon\", \"start\": 23393, \"end\": 23536, \"color\": \"mediumaquamarine\", \"alpha\": 1},\n",
    "\n",
    "    {\"name\": \"exon\", \"start\": 24857, \"end\": 25035, \"color\": \"mediumaquamarine\", \"alpha\": 1},\n",
    "    {\"name\": \"exon\", \"start\": 28534, \"end\": 28661, \"color\": \"mediumaquamarine\", \"alpha\": 1},\n",
    "\n",
    "    {\"name\": \"exon\", \"start\": 29301, \"end\": 29396, \"color\": \"mediumaquamarine\", \"alpha\": 1},\n",
    "    {\"name\": \"non-coding exon\", \"start\": 29397, \"end\": 29400, \"color\": \"deepskyblue\", \"alpha\": 1},\n",
    "\n",
    "    {\"name\": \"exon\", \"start\": 31418, \"end\": 31595, \"color\": \"deepskyblue\", \"alpha\": 0.5}\n",
    "]\n",
    "\n",
    "\n",
    "# Create the figure\n",
    "fig, ax = plt.subplots(figsize=(20, 4))\n",
    "\n",
    "# Draw the protein backbone\n",
    "ax.plot([0, protein_length], [0.5, 0.5], color=\"black\", lw=6, label=\"Protein Backbone\")\n",
    "\n",
    "# Track unique labels for the legend\n",
    "unique_labels = {}\n",
    "\n",
    "# Draw the domains with labels\n",
    "for domain in domains:\n",
    "    label = f\"{domain['name']}\"\n",
    "    if label not in unique_labels:\n",
    "        unique_labels[label] = domain[\"color\"]\n",
    "    ax.barh(0.5, domain[\"end\"] - domain[\"start\"], left=domain[\"start\"], height=0.3,\n",
    "            color=domain[\"color\"], alpha=domain[\"alpha\"], label=None)  # Add label only for legend\n",
    "    \n",
    "# Plot mutations\n",
    "for _, mutation in MGS_non_coding_muts.iterrows():\n",
    "    ax.plot(\n",
    "        mutation[\"New_location\"],\n",
    "        0.5,\n",
    "        marker=\"o\",\n",
    "        color=\"red\",\n",
    "        markersize=8,\n",
    "        label=\"Mutation\" if _ == 0 else \"\"\n",
    "    )\n",
    "    ax.text(\n",
    "        mutation[\"New_location\"],\n",
    "        0.55,\n",
    "        mutation[\"New_name\"],\n",
    "        ha=\"center\",\n",
    "        fontsize=9,\n",
    "        rotation=45,\n",
    "        color=\"red\"\n",
    "    )\n",
    "\n",
    "unique_labels[\"MSG Mutations\"] = \"red\"\n",
    "unique_labels[\"Probable MSG Mutations\"] = \"blue\"\n",
    "\n",
    "# Plot mutations\n",
    "for _, mutation in MGS_probable_non_coding_muts.iterrows():\n",
    "    ax.plot(\n",
    "        mutation[\"New_location\"],\n",
    "        0.5,\n",
    "        marker=\"o\",\n",
    "        color=\"blue\",\n",
    "        markersize=8,\n",
    "        label=\"Mutation\" if _ == 0 else \"\"\n",
    "    )\n",
    "    ax.text(\n",
    "        mutation[\"New_location\"],\n",
    "        0.25,\n",
    "        mutation[\"New_name\"],\n",
    "        ha=\"center\",\n",
    "        fontsize=9,\n",
    "        rotation=45,\n",
    "        color=\"blue\"\n",
    "    )\n",
    "\n",
    "\n",
    "\n",
    "# Add the unique legend\n",
    "ax.legend(handles=[plt.Line2D([0], [0], color=color, lw=4, label=label) for label, color in unique_labels.items()],\n",
    "          loc=\"upper center\", ncol=4, frameon=True, fontsize=10)\n",
    "\n",
    "# Add gridlines for alignment\n",
    "ax.grid(axis=\"x\", color=\"gray\", linestyle=\"--\", linewidth=0.5, alpha=0.7)\n",
    "\n",
    "# Add labels and title\n",
    "ax.set_xlim(0, protein_length)\n",
    "ax.set_ylim(0, 1)\n",
    "ax.set_xticks(range(0, protein_length + 1000, 1000))\n",
    "ax.set_yticks([])\n",
    "ax.set_xlabel(\"Position\", fontsize=12)\n",
    "ax.set_title(\"hORC1 gene with Non-coding mutations\", fontsize=14, pad=20)\n",
    "\n",
    "# Show the plot\n",
    "plt.tight_layout()\n",
    "plt.show()\n"
   ]
  },
  {
   "cell_type": "code",
   "execution_count": null,
   "metadata": {},
   "outputs": [],
   "source": [
    "# Data\n",
    "grouped_counts = noncoding.groupby(\"Germline review status\")[\"Condition_new\"].value_counts()\n",
    "plot_data = grouped_counts.reset_index(name=\"Counts\")\n",
    "plot_data\n",
    "\n",
    "# Pivot the data for better visualization\n",
    "pivot_data = plot_data.pivot(index=\"Condition_new\", columns=\"Germline review status\", values=\"Counts\")\n",
    "\n",
    "# Plot as a bar chart\n",
    "pivot_data.plot(kind=\"bar\", figsize=(10, 8), edgecolor=\"black\")\n",
    "\n",
    "plt.title(\"Counts of Conditions by Germline Review Status for non-protein mutations\", fontsize=14)\n",
    "plt.xlabel(\"Condition\", fontsize=12)\n",
    "plt.ylabel(\"Counts\", fontsize=12)\n",
    "plt.xticks(rotation=45)\n",
    "plt.legend(title=\"Germline Review Status\")\n",
    "plt.grid(axis=\"y\", linestyle=\"--\", alpha=0.7)\n",
    "plt.tight_layout()\n",
    "plt.show()"
   ]
  },
  {
   "cell_type": "code",
   "execution_count": null,
   "metadata": {},
   "outputs": [],
   "source": [
    "# Filter the data for the specific condition\n",
    "filtered_data = noncoding['Germline review status'][df[\"Condition_new\"] ==\"Meier-Gorlin syndrome 1\"]\n",
    "# Count the occurrences of each status\n",
    "status_counts = filtered_data.value_counts()\n",
    "\n",
    "# Count the occurrences of each status\n",
    "status_counts = filtered_data.value_counts()\n",
    "\n",
    "# Plot a pie chart\n",
    "plt.figure(figsize=(8, 6))\n",
    "pie_chart = status_counts.plot.pie(\n",
    "    labels=None,\n",
    "    autopct='%1.1f%%',  # Show percentages\n",
    "    startangle=90,      # Rotate start angle\n",
    "    colors=['skyblue', 'lightgreen', 'orange'],  # Optional: specify colors\n",
    "    wedgeprops={'edgecolor': 'black'},  # Add edge color\n",
    "    title=\"Germline Review Status for Meier-Gorlin Syndrome 1 for non-protein mutations\"\n",
    ")\n",
    "# Add a centered title\n",
    "plt.title(\n",
    "    \"Germline Review Status for Meier-Gorlin Syndrome 1 for non-protein mutations\", \n",
    "    loc=\"center\",          # Explicitly center the title\n",
    "    fontsize=14,           # Adjust font size for visibility\n",
    "    pad=20                 # Add padding between the title and the chart\n",
    ")\n",
    "\n",
    "# Add a legend at the center right\n",
    "plt.legend(\n",
    "    labels=status_counts.index,  # Use the status names as labels\n",
    "    title=\"Status\",              # Add a title to the legend\n",
    "    loc=\"center right\",          # Position the legend at the center-right\n",
    "    bbox_to_anchor=(1.50, 0.5),  # Offset for better alignment\n",
    ")\n",
    "\n",
    "plt.ylabel(\"\")  # Remove default y-axis label\n",
    "plt.tight_layout()  # Adjust layout to fit everything nicely\n",
    "plt.show()"
   ]
  },
  {
   "cell_type": "code",
   "execution_count": null,
   "metadata": {},
   "outputs": [],
   "source": [
    "# Filter the data for the specific condition\n",
    "filtered_data = noncoding['Germline review status'][df[\"Condition_new\"] ==\"Meier-Gorlin syndrome 1 probably\"]\n",
    "# Count the occurrences of each status\n",
    "status_counts = filtered_data.value_counts()\n",
    "\n",
    "# Plot a pie chart\n",
    "plt.figure(figsize=(8, 6))\n",
    "status_counts.plot.pie(\n",
    "    labels=None,\n",
    "    autopct='%1.1f%%',  # Show percentages\n",
    "    startangle=90,      # Rotate start angle\n",
    "    colors=['skyblue', 'lightgreen', 'orange'],  # Optional: specify colors\n",
    "    wedgeprops={'edgecolor': 'black'},  # Add edge color\n",
    "    title=\"Germline Review Status for probable Meier-Gorlin Syndrome 1\"\n",
    ")\n",
    "# Add a centered title\n",
    "plt.title(\n",
    "    \"Germline Review Status for probable Meier-Gorlin Syndrome 1 for non-protein mutations\", \n",
    "    ha=\"center\",          # Explicitly center the title\n",
    "    fontsize=14,           # Adjust font size for visibility\n",
    "    pad=20\n",
    "    )\n",
    "\n",
    "# Add a legend at the center right\n",
    "plt.legend(\n",
    "    labels=status_counts.index,  # Use the status names as labels\n",
    "    title=\"Status\",              # Add a title to the legend\n",
    "    loc=\"center right\",          # Position the legend at the center-right\n",
    "    bbox_to_anchor=(1.80, 0.5),  # Offset for better alignment\n",
    ")\n",
    "\n",
    "plt.ylabel(\"\")  # Remove default y-axis label\n",
    "plt.show()"
   ]
  },
  {
   "cell_type": "markdown",
   "metadata": {},
   "source": [
    "# Visualisation"
   ]
  },
  {
   "cell_type": "markdown",
   "metadata": {},
   "source": [
    "## Analyse Germline review status"
   ]
  },
  {
   "cell_type": "code",
   "execution_count": null,
   "metadata": {},
   "outputs": [],
   "source": [
    "# Data\n",
    "grouped_counts = df.groupby(\"Germline review status\")[\"Condition_new\"].value_counts()\n",
    "plot_data = grouped_counts.reset_index(name=\"Counts\")\n",
    "plot_data\n",
    "\n",
    "# Pivot the data for better visualization\n",
    "pivot_data = plot_data.pivot(index=\"Condition_new\", columns=\"Germline review status\", values=\"Counts\")\n",
    "\n",
    "# Plot as a bar chart\n",
    "pivot_data.plot(kind=\"bar\", figsize=(10, 8), edgecolor=\"black\")\n",
    "\n",
    "plt.title(\"Counts of Conditions by Germline Review Status\", fontsize=14)\n",
    "plt.xlabel(\"Condition\", fontsize=12)\n",
    "plt.ylabel(\"Counts\", fontsize=12)\n",
    "plt.xticks(rotation=45)\n",
    "plt.legend(title=\"Germline Review Status\")\n",
    "plt.grid(axis=\"y\", linestyle=\"--\", alpha=0.7)\n",
    "plt.tight_layout()\n",
    "plt.show()"
   ]
  },
  {
   "cell_type": "code",
   "execution_count": null,
   "metadata": {},
   "outputs": [],
   "source": [
    "# Filter the data for the specific condition\n",
    "filtered_data = df['Germline review status'][df[\"Condition_new\"] ==\"Meier-Gorlin syndrome 1\"]\n",
    "# Count the occurrences of each status\n",
    "status_counts = filtered_data.value_counts()\n",
    "\n",
    "# Count the occurrences of each status\n",
    "status_counts = filtered_data.value_counts()\n",
    "\n",
    "# Plot a pie chart\n",
    "plt.figure(figsize=(8, 6))\n",
    "pie_chart = status_counts.plot.pie(\n",
    "    labels=None,\n",
    "    autopct='%1.1f%%',  # Show percentages\n",
    "    startangle=90,      # Rotate start angle\n",
    "    colors=['skyblue', 'lightgreen', 'orange'],  # Optional: specify colors\n",
    "    wedgeprops={'edgecolor': 'black'},  # Add edge color\n",
    "    title=\"Germline Review Status for Meier-Gorlin Syndrome 1\"\n",
    ")\n",
    "# Add a centered title\n",
    "plt.title(\n",
    "    \"Germline Review Status for Meier-Gorlin Syndrome 1\", \n",
    "    loc=\"center\",          # Explicitly center the title\n",
    "    fontsize=14,           # Adjust font size for visibility\n",
    "    pad=20                 # Add padding between the title and the chart\n",
    ")\n",
    "\n",
    "# Add a legend at the center right\n",
    "plt.legend(\n",
    "    labels=status_counts.index,  # Use the status names as labels\n",
    "    title=\"Status\",              # Add a title to the legend\n",
    "    loc=\"center right\",          # Position the legend at the center-right\n",
    "    bbox_to_anchor=(1.50, 0.5),  # Offset for better alignment\n",
    ")\n",
    "\n",
    "plt.ylabel(\"\")  # Remove default y-axis label\n",
    "plt.tight_layout()  # Adjust layout to fit everything nicely\n",
    "plt.show()"
   ]
  },
  {
   "cell_type": "code",
   "execution_count": null,
   "metadata": {},
   "outputs": [],
   "source": [
    "# Filter the data for the specific condition\n",
    "filtered_data = df['Germline review status'][df[\"Condition_new\"] ==\"Meier-Gorlin syndrome 1 probably\"]\n",
    "# Count the occurrences of each status\n",
    "status_counts = filtered_data.value_counts()\n",
    "\n",
    "# Plot a pie chart\n",
    "plt.figure(figsize=(8, 6))\n",
    "status_counts.plot.pie(\n",
    "    labels=None,\n",
    "    autopct='%1.1f%%',  # Show percentages\n",
    "    startangle=90,      # Rotate start angle\n",
    "    colors=['skyblue', 'lightgreen', 'orange'],  # Optional: specify colors\n",
    "    wedgeprops={'edgecolor': 'black'},  # Add edge color\n",
    "    title=\"Germline Review Status for probable Meier-Gorlin Syndrome 1\"\n",
    ")\n",
    "# Add a centered title\n",
    "plt.title(\n",
    "    \"Germline Review Status for probable Meier-Gorlin Syndrome 1\", \n",
    "    ha=\"center\",          # Explicitly center the title\n",
    "    fontsize=14,           # Adjust font size for visibility\n",
    "    pad=20\n",
    "    )\n",
    "\n",
    "# Add a legend at the center right\n",
    "plt.legend(\n",
    "    labels=status_counts.index,  # Use the status names as labels\n",
    "    title=\"Status\",              # Add a title to the legend\n",
    "    loc=\"center right\",          # Position the legend at the center-right\n",
    "    bbox_to_anchor=(1.80, 0.5),  # Offset for better alignment\n",
    ")\n",
    "\n",
    "plt.ylabel(\"\")  # Remove default y-axis label\n",
    "plt.show()"
   ]
  },
  {
   "cell_type": "markdown",
   "metadata": {},
   "source": [
    "## Filtration: Meier-Gorlin syndrome 1 and probable Meier-Gorlin syndrome 1"
   ]
  },
  {
   "cell_type": "markdown",
   "metadata": {},
   "source": [
    "Mutations that change amino acids. The picture of protein with domains."
   ]
  },
  {
   "cell_type": "code",
   "execution_count": null,
   "metadata": {},
   "outputs": [],
   "source": [
    "MSG = df[\n",
    "    (df[\"Condition_new\"] == \"Meier-Gorlin syndrome 1\") &\n",
    "    (df[\"Germline review status\"] == \"criteria provided, single submitter\")\n",
    "]\n",
    "MSG.shape"
   ]
  },
  {
   "cell_type": "code",
   "execution_count": null,
   "metadata": {},
   "outputs": [],
   "source": [
    "MSG_probably = df[\n",
    "    (df[\"Condition_new\"] == \"Meier-Gorlin syndrome 1 probably\") &\n",
    "    (df[\"Germline review status\"] == \"criteria provided, multiple submitters, no conflicts\")\n",
    "]\n",
    "MSG_probably.shape"
   ]
  },
  {
   "cell_type": "code",
   "execution_count": null,
   "metadata": {},
   "outputs": [],
   "source": [
    "# Define protein information\n",
    "protein_length = 861  # Protein length in amino acids\n",
    "domains = [\n",
    "    {\"name\": \"IDR\", \"start\": 183, \"end\": 413, \"color\": \"mediumaquamarine\", \"alpha\": 1},\n",
    "    {\"name\": \"RBD\", \"start\": 413, \"end\": 511, \"color\": \"lightsalmon\", \"alpha\": 1},\n",
    "    {\"name\": \"LLPS\", \"start\": 360, \"end\": 382, \"color\": \"yellow\", \"alpha\": 0.5},\n",
    "    {\"name\": \"LLPS\", \"start\": 412, \"end\": 476, \"color\": \"yellow\", \"alpha\": 0.5},\n",
    "    {\"name\": \"LLPS\", \"start\": 577, \"end\": 636, \"color\": \"yellow\", \"alpha\": 0.5},\n",
    "    {\"name\": \"LLPS\", \"start\": 677, \"end\": 729, \"color\": \"yellow\", \"alpha\": 0.5},\n",
    "    {\"name\": \"LLPS\", \"start\": 757, \"end\": 816, \"color\": \"yellow\", \"alpha\": 0.5}\n",
    "]\n",
    "\n",
    "mutations_MSG = create_mutation_dict(MSG)\n",
    "mutations_MSG_probably = create_mutation_dict(MSG_probably)\n",
    "\n",
    "# Create the figure\n",
    "fig, ax = plt.subplots(figsize=(20, 4))\n",
    "\n",
    "# Draw the protein backbone\n",
    "ax.plot([0, protein_length], [0.5, 0.5], color=\"black\", lw=6, label=\"Protein Backbone\")\n",
    "\n",
    "# Track unique labels for the legend\n",
    "unique_labels = {}\n",
    "\n",
    "# Draw the domains with labels\n",
    "for domain in domains:\n",
    "    label = f\"Domain: {domain['name']}\"\n",
    "    if label not in unique_labels:\n",
    "        unique_labels[label] = domain[\"color\"]\n",
    "    ax.barh(0.5, domain[\"end\"] - domain[\"start\"], left=domain[\"start\"], height=0.3,\n",
    "            color=domain[\"color\"], alpha=domain[\"alpha\"], label=None)  # Add label only for legend\n",
    "\n",
    "# Mark the mutations for MSG (above the backbone)\n",
    "for i, mutation in enumerate(mutations_MSG):\n",
    "    if i == 0:\n",
    "        unique_labels[\"MSG Mutations\"] = \"red\"\n",
    "    ax.plot(mutation[\"position\"], 0.5, marker=\"o\", color=\"red\", markersize=8, label=None)\n",
    "    ax.text(mutation[\"position\"], 0.55, mutation[\"label\"], ha=\"center\", fontsize=9, rotation=45, color=\"red\")\n",
    "\n",
    "# Mark the mutations for MSG_probably (below the backbone)\n",
    "for i, mutation in enumerate(mutations_MSG_probably):\n",
    "    if i == 0:\n",
    "        unique_labels[\"Probably MSG Mutations\"] = \"blue\"\n",
    "    ax.plot(mutation[\"position\"], 0.5, marker=\"o\", color=\"blue\", markersize=8, label=None)\n",
    "    ax.text(mutation[\"position\"], 0.35, mutation[\"label\"], ha=\"center\", fontsize=9, rotation=45, color=\"blue\")\n",
    "\n",
    "# Add the unique legend\n",
    "ax.legend(handles=[plt.Line2D([0], [0], color=color, lw=4, label=label) for label, color in unique_labels.items()],\n",
    "          loc=\"upper center\", ncol=2, frameon=True, fontsize=10)\n",
    "\n",
    "# Add gridlines for alignment\n",
    "ax.grid(axis=\"x\", color=\"gray\", linestyle=\"--\", linewidth=0.5, alpha=0.7)\n",
    "\n",
    "# Add labels and title\n",
    "ax.set_xlim(0, protein_length)\n",
    "ax.set_ylim(0, 1)\n",
    "ax.set_xticks(range(0, protein_length + 50, 50))\n",
    "ax.set_yticks([])\n",
    "ax.set_xlabel(\"Amino Acid Position\", fontsize=12)\n",
    "ax.set_title(\"hORC1 Structure with Domains and Mutations\", fontsize=14, pad=20)\n",
    "\n",
    "# Show the plot\n",
    "plt.tight_layout()\n",
    "plt.show()\n"
   ]
  },
  {
   "cell_type": "markdown",
   "metadata": {},
   "source": [
    "## List of mutations in every domain"
   ]
  },
  {
   "cell_type": "code",
   "execution_count": null,
   "metadata": {},
   "outputs": [],
   "source": [
    "criterion = 'criteria provided, conflicting classifications'\n",
    "disease = 'Meier-Gorlin syndrome 1'\n",
    "protein_mut = df['Protein change'][(df['Germline review status'] == criterion) & (df['Condition_new']==disease)]\n",
    "yes, no = mutation_analysis(protein_mut, RBD_pos)  "
   ]
  },
  {
   "cell_type": "markdown",
   "metadata": {},
   "source": [
    "## Amino acids analysis"
   ]
  },
  {
   "cell_type": "markdown",
   "metadata": {},
   "source": [
    "Analyse the percantage of Arginine (R) in different domains of ORC1 protein"
   ]
  },
  {
   "cell_type": "code",
   "execution_count": null,
   "metadata": {},
   "outputs": [],
   "source": [
    "# Protein sequences\n",
    "IDR = \"AAKCQKPVRAKSKSAESPSWTPAEHVAKRIESRHSASKSRQTPTHPLTPRARKRLELGNLGNPQMSQQTSCASLDSPGRIKRKVAFSEITSPSKRSQPDKLQTLSPALKAPEKTRETGLSYTEDDKKASPEHRIILRTRIAASKTIDIREERTLTPISGGQRSSVVPSVILKPENIKKRDAKEAKAQNEATSTPHRIRRKSSVLTMNRIRQQLRFLGNSKSDQEEKEILPAAEISDSSSDEEEASTPPLPRRAPRTVSRNLRSSLKSSLHTLTKVPKKSLKPRTPRCAAPQIRS\"\n",
    "G4 = \"AAEISDSSSDEEEASTPPLPRRAPRTVSRNLRSSLKSSLHTLTKVPKKSLKPRTPRCAAPQIRSRSLAAQEPASVLEEARLRLHVSAVPESLPCREQEF\"\n",
    "CDC6 = \"QESAAKCQKPVRAKSKSAESPSWTPAEHVAKRIESRHSASKSRQTPTHPLTPRARKRLELG\"\n",
    "ORC=\"MAHYPTRLKTRKTYSWVGRPLLDRKLHYQTYREMCVKTEGCSTEIHIQIGQFVLIEGDDDENPYVAKLLELFEDDSDPPPKKRARVQWFVRFCEVPACKRHLLGRKPGAQEIFWYDYPACDSNINAETIIGLVRVIPLAPKDVVPTNLKNEKTLFVKLSWNEKKFRPLSSELFAELNKPQESAAKCQKPVRAKSKSAESPSWTPAEHVAKRIESRHSASKSRQTPTHPLTPRARKRLELGNLGNPQMSQQTSCASLDSPGRIKRKVAFSEITSPSKRSQPDKLQTLSPALKAPEKTRETGLSYTEDDKKASPEHRIILRTRIAASKTIDIREERTLTPISGGQRSSVVPSVILKPENIKKRDAKEAKAQNEATSTPHRIRRKSSVLTMNRIRQQLRFLGNSKSDQEEKEILPAAEISDSSSDEEEASTPPLPRRAPRTVSRNLRSSLKSSLHTLTKVPKKSLKPRTPRCAAPQIRSRSLAAQEPASVLEEARLRLHVSAVPESLPCREQEFQDIYNFVESKLLDHTGGCMYISGVPGTGKTATVHEVIRCLQQAAQANDVPPFQYIEVNGMKLTEPHQVYVQILQKLTGQKATANHAAELLAKQFCTRGSPQETTVLLVDELDLLWTHKQDIMYNLFDWPTHKEARLVVLAIANTMDLPERIMMNRVSSRLGLTRMCFQPYTYSQLQQILRSRLKHLKAFEDDAIQLVARKVAALSGDARRCLDICRRATEICEFSQQKPDSPGLVTIAHSMEAVDEMFSSSYITAIKNSSVLEQSFLRAILAEFRRSGLEEATFQQIYSQHVALCRMEGLPYPTMSETMAVCSHLGSCRLLLVEPSRNDLLLRVRLNVSQDDVLYALKDE\"\n",
    "\n",
    "# Calculations\n",
    "ORC1_R = percantage_aa(seq=ORC, A=\"R\")\n",
    "IDR_R = percantage_aa(seq=IDR, A=\"R\")\n",
    "G4_R = percantage_aa(seq=G4, A=\"R\")\n",
    "CDC6_R = percantage_aa(seq=CDC6, A=\"R\")\n",
    "\n",
    "ORC1_G = percantage_aa(seq=ORC, A=\"G\")\n",
    "IDR_G = percantage_aa(seq=IDR, A=\"G\")\n",
    "G4_G = percantage_aa(seq=G4, A=\"G\")\n",
    "CDC6_G = percantage_aa(seq=CDC6, A=\"G\")\n",
    "\n",
    "print(f\"Arginines in different ORC1 domains:\")\n",
    "print(f\"ORC1: {ORC1_R} ; IDR: {IDR_R} ; G4 binding: {G4_R} ; CDC6 binding: {CDC6_R}\")\n",
    "\n",
    "print(f\"Glycines in different ORC1 domains:\")\n",
    "print(f\"ORC1: {ORC1_G} ; IDR: {IDR_G} ; G4 binding: {G4_G} ; CDC6 binding: {CDC6_G}\")"
   ]
  }
 ],
 "metadata": {
  "kernelspec": {
   "display_name": "bioinfo",
   "language": "python",
   "name": "python3"
  },
  "language_info": {
   "codemirror_mode": {
    "name": "ipython",
    "version": 3
   },
   "file_extension": ".py",
   "mimetype": "text/x-python",
   "name": "python",
   "nbconvert_exporter": "python",
   "pygments_lexer": "ipython3",
   "version": "3.9.21"
  }
 },
 "nbformat": 4,
 "nbformat_minor": 2
}
