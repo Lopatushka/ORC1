{
 "cells": [
  {
   "cell_type": "markdown",
   "metadata": {},
   "source": [
    "# Analysis of clinical variatns of ORC1 protein"
   ]
  },
  {
   "cell_type": "code",
   "execution_count": 1,
   "metadata": {},
   "outputs": [],
   "source": [
    "# Import libraries\n",
    "from clinvar_functions import *\n",
    "import pandas as pd\n",
    "import matplotlib.pyplot as plt"
   ]
  },
  {
   "cell_type": "markdown",
   "metadata": {},
   "source": [
    "## ORC1 regions"
   ]
  },
  {
   "cell_type": "code",
   "execution_count": 2,
   "metadata": {},
   "outputs": [],
   "source": [
    "# List of intervals for particular feature\n",
    "\n",
    "#LLPS = [(360, 382), (412, 476), (577, 636), (677, 729), (757, 816)] # Chinees paper\n",
    "#IDR_total = [(183, 476)] # Chinees paper\n",
    "#G4_RNA = [(413, 511)] # Hoshina paper\n",
    "#CDCD6=[(180, 240)] # CDC6 paper\n",
    "#BP=[(354, 368), (378, 392)] # CDC6 paper\n",
    "IDR = [(183, 511)]\n",
    "RBD = [(413, 511)]\n",
    "\n",
    "# Positions\n",
    "IDR_pos = generate_list(IDR)\n",
    "RBD_pos = generate_list(RBD)\n",
    "# G4_RNA_positions = generate_list(G4_RNA)\n",
    "# LLPS_positions = generate_list(LLPS)\n",
    "# CDCD6_positions = generate_list(CDCD6)\n",
    "# BP_positions = generate_list(BP)"
   ]
  },
  {
   "cell_type": "markdown",
   "metadata": {},
   "source": [
    "## Read data"
   ]
  },
  {
   "cell_type": "code",
   "execution_count": 2,
   "metadata": {},
   "outputs": [
    {
     "data": {
      "text/plain": [
       "(333, 25)"
      ]
     },
     "execution_count": 2,
     "metadata": {},
     "output_type": "execute_result"
    }
   ],
   "source": [
    "# Set option to display all rows and columns\n",
    "# pd.set_option('display.max_rows', None)\n",
    "# pd.set_option('display.max_columns', None)\n",
    "\n",
    "# Read dataframe\n",
    "df = pd.read_csv('./data/clinvar_result.csv', sep = \"\\t\")\n",
    "df = df[df['Gene(s)'] == 'ORC1'] # save only ORC1 gene - delete 7 records\n",
    "df.shape"
   ]
  },
  {
   "cell_type": "code",
   "execution_count": null,
   "metadata": {},
   "outputs": [],
   "source": [
    "columns = ['Gene(s)', \"Variant type\", 'Molecular consequence', 'Germline classification', 'Germline review status',\\\n",
    "           'Somatic clinical impact', 'Oncogenicity classification', 'Oncogenicity review status']\n",
    "for col in columns:\n",
    "    print(col, set(df[col]))"
   ]
  },
  {
   "cell_type": "markdown",
   "metadata": {},
   "source": [
    "## Look at the different columns of df"
   ]
  },
  {
   "cell_type": "code",
   "execution_count": null,
   "metadata": {},
   "outputs": [],
   "source": [
    "df[\"Condition(s)\"].value_counts()"
   ]
  },
  {
   "cell_type": "code",
   "execution_count": null,
   "metadata": {},
   "outputs": [],
   "source": [
    "df[\"Germline classification\"].value_counts()"
   ]
  },
  {
   "cell_type": "code",
   "execution_count": null,
   "metadata": {},
   "outputs": [],
   "source": [
    "df['Germline review status'].value_counts()"
   ]
  },
  {
   "cell_type": "code",
   "execution_count": null,
   "metadata": {},
   "outputs": [],
   "source": [
    "df['Germline classification'].value_counts()"
   ]
  },
  {
   "cell_type": "code",
   "execution_count": null,
   "metadata": {},
   "outputs": [],
   "source": [
    "df['Molecular consequence'].value_counts()"
   ]
  },
  {
   "cell_type": "markdown",
   "metadata": {},
   "source": [
    "## Get list of transcript IDs"
   ]
  },
  {
   "cell_type": "code",
   "execution_count": null,
   "metadata": {},
   "outputs": [],
   "source": [
    "IDs = df['Name'].apply(lambda x: x.split(\":\")[0])\n",
    "IDs.value_counts()"
   ]
  },
  {
   "cell_type": "markdown",
   "metadata": {},
   "source": [
    "## Add new column: Condition_new"
   ]
  },
  {
   "cell_type": "code",
   "execution_count": 3,
   "metadata": {},
   "outputs": [],
   "source": [
    "df['Condition_new'] = df['Condition(s)'].map(rename_condition, na_action='ignore')"
   ]
  },
  {
   "cell_type": "code",
   "execution_count": null,
   "metadata": {},
   "outputs": [],
   "source": [
    "df['Condition_new'].value_counts()"
   ]
  },
  {
   "cell_type": "markdown",
   "metadata": {},
   "source": [
    "# Non-coding mutations"
   ]
  },
  {
   "cell_type": "code",
   "execution_count": null,
   "metadata": {},
   "outputs": [],
   "source": [
    "sum(df[\"Protein change\"].isna()) # no protein change - how many mutations?"
   ]
  },
  {
   "cell_type": "code",
   "execution_count": null,
   "metadata": {},
   "outputs": [],
   "source": [
    "len(df[\"Protein change\"]) # all variants - how many?"
   ]
  },
  {
   "cell_type": "code",
   "execution_count": 4,
   "metadata": {},
   "outputs": [],
   "source": [
    "# Making a subset of variants that are not affected protein level\n",
    "noncoding = df[df[\"Protein change\"].isna()]"
   ]
  },
  {
   "cell_type": "code",
   "execution_count": null,
   "metadata": {},
   "outputs": [],
   "source": [
    "noncoding['Condition_new'].value_counts()"
   ]
  },
  {
   "cell_type": "code",
   "execution_count": null,
   "metadata": {},
   "outputs": [],
   "source": [
    "noncoding[noncoding['Condition_new'] == 'Meier-Gorlin syndrome 1'].groupby('Germline review status').size()"
   ]
  },
  {
   "cell_type": "code",
   "execution_count": null,
   "metadata": {},
   "outputs": [],
   "source": [
    "noncoding[noncoding['Condition_new'] == 'Meier-Gorlin syndrome 1 probably'].groupby('Germline review status').size()"
   ]
  },
  {
   "cell_type": "code",
   "execution_count": 8,
   "metadata": {},
   "outputs": [
    {
     "data": {
      "text/plain": [
       "Germline classification\n",
       "Likely benign                                   93\n",
       "Benign                                          18\n",
       "Uncertain significance                          13\n",
       "Conflicting classifications of pathogenicity     9\n",
       "Likely pathogenic                                5\n",
       "Benign/Likely benign                             4\n",
       "Pathogenic                                       3\n",
       "Name: count, dtype: int64"
      ]
     },
     "execution_count": 8,
     "metadata": {},
     "output_type": "execute_result"
    }
   ],
   "source": [
    "noncoding['Germline classification'].value_counts()"
   ]
  },
  {
   "cell_type": "code",
   "execution_count": 10,
   "metadata": {},
   "outputs": [
    {
     "data": {
      "text/plain": [
       "0                          NaN\n",
       "146    splice acceptor variant\n",
       "280    splice acceptor variant\n",
       "Name: Molecular consequence, dtype: object"
      ]
     },
     "execution_count": 10,
     "metadata": {},
     "output_type": "execute_result"
    }
   ],
   "source": [
    "noncoding[noncoding['Germline classification']=='Pathogenic']['Molecular consequence']"
   ]
  },
  {
   "cell_type": "code",
   "execution_count": 11,
   "metadata": {},
   "outputs": [
    {
     "data": {
      "text/plain": [
       "36     splice acceptor variant\n",
       "99     splice acceptor variant\n",
       "113    splice acceptor variant\n",
       "161    splice acceptor variant\n",
       "238       splice donor variant\n",
       "Name: Molecular consequence, dtype: object"
      ]
     },
     "execution_count": 11,
     "metadata": {},
     "output_type": "execute_result"
    }
   ],
   "source": [
    "noncoding[noncoding['Germline classification']=='Likely pathogenic']['Molecular consequence']"
   ]
  },
  {
   "cell_type": "markdown",
   "metadata": {},
   "source": [
    "# Non-coding variants visualization"
   ]
  },
  {
   "cell_type": "markdown",
   "metadata": {},
   "source": [
    "List of Exons of ORC1 (file hg38_dna range=chr1:52372829-52404423):\n",
    "exon          \t1..547        \n",
    "exon          \t1982..2069    \n",
    "exon          \t2602..2771    \n",
    "exon          \t8814..8933    \n",
    "exon          \t10.592..10.741\n",
    "exon          \t11.002..11.109\n",
    "exon          \t11.722..11.893\n",
    "exon          \t12.333..12.434\n",
    "exon          \t13.024..13.121\n",
    "exon          \t15.614..15.809\n",
    "exon          \t16.389..16.493\n",
    "exon          \t20.615..20.975\n",
    "exon          \t23.218..23.536\n",
    "exon          \t24.857..25.035\n",
    "exon          \t28.534..28.661\n",
    "exon          \t29.301..29.400\n",
    "exon          \t31.418..31.595\n",
    "\n",
    "List of regulation elements (file hg38_dna range=chr1:52372829-52404423):\n",
    "enhancer_distal 12585...12893\n",
    "enhancer_proximal 30091..30367\n",
    "enhancer_proximal 30826..31175\n",
    "enhancer_proximal 31239..31442\n",
    "promoter (partial) 31531..31595\n",
    "\n",
    "Gene length: 31595 bp\n",
    "Positions: 52372829 - 52404423"
   ]
  },
  {
   "cell_type": "code",
   "execution_count": 25,
   "metadata": {},
   "outputs": [],
   "source": [
    "# Subset of data from noncoding dataframe\n",
    "\n",
    "# Filter the data for multiple conditions\n",
    "MGS_non_coding_muts = noncoding[\n",
    "    (noncoding['Condition_new'] == 'Meier-Gorlin syndrome 1') &\n",
    "    (noncoding['Germline review status'] == 'criteria provided, single submitter') &\n",
    "    (noncoding['Germline classification']!='Benign') &\n",
    "    (noncoding['Germline classification']!='Benign/Likely benign')\n",
    "][['GRCh38Location', 'Name', 'Condition_new', 'Accession', \"Germline classification\", 'Molecular consequence', 'Germline classification']]\n",
    "\n",
    "# Filter the data for multiple conditions\n",
    "MGS_probable_non_coding_muts = noncoding[\n",
    "    (noncoding['Condition_new'] == 'Meier-Gorlin syndrome 1 probably') &\n",
    "    (noncoding['Germline review status'] == 'criteria provided, multiple submitters, no conflicts') &\n",
    "    (noncoding['Germline classification']!='Benign') &\n",
    "    (noncoding['Germline classification']!='Benign/Likely benign')\n",
    "][['GRCh38Location', 'Name', 'Condition_new', 'Accession', \"Germline classification\", 'Molecular consequence', 'Germline classification']]\n",
    "\n",
    "# Create new column New_location\n",
    "MGS_non_coding_muts[\"New_location\"] = MGS_non_coding_muts['GRCh38Location'].apply(parse_location).astype(int).apply(lambda x: adjust_location(x, 52372828))\n",
    "MGS_probable_non_coding_muts[\"New_location\"] = MGS_probable_non_coding_muts['GRCh38Location'].apply(parse_location).astype(int).apply(lambda x: adjust_location(x, 52372828))\n",
    "\n",
    "# Create new column New_name\n",
    "\n",
    "MGS_non_coding_muts[\"New_name\"] = MGS_non_coding_muts['Name'].apply(lambda x: x.split(\":\")[1])\n",
    "MGS_probable_non_coding_muts[\"New_name\"] = MGS_probable_non_coding_muts['Name'].apply(lambda x: x.split(\":\")[1])"
   ]
  },
  {
   "cell_type": "code",
   "execution_count": 26,
   "metadata": {},
   "outputs": [
    {
     "data": {
      "image/png": "[encoded data removed]",
      "text/plain": [
       "<Figure size 2000x400 with 1 Axes>"
      ]
     },
     "metadata": {},
     "output_type": "display_data"
    }
   ],
   "source": [
    "# Define protein information\n",
    "protein_length = 31595  # Gene length\n",
    "domains = [\n",
    "    # regulatory elements\n",
    "    {\"name\": \"enhancer_distal\", \"start\": 12585, \"end\": 12893, \"color\": \"grey\", \"alpha\": 0.25},\n",
    "    {\"name\": \"enhancer_proximal\", \"start\": 30091, \"end\": 30367, \"color\": \"grey\", \"alpha\": 0.7},\n",
    "    {\"name\": \"enhancer_proximal\", \"start\": 30826, \"end\": 31175, \"color\": \"grey\", \"alpha\": 0.7},\n",
    "    {\"name\": \"enhancer_proximal\", \"start\": 31239, \"end\": 31442, \"color\": \"grey\", \"alpha\": 0.7},\n",
    "    {\"name\": \"promoter\", \"start\": 31531, \"end\": 31595, \"color\": \"black\", \"alpha\": 1},\n",
    "\n",
    "    {\"name\": \"non-coding exon\", \"start\": 1, \"end\": 352, \"color\": \"deepskyblue\", \"alpha\": 0.5},\n",
    "    {\"name\": \"exon\", \"start\": 353, \"end\": 597, \"color\": \"mediumaquamarine\", \"alpha\": 1},\n",
    "\n",
    "    {\"name\": \"exon\", \"start\": 1982, \"end\": 2069, \"color\": \"mediumaquamarine\", \"alpha\": 1},\n",
    "    {\"name\": \"exon\", \"start\": 2602, \"end\": 2771, \"color\": \"mediumaquamarine\", \"alpha\": 1},\n",
    "    {\"name\": \"exon\", \"start\": 8814, \"end\": 8933, \"color\": \"mediumaquamarine\", \"alpha\": 1},\n",
    "    {\"name\": \"exon\", \"start\": 10592, \"end\": 10741, \"color\": \"mediumaquamarine\", \"alpha\": 1},\n",
    "    {\"name\": \"exon\", \"start\": 11002, \"end\": 11109, \"color\": \"mediumaquamarine\", \"alpha\": 1},\n",
    "    {\"name\": \"exon\", \"start\": 11722, \"end\": 11893, \"color\": \"mediumaquamarine\", \"alpha\": 1},\n",
    "\n",
    "    # IDR end\n",
    "    {\"name\": \"exon\", \"start\": 12333, \"end\": 12382, \"color\": \"mediumaquamarine\", \"alpha\": 1},\n",
    "    {\"name\": \"exon: RBD domain\", \"start\": 12383, \"end\": 12434, \"color\": \"red\", \"alpha\": 1},\n",
    "\n",
    "    {\"name\": \"exon: RBD domain\", \"start\": 13024, \"end\": 13121, \"color\": \"red\", \"alpha\": 1},\n",
    "\n",
    "    # RBD start\n",
    "    {\"name\": \"exon: IDR domain\", \"start\": 15760, \"end\": 15809, \"color\": \"orange\", \"alpha\": 1},\n",
    "    {\"name\": \"exon: IDR domain\", \"start\": 15614, \"end\": 15759, \"color\": \"red\", \"alpha\": 1},\n",
    "\n",
    "    {\"name\": \"exon: IDR domain\", \"start\": 16389, \"end\": 16493, \"color\": \"orange\", \"alpha\": 1},\n",
    "    {\"name\": \"exon: IDR domain\", \"start\": 20615, \"end\": 20975, \"color\": \"orange\", \"alpha\": 1},\n",
    "    \n",
    "    # IDR start\n",
    "    {\"name\": \"exon: IDR domain\", \"start\": 23218, \"end\": 23392, \"color\": \"orange\", \"alpha\": 1},\n",
    "    {\"name\": \"exon\", \"start\": 23393, \"end\": 23536, \"color\": \"mediumaquamarine\", \"alpha\": 1},\n",
    "\n",
    "    {\"name\": \"exon\", \"start\": 24857, \"end\": 25035, \"color\": \"mediumaquamarine\", \"alpha\": 1},\n",
    "    {\"name\": \"exon\", \"start\": 28534, \"end\": 28661, \"color\": \"mediumaquamarine\", \"alpha\": 1},\n",
    "\n",
    "    {\"name\": \"exon\", \"start\": 29301, \"end\": 29396, \"color\": \"mediumaquamarine\", \"alpha\": 1},\n",
    "    {\"name\": \"non-coding exon\", \"start\": 29397, \"end\": 29400, \"color\": \"deepskyblue\", \"alpha\": 1},\n",
    "\n",
    "    {\"name\": \"exon\", \"start\": 31418, \"end\": 31595, \"color\": \"deepskyblue\", \"alpha\": 0.5}\n",
    "]\n",
    "\n",
    "\n",
    "# Create the figure\n",
    "fig, ax = plt.subplots(figsize=(20, 4))\n",
    "\n",
    "# Draw the protein backbone\n",
    "ax.plot([0, protein_length], [0.5, 0.5], color=\"black\", lw=6, label=\"Protein Backbone\")\n",
    "\n",
    "# Track unique labels for the legend\n",
    "unique_labels = {}\n",
    "\n",
    "# Draw the domains with labels\n",
    "for domain in domains:\n",
    "    label = f\"{domain['name']}\"\n",
    "    if label not in unique_labels:\n",
    "        unique_labels[label] = domain[\"color\"]\n",
    "    ax.barh(0.5, domain[\"end\"] - domain[\"start\"], left=domain[\"start\"], height=0.3,\n",
    "            color=domain[\"color\"], alpha=domain[\"alpha\"], label=None)  # Add label only for legend\n",
    "    \n",
    "# Plot mutations\n",
    "for _, mutation in MGS_non_coding_muts.iterrows():\n",
    "    ax.plot(\n",
    "        mutation[\"New_location\"],\n",
    "        0.5,\n",
    "        marker=\"o\",\n",
    "        color=\"red\",\n",
    "        markersize=8,\n",
    "        label=\"Mutation\" if _ == 0 else \"\"\n",
    "    )\n",
    "    ax.text(\n",
    "        mutation[\"New_location\"],\n",
    "        0.55,\n",
    "        mutation[\"New_name\"],\n",
    "        ha=\"center\",\n",
    "        fontsize=9,\n",
    "        rotation=45,\n",
    "        color=\"red\"\n",
    "    )\n",
    "\n",
    "unique_labels[\"MSG Mutations\"] = \"red\"\n",
    "unique_labels[\"Probable MSG Mutations\"] = \"blue\"\n",
    "\n",
    "# Plot mutations\n",
    "for _, mutation in MGS_probable_non_coding_muts.iterrows():\n",
    "    ax.plot(\n",
    "        mutation[\"New_location\"],\n",
    "        0.5,\n",
    "        marker=\"o\",\n",
    "        color=\"blue\",\n",
    "        markersize=8,\n",
    "        label=\"Mutation\" if _ == 0 else \"\"\n",
    "    )\n",
    "    ax.text(\n",
    "        mutation[\"New_location\"],\n",
    "        0.25,\n",
    "        mutation[\"New_name\"],\n",
    "        ha=\"center\",\n",
    "        fontsize=9,\n",
    "        rotation=45,\n",
    "        color=\"blue\"\n",
    "    )\n",
    "\n",
    "\n",
    "\n",
    "# Add the unique legend\n",
    "ax.legend(handles=[plt.Line2D([0], [0], color=color, lw=4, label=label) for label, color in unique_labels.items()],\n",
    "          loc=\"upper center\", ncol=4, frameon=True, fontsize=10)\n",
    "\n",
    "# Add gridlines for alignment\n",
    "ax.grid(axis=\"x\", color=\"gray\", linestyle=\"--\", linewidth=0.5, alpha=0.7)\n",
    "\n",
    "# Add labels and title\n",
    "ax.set_xlim(0, protein_length)\n",
    "ax.set_ylim(0, 1)\n",
    "ax.set_xticks(range(0, protein_length + 1000, 1000))\n",
    "ax.set_yticks([])\n",
    "ax.set_xlabel(\"Position\", fontsize=12)\n",
    "ax.set_title(\"hORC1 gene with Non-coding mutations\", fontsize=14, pad=20)\n",
    "\n",
    "# Show the plot\n",
    "plt.tight_layout()\n",
    "plt.show()\n"
   ]
  },
  {
   "cell_type": "code",
   "execution_count": null,
   "metadata": {},
   "outputs": [],
   "source": [
    "# Data\n",
    "grouped_counts = noncoding.groupby(\"Germline review status\")[\"Condition_new\"].value_counts()\n",
    "plot_data = grouped_counts.reset_index(name=\"Counts\")\n",
    "plot_data\n",
    "\n",
    "# Pivot the data for better visualization\n",
    "pivot_data = plot_data.pivot(index=\"Condition_new\", columns=\"Germline review status\", values=\"Counts\")\n",
    "\n",
    "# Plot as a bar chart\n",
    "pivot_data.plot(kind=\"bar\", figsize=(10, 8), edgecolor=\"black\")\n",
    "\n",
    "plt.title(\"Counts of Conditions by Germline Review Status for non-protein mutations\", fontsize=14)\n",
    "plt.xlabel(\"Condition\", fontsize=12)\n",
    "plt.ylabel(\"Counts\", fontsize=12)\n",
    "plt.xticks(rotation=45)\n",
    "plt.legend(title=\"Germline Review Status\")\n",
    "plt.grid(axis=\"y\", linestyle=\"--\", alpha=0.7)\n",
    "plt.tight_layout()\n",
    "plt.show()"
   ]
  },
  {
   "cell_type": "code",
   "execution_count": null,
   "metadata": {},
   "outputs": [],
   "source": [
    "# Filter the data for the specific condition\n",
    "filtered_data = noncoding['Germline review status'][df[\"Condition_new\"] ==\"Meier-Gorlin syndrome 1\"]\n",
    "# Count the occurrences of each status\n",
    "status_counts = filtered_data.value_counts()\n",
    "\n",
    "# Count the occurrences of each status\n",
    "status_counts = filtered_data.value_counts()\n",
    "\n",
    "# Plot a pie chart\n",
    "plt.figure(figsize=(8, 6))\n",
    "pie_chart = status_counts.plot.pie(\n",
    "    labels=None,\n",
    "    autopct='%1.1f%%',  # Show percentages\n",
    "    startangle=90,      # Rotate start angle\n",
    "    colors=['skyblue', 'lightgreen', 'orange'],  # Optional: specify colors\n",
    "    wedgeprops={'edgecolor': 'black'},  # Add edge color\n",
    "    title=\"Germline Review Status for Meier-Gorlin Syndrome 1 for non-protein mutations\"\n",
    ")\n",
    "# Add a centered title\n",
    "plt.title(\n",
    "    \"Germline Review Status for Meier-Gorlin Syndrome 1 for non-protein mutations\", \n",
    "    loc=\"center\",          # Explicitly center the title\n",
    "    fontsize=14,           # Adjust font size for visibility\n",
    "    pad=20                 # Add padding between the title and the chart\n",
    ")\n",
    "\n",
    "# Add a legend at the center right\n",
    "plt.legend(\n",
    "    labels=status_counts.index,  # Use the status names as labels\n",
    "    title=\"Status\",              # Add a title to the legend\n",
    "    loc=\"center right\",          # Position the legend at the center-right\n",
    "    bbox_to_anchor=(1.50, 0.5),  # Offset for better alignment\n",
    ")\n",
    "\n",
    "plt.ylabel(\"\")  # Remove default y-axis label\n",
    "plt.tight_layout()  # Adjust layout to fit everything nicely\n",
    "plt.show()"
   ]
  },
  {
   "cell_type": "code",
   "execution_count": null,
   "metadata": {},
   "outputs": [],
   "source": [
    "# Filter the data for the specific condition\n",
    "filtered_data = noncoding['Germline review status'][df[\"Condition_new\"] ==\"Meier-Gorlin syndrome 1 probably\"]\n",
    "# Count the occurrences of each status\n",
    "status_counts = filtered_data.value_counts()\n",
    "\n",
    "# Plot a pie chart\n",
    "plt.figure(figsize=(8, 6))\n",
    "status_counts.plot.pie(\n",
    "    labels=None,\n",
    "    autopct='%1.1f%%',  # Show percentages\n",
    "    startangle=90,      # Rotate start angle\n",
    "    colors=['skyblue', 'lightgreen', 'orange'],  # Optional: specify colors\n",
    "    wedgeprops={'edgecolor': 'black'},  # Add edge color\n",
    "    title=\"Germline Review Status for probable Meier-Gorlin Syndrome 1\"\n",
    ")\n",
    "# Add a centered title\n",
    "plt.title(\n",
    "    \"Germline Review Status for probable Meier-Gorlin Syndrome 1 for non-protein mutations\", \n",
    "    ha=\"center\",          # Explicitly center the title\n",
    "    fontsize=14,           # Adjust font size for visibility\n",
    "    pad=20\n",
    "    )\n",
    "\n",
    "# Add a legend at the center right\n",
    "plt.legend(\n",
    "    labels=status_counts.index,  # Use the status names as labels\n",
    "    title=\"Status\",              # Add a title to the legend\n",
    "    loc=\"center right\",          # Position the legend at the center-right\n",
    "    bbox_to_anchor=(1.80, 0.5),  # Offset for better alignment\n",
    ")\n",
    "\n",
    "plt.ylabel(\"\")  # Remove default y-axis label\n",
    "plt.show()"
   ]
  },
  {
   "cell_type": "markdown",
   "metadata": {},
   "source": [
    "# Visualisation"
   ]
  },
  {
   "cell_type": "markdown",
   "metadata": {},
   "source": [
    "## Analyse Germline review status"
   ]
  },
  {
   "cell_type": "code",
   "execution_count": null,
   "metadata": {},
   "outputs": [],
   "source": [
    "# Data\n",
    "grouped_counts = df.groupby(\"Germline review status\")[\"Condition_new\"].value_counts()\n",
    "plot_data = grouped_counts.reset_index(name=\"Counts\")\n",
    "plot_data\n",
    "\n",
    "# Pivot the data for better visualization\n",
    "pivot_data = plot_data.pivot(index=\"Condition_new\", columns=\"Germline review status\", values=\"Counts\")\n",
    "\n",
    "# Plot as a bar chart\n",
    "pivot_data.plot(kind=\"bar\", figsize=(10, 8), edgecolor=\"black\")\n",
    "\n",
    "plt.title(\"Counts of Conditions by Germline Review Status\", fontsize=14)\n",
    "plt.xlabel(\"Condition\", fontsize=12)\n",
    "plt.ylabel(\"Counts\", fontsize=12)\n",
    "plt.xticks(rotation=45)\n",
    "plt.legend(title=\"Germline Review Status\")\n",
    "plt.grid(axis=\"y\", linestyle=\"--\", alpha=0.7)\n",
    "plt.tight_layout()\n",
    "plt.show()"
   ]
  },
  {
   "cell_type": "code",
   "execution_count": null,
   "metadata": {},
   "outputs": [],
   "source": [
    "# Filter the data for the specific condition\n",
    "filtered_data = df['Germline review status'][df[\"Condition_new\"] ==\"Meier-Gorlin syndrome 1\"]\n",
    "# Count the occurrences of each status\n",
    "status_counts = filtered_data.value_counts()\n",
    "\n",
    "# Count the occurrences of each status\n",
    "status_counts = filtered_data.value_counts()\n",
    "\n",
    "# Plot a pie chart\n",
    "plt.figure(figsize=(8, 6))\n",
    "pie_chart = status_counts.plot.pie(\n",
    "    labels=None,\n",
    "    autopct='%1.1f%%',  # Show percentages\n",
    "    startangle=90,      # Rotate start angle\n",
    "    colors=['skyblue', 'lightgreen', 'orange'],  # Optional: specify colors\n",
    "    wedgeprops={'edgecolor': 'black'},  # Add edge color\n",
    "    title=\"Germline Review Status for Meier-Gorlin Syndrome 1\"\n",
    ")\n",
    "# Add a centered title\n",
    "plt.title(\n",
    "    \"Germline Review Status for Meier-Gorlin Syndrome 1\", \n",
    "    loc=\"center\",          # Explicitly center the title\n",
    "    fontsize=14,           # Adjust font size for visibility\n",
    "    pad=20                 # Add padding between the title and the chart\n",
    ")\n",
    "\n",
    "# Add a legend at the center right\n",
    "plt.legend(\n",
    "    labels=status_counts.index,  # Use the status names as labels\n",
    "    title=\"Status\",              # Add a title to the legend\n",
    "    loc=\"center right\",          # Position the legend at the center-right\n",
    "    bbox_to_anchor=(1.50, 0.5),  # Offset for better alignment\n",
    ")\n",
    "\n",
    "plt.ylabel(\"\")  # Remove default y-axis label\n",
    "plt.tight_layout()  # Adjust layout to fit everything nicely\n",
    "plt.show()"
   ]
  },
  {
   "cell_type": "code",
   "execution_count": null,
   "metadata": {},
   "outputs": [],
   "source": [
    "# Filter the data for the specific condition\n",
    "filtered_data = df['Germline review status'][df[\"Condition_new\"] ==\"Meier-Gorlin syndrome 1 probably\"]\n",
    "# Count the occurrences of each status\n",
    "status_counts = filtered_data.value_counts()\n",
    "\n",
    "# Plot a pie chart\n",
    "plt.figure(figsize=(8, 6))\n",
    "status_counts.plot.pie(\n",
    "    labels=None,\n",
    "    autopct='%1.1f%%',  # Show percentages\n",
    "    startangle=90,      # Rotate start angle\n",
    "    colors=['skyblue', 'lightgreen', 'orange'],  # Optional: specify colors\n",
    "    wedgeprops={'edgecolor': 'black'},  # Add edge color\n",
    "    title=\"Germline Review Status for probable Meier-Gorlin Syndrome 1\"\n",
    ")\n",
    "# Add a centered title\n",
    "plt.title(\n",
    "    \"Germline Review Status for probable Meier-Gorlin Syndrome 1\", \n",
    "    ha=\"center\",          # Explicitly center the title\n",
    "    fontsize=14,           # Adjust font size for visibility\n",
    "    pad=20\n",
    "    )\n",
    "\n",
    "# Add a legend at the center right\n",
    "plt.legend(\n",
    "    labels=status_counts.index,  # Use the status names as labels\n",
    "    title=\"Status\",              # Add a title to the legend\n",
    "    loc=\"center right\",          # Position the legend at the center-right\n",
    "    bbox_to_anchor=(1.80, 0.5),  # Offset for better alignment\n",
    ")\n",
    "\n",
    "plt.ylabel(\"\")  # Remove default y-axis label\n",
    "plt.show()"
   ]
  },
  {
   "cell_type": "markdown",
   "metadata": {},
   "source": [
    "## Filtration: Meier-Gorlin syndrome 1 and probable Meier-Gorlin syndrome 1"
   ]
  },
  {
   "cell_type": "code",
   "execution_count": 29,
   "metadata": {},
   "outputs": [],
   "source": [
    "# Keep only protein changes\n",
    "df = df.dropna(subset=[\"Protein change\"])"
   ]
  },
  {
   "cell_type": "markdown",
   "metadata": {},
   "source": [
    "Mutations that change amino acids. The picture of protein with domains.\n",
    "Filter mutations by the following rules:\n",
    "1. Germline review status == \"criteria provided, single submitter\" OR \"criteria provided, multiple submitters, no conflicts\"\n",
    "2. 'Germline classification' == Uncertain significance OR Likely pathogenic OR Pathogenic"
   ]
  },
  {
   "cell_type": "code",
   "execution_count": 114,
   "metadata": {},
   "outputs": [],
   "source": [
    "# Dataset filtration\n",
    "MSG = df[\n",
    "    (df[\"Condition_new\"] == \"Meier-Gorlin syndrome 1\") &\n",
    "    (df[\"Germline review status\"] == \"criteria provided, single submitter\")\n",
    "]\n",
    "MSG = MSG[(MSG['Germline classification'] != 'Benign') & (MSG['Germline classification'] !='Benign/Likely benign')]\n",
    "\n",
    "MSG_probably = df[\n",
    "    (df[\"Condition_new\"] == \"Meier-Gorlin syndrome 1 probably\") &\n",
    "    (df[\"Germline review status\"] == \"criteria provided, multiple submitters, no conflicts\")\n",
    "]\n",
    "MSG_probably = MSG_probably[(MSG_probably['Germline classification'] != 'Benign') & (MSG_probably['Germline classification'] !='Benign/Likely benign')]"
   ]
  },
  {
   "cell_type": "markdown",
   "metadata": {},
   "source": [
    "Top Variants with Strong Negative Effects - These mutations significantly reduce phase separation and RNA-binding ability:\n",
    "\n",
    "A.174.V 0.64 [ 0.56, 0.72 ]\n",
    "R.396.W 0.66 [ 0.52, 0.8 ]\n",
    "A.372.V 0.76 [ 0.84, 0.68 ]\n",
    "G.399.D 0.76 [ 0.92, 0.6 ]\n",
    "R.549.C 0.98 [ 0.96, 1 ]\n",
    "\n",
    "Top Variants with Strong Positive Effects - These mutations enhance phase separation and RNA-binding ability:\n",
    "\n",
    "E.73.K 0.764706  [ 0.882353, 0.647059 ]\n",
    "L.617.P 0.823529 [ 0.941176, 0.705882 ]\n",
    "C.186.R 0.882352 [ 0.823529, 0.941176 ]\n",
    "L.622.P 0.882353 [ 1, 0.764706 ]"
   ]
  },
  {
   "cell_type": "code",
   "execution_count": null,
   "metadata": {},
   "outputs": [],
   "source": [
    "# Prediction of top negatively affected on the LLPS and RNA binding mutations and positively affected ones.\n",
    "negative_mutations = ['A174V', 'R396W', 'A372V', 'G399D', 'R549C']\n",
    "positive_mutations = ['E73K', 'L617P', 'C186R', 'L622P']\n",
    "\n",
    "# Create dictionary with mutations of visualization\n",
    "mutations_MSG = create_mutation_dict(MSG)\n",
    "mutations_MSG_probably = create_mutation_dict(MSG_probably)\n",
    "\n",
    "# Make 4 extra list of dictionaly with mutations of interest\n",
    "negative_mutations_MGS=[]\n",
    "positive_mutations_MGS=[]\n",
    "negative_mutations_MGS_probably=[]\n",
    "positive_mutations_MGS_probably=[]\n",
    "\n",
    "for di in mutations_MSG:\n",
    "    if di['label'] in negative_mutations:\n",
    "        new_mutant = {'position': di['position'], 'label':di['label']}\n",
    "        negative_mutations_MGS.append(new_mutant)\n",
    "        mutations_MSG.remove(new_mutant)\n",
    "    if di['label'] in positive_mutations:\n",
    "        new_mutant = {'position': di['position'], 'label':di['label']}\n",
    "        positive_mutations_MGS.append(new_mutant)\n",
    "        mutations_MSG.remove(new_mutant)\n",
    "\n",
    "for di in mutations_MSG_probably:\n",
    "    if di['label'] in negative_mutations:\n",
    "        new_mutant = {'position': di['position'], 'label':di['label']}\n",
    "        negative_mutations_MGS_probably.append(new_mutant)\n",
    "        mutations_MSG_probably.remove(new_mutant)\n",
    "    if di['label'] in positive_mutations:\n",
    "       new_mutant = {'position': di['position'], 'label':di['label']}\n",
    "       positive_mutations_MGS_probably.append(new_mutant)\n",
    "       mutations_MSG_probably.remove(new_mutant)\n"
   ]
  },
  {
   "cell_type": "code",
   "execution_count": null,
   "metadata": {},
   "outputs": [],
   "source": [
    "# Define protein information\n",
    "protein_length = 861  # Protein length in amino acids\n",
    "domains = [\n",
    "    {\"name\": \"IDR\", \"start\": 183, \"end\": 413, \"color\": \"mediumaquamarine\", \"alpha\": 1},\n",
    "    {\"name\": \"RBD\", \"start\": 413, \"end\": 511, \"color\": \"lightsalmon\", \"alpha\": 1},\n",
    "    {\"name\": \"LLPS\", \"start\": 360, \"end\": 382, \"color\": \"yellow\", \"alpha\": 0.5},\n",
    "    {\"name\": \"LLPS\", \"start\": 412, \"end\": 476, \"color\": \"yellow\", \"alpha\": 0.5},\n",
    "    {\"name\": \"LLPS\", \"start\": 577, \"end\": 636, \"color\": \"yellow\", \"alpha\": 0.5},\n",
    "    {\"name\": \"LLPS\", \"start\": 677, \"end\": 729, \"color\": \"yellow\", \"alpha\": 0.5},\n",
    "    {\"name\": \"LLPS\", \"start\": 757, \"end\": 816, \"color\": \"yellow\", \"alpha\": 0.5},\n",
    "    {\"name\": \"ATP binding\", \"start\": 534, \"end\": 542, \"color\": \"red\", \"alpha\": 0.8},\n",
    "    {\"name\": \"ATP binding\", \"start\": 500, \"end\": 501, \"color\": \"red\", \"alpha\": 0.8},\n",
    "    {\"name\": \"ATP binding\", \"start\": 620, \"end\": 621, \"color\": \"red\", \"alpha\": 0.8},\n",
    "    {\"name\": \"ATP binding\", \"start\": 654, \"end\": 655, \"color\": \"red\", \"alpha\": 0.8},\n",
    "    {\"name\": \"ATP binding\", \"start\": 720, \"end\": 721, \"color\": \"red\", \"alpha\": 0.8}\n",
    "\n",
    "\n",
    "]\n",
    "\n",
    "\n",
    "# Create the figure\n",
    "fig, ax = plt.subplots(figsize=(20, 4))\n",
    "\n",
    "# Draw the protein backbone\n",
    "ax.plot([0, protein_length], [0.5, 0.5], color=\"black\", lw=6, label=\"Protein Backbone\")\n",
    "\n",
    "# Track unique labels for the legend\n",
    "unique_labels = {}\n",
    "\n",
    "# Draw the domains with labels\n",
    "for domain in domains:\n",
    "    label = f\"Domain: {domain['name']}\"\n",
    "    if label not in unique_labels:\n",
    "        unique_labels[label] = domain[\"color\"]\n",
    "    ax.barh(0.5, domain[\"end\"] - domain[\"start\"], left=domain[\"start\"], height=0.3,\n",
    "            color=domain[\"color\"], alpha=domain[\"alpha\"], label=None)  # Add label only for legend\n",
    "\n",
    "# Mark the mutations for MSG (above the backbone), neutral LLPS impact\n",
    "for i, mutation in enumerate(mutations_MSG):\n",
    "    if i == 0:\n",
    "        unique_labels[\"MSG Mutations\"] = \"red\"\n",
    "    ax.plot(mutation[\"position\"], 0.5, marker=\"o\", color=\"red\", markersize=5, label=None)\n",
    "    ax.text(mutation[\"position\"], 0.55, mutation[\"label\"], ha=\"center\", fontsize=9, rotation=45, color=\"red\")\n",
    "\n",
    "# MGS mutation, positive LLPS impact\n",
    "for i, mutation in enumerate(positive_mutations_MGS):\n",
    "    if i == 0:\n",
    "        unique_labels[\"Positive LLPS impact\"] = \"green\"\n",
    "    ax.plot(mutation[\"position\"], 0.5, marker=\"o\", color=\"green\", markersize=10, label=None)\n",
    "    ax.text(mutation[\"position\"], 0.55, mutation[\"label\"], ha=\"center\", fontsize=9, rotation=45, color=\"green\")\n",
    "\n",
    "# MGS mutation, negative LLPS impact\n",
    "for i, mutation in enumerate(negative_mutations_MGS):\n",
    "    if i == 0:\n",
    "        unique_labels[\"Negative LLPS impact\"] = \"#994D00\"\n",
    "    ax.plot(mutation[\"position\"], 0.5, marker=\"o\", color=\"#994D00\", markersize=10, label=None)\n",
    "    ax.text(mutation[\"position\"], 0.55, mutation[\"label\"], ha=\"center\", fontsize=9, rotation=45, color=\"#994D00\")\n",
    "\n",
    "# Mark the mutations for MSG_probably (below the backbone), neutral LLPS impact\n",
    "for i, mutation in enumerate(mutations_MSG_probably):\n",
    "    if i == 0:\n",
    "        unique_labels[\"Probably MSG Mutations\"] = \"blue\"\n",
    "    ax.plot(mutation[\"position\"], 0.5, marker=\"o\", color=\"blue\", markersize=5, label=None)\n",
    "    ax.text(mutation[\"position\"], 0.35, mutation[\"label\"], ha=\"center\", fontsize=9, rotation=45, color=\"blue\")\n",
    "\n",
    "# Probable MGS mutation, positive LLPS impact\n",
    "for i, mutation in enumerate(positive_mutations_MGS_probably):\n",
    "    if i == 0:\n",
    "        unique_labels[\"Positive LLPS impact\"] = \"green\"\n",
    "    ax.plot(mutation[\"position\"], 0.5, marker=\"o\", color=\"green\", markersize=10, label=None)\n",
    "    ax.text(mutation[\"position\"], 0.35, mutation[\"label\"], ha=\"center\", fontsize=9, rotation=45, color=\"green\")\n",
    "\n",
    "# Probable MGS mutation, negative LLPS impact\n",
    "for i, mutation in enumerate(negative_mutations_MGS_probably):\n",
    "    if i == 0:\n",
    "        unique_labels[\"Negative LLPS impact\"] = \"#994D00\"\n",
    "    ax.plot(mutation[\"position\"], 0.5, marker=\"o\", color=\"#994D00\", markersize=10, label=None)\n",
    "    ax.text(mutation[\"position\"], 0.35, mutation[\"label\"], ha=\"center\", fontsize=9, rotation=45, color=\"#994D00\")\n",
    "\n",
    "# Add the unique legend\n",
    "ax.legend(handles=[plt.Line2D([0], [0], color=color, lw=4, label=label) for label, color in unique_labels.items()],\n",
    "          loc=\"upper center\", ncol=3, frameon=True, fontsize=10)\n",
    "\n",
    "# Add gridlines for alignment\n",
    "ax.grid(axis=\"x\", color=\"gray\", linestyle=\"--\", linewidth=0.5, alpha=0.7)\n",
    "\n",
    "# Add labels and title\n",
    "ax.set_xlim(0, protein_length)\n",
    "ax.set_ylim(0, 1)\n",
    "ax.set_xticks(range(0, protein_length + 50, 50))\n",
    "ax.set_yticks([])\n",
    "ax.set_xlabel(\"Amino Acid Position\", fontsize=12)\n",
    "ax.set_title(\"hORC1 Structure with Domains and Mutations\", fontsize=14, pad=20)\n",
    "\n",
    "# Show the plot\n",
    "plt.tight_layout()\n",
    "plt.show()\n"
   ]
  },
  {
   "cell_type": "markdown",
   "metadata": {},
   "source": [
    "# Prediction of top negatively affected on the LLPS and RNA binding mutations and positively affected ones.\n",
    "negative_mutations = ['A174V', 'R396W', 'A372V', 'G399D', 'R549C']\n",
    "positive_mutations = ['E73K', 'L617P', 'C186R', 'L622P']"
   ]
  },
  {
   "cell_type": "markdown",
   "metadata": {},
   "source": [
    "## List of mutations in every domain"
   ]
  },
  {
   "cell_type": "code",
   "execution_count": null,
   "metadata": {},
   "outputs": [],
   "source": [
    "criterion = 'criteria provided, conflicting classifications'\n",
    "disease = 'Meier-Gorlin syndrome 1'\n",
    "protein_mut = df['Protein change'][(df['Germline review status'] == criterion) & (df['Condition_new']==disease)]\n",
    "yes, no = mutation_analysis(protein_mut, RBD_pos)  "
   ]
  },
  {
   "cell_type": "markdown",
   "metadata": {},
   "source": [
    "## Amino acids analysis"
   ]
  },
  {
   "cell_type": "markdown",
   "metadata": {},
   "source": [
    "Analyse the percantage of Arginine (R) in different domains of ORC1 protein"
   ]
  },
  {
   "cell_type": "code",
   "execution_count": null,
   "metadata": {},
   "outputs": [],
   "source": [
    "# Protein sequences\n",
    "IDR = \"AAKCQKPVRAKSKSAESPSWTPAEHVAKRIESRHSASKSRQTPTHPLTPRARKRLELGNLGNPQMSQQTSCASLDSPGRIKRKVAFSEITSPSKRSQPDKLQTLSPALKAPEKTRETGLSYTEDDKKASPEHRIILRTRIAASKTIDIREERTLTPISGGQRSSVVPSVILKPENIKKRDAKEAKAQNEATSTPHRIRRKSSVLTMNRIRQQLRFLGNSKSDQEEKEILPAAEISDSSSDEEEASTPPLPRRAPRTVSRNLRSSLKSSLHTLTKVPKKSLKPRTPRCAAPQIRS\"\n",
    "G4 = \"AAEISDSSSDEEEASTPPLPRRAPRTVSRNLRSSLKSSLHTLTKVPKKSLKPRTPRCAAPQIRSRSLAAQEPASVLEEARLRLHVSAVPESLPCREQEF\"\n",
    "CDC6 = \"QESAAKCQKPVRAKSKSAESPSWTPAEHVAKRIESRHSASKSRQTPTHPLTPRARKRLELG\"\n",
    "ORC=\"MAHYPTRLKTRKTYSWVGRPLLDRKLHYQTYREMCVKTEGCSTEIHIQIGQFVLIEGDDDENPYVAKLLELFEDDSDPPPKKRARVQWFVRFCEVPACKRHLLGRKPGAQEIFWYDYPACDSNINAETIIGLVRVIPLAPKDVVPTNLKNEKTLFVKLSWNEKKFRPLSSELFAELNKPQESAAKCQKPVRAKSKSAESPSWTPAEHVAKRIESRHSASKSRQTPTHPLTPRARKRLELGNLGNPQMSQQTSCASLDSPGRIKRKVAFSEITSPSKRSQPDKLQTLSPALKAPEKTRETGLSYTEDDKKASPEHRIILRTRIAASKTIDIREERTLTPISGGQRSSVVPSVILKPENIKKRDAKEAKAQNEATSTPHRIRRKSSVLTMNRIRQQLRFLGNSKSDQEEKEILPAAEISDSSSDEEEASTPPLPRRAPRTVSRNLRSSLKSSLHTLTKVPKKSLKPRTPRCAAPQIRSRSLAAQEPASVLEEARLRLHVSAVPESLPCREQEFQDIYNFVESKLLDHTGGCMYISGVPGTGKTATVHEVIRCLQQAAQANDVPPFQYIEVNGMKLTEPHQVYVQILQKLTGQKATANHAAELLAKQFCTRGSPQETTVLLVDELDLLWTHKQDIMYNLFDWPTHKEARLVVLAIANTMDLPERIMMNRVSSRLGLTRMCFQPYTYSQLQQILRSRLKHLKAFEDDAIQLVARKVAALSGDARRCLDICRRATEICEFSQQKPDSPGLVTIAHSMEAVDEMFSSSYITAIKNSSVLEQSFLRAILAEFRRSGLEEATFQQIYSQHVALCRMEGLPYPTMSETMAVCSHLGSCRLLLVEPSRNDLLLRVRLNVSQDDVLYALKDE\"\n",
    "\n",
    "# Calculations\n",
    "ORC1_R = percantage_aa(seq=ORC, A=\"R\")\n",
    "IDR_R = percantage_aa(seq=IDR, A=\"R\")\n",
    "G4_R = percantage_aa(seq=G4, A=\"R\")\n",
    "CDC6_R = percantage_aa(seq=CDC6, A=\"R\")\n",
    "\n",
    "ORC1_G = percantage_aa(seq=ORC, A=\"G\")\n",
    "IDR_G = percantage_aa(seq=IDR, A=\"G\")\n",
    "G4_G = percantage_aa(seq=G4, A=\"G\")\n",
    "CDC6_G = percantage_aa(seq=CDC6, A=\"G\")\n",
    "\n",
    "print(f\"Arginines in different ORC1 domains:\")\n",
    "print(f\"ORC1: {ORC1_R} ; IDR: {IDR_R} ; G4 binding: {G4_R} ; CDC6 binding: {CDC6_R}\")\n",
    "\n",
    "print(f\"Glycines in different ORC1 domains:\")\n",
    "print(f\"ORC1: {ORC1_G} ; IDR: {IDR_G} ; G4 binding: {G4_G} ; CDC6 binding: {CDC6_G}\")"
   ]
  }
 ],
 "metadata": {
  "kernelspec": {
   "display_name": "bioinfo",
   "language": "python",
   "name": "python3"
  },
  "language_info": {
   "codemirror_mode": {
    "name": "ipython",
    "version": 3
   },
   "file_extension": ".py",
   "mimetype": "text/x-python",
   "name": "python",
   "nbconvert_exporter": "python",
   "pygments_lexer": "ipython3",
   "version": "3.9.18"
  }
 },
 "nbformat": 4,
 "nbformat_minor": 2
}
