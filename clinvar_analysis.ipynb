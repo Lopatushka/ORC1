{
 "cells": [
  {
   "cell_type": "markdown",
   "metadata": {},
   "source": [
    "# Analysis of clinical variatns of ORC1 protein"
   ]
  },
  {
   "cell_type": "code",
   "execution_count": 1,
   "metadata": {},
   "outputs": [],
   "source": [
    "from clinvar_functions import *\n",
    "import pandas as pd"
   ]
  },
  {
   "cell_type": "markdown",
   "metadata": {},
   "source": [
    "## ORC1 regions"
   ]
  },
  {
   "cell_type": "code",
   "execution_count": 2,
   "metadata": {},
   "outputs": [],
   "source": [
    "# List of intervals for particular feature\n",
    "LLPS = [(360, 382), (412, 476), (577, 636), (677, 729), (757, 816)] # Chinees paper\n",
    "IDR_total = [(183, 476)] # Chinees paper\n",
    "G4_RNA = [(413, 511)] # Hoshina paper\n",
    "CDCD6=[(180, 240)] # CDC6 paper\n",
    "\n",
    "# Positions\n",
    "G4_RNA_positions = generate_list(G4_RNA)\n",
    "LLPS_positions = generate_list(LLPS)\n",
    "CDCD6_positions = generate_list(CDCD6)"
   ]
  },
  {
   "cell_type": "markdown",
   "metadata": {},
   "source": [
    "## Read data"
   ]
  },
  {
   "cell_type": "code",
   "execution_count": 3,
   "metadata": {},
   "outputs": [
    {
     "data": {
      "text/plain": [
       "(333, 25)"
      ]
     },
     "execution_count": 3,
     "metadata": {},
     "output_type": "execute_result"
    }
   ],
   "source": [
    "# Set option to display all rows and columns\n",
    "# pd.set_option('display.max_rows', None)\n",
    "# pd.set_option('display.max_columns', None)\n",
    "\n",
    "df = pd.read_csv('clinvar_result.csv', sep = \"\\t\")\n",
    "df = df[df['Gene(s)'] == 'ORC1'] # save only ORC1 gene - delete 7 records\n",
    "df.shape"
   ]
  },
  {
   "cell_type": "code",
   "execution_count": 4,
   "metadata": {},
   "outputs": [
    {
     "data": {
      "text/plain": [
       "(188, 25)"
      ]
     },
     "execution_count": 4,
     "metadata": {},
     "output_type": "execute_result"
    }
   ],
   "source": [
    "# Subset of data: only mutations in protein\n",
    "df = df[df['Protein change'].apply(lambda x: isinstance(x, str))]\n",
    "df.shape"
   ]
  },
  {
   "cell_type": "markdown",
   "metadata": {},
   "source": [
    "## Look at the different columns of df"
   ]
  },
  {
   "cell_type": "code",
   "execution_count": null,
   "metadata": {},
   "outputs": [],
   "source": [
    "df[\"Condition(s)\"].value_counts()"
   ]
  },
  {
   "cell_type": "code",
   "execution_count": null,
   "metadata": {},
   "outputs": [],
   "source": [
    "df[\"Germline classification\"].value_counts()"
   ]
  },
  {
   "cell_type": "code",
   "execution_count": null,
   "metadata": {},
   "outputs": [],
   "source": [
    "df['Germline review status'].value_counts()"
   ]
  },
  {
   "cell_type": "markdown",
   "metadata": {},
   "source": [
    "## Get list of transcript IDs"
   ]
  },
  {
   "cell_type": "code",
   "execution_count": null,
   "metadata": {},
   "outputs": [],
   "source": [
    "IDs = df['Name'].apply(lambda x: x.split(\":\")[0])\n",
    "IDs.value_counts()"
   ]
  },
  {
   "cell_type": "markdown",
   "metadata": {},
   "source": [
    "## Add new column: Condition_new"
   ]
  },
  {
   "cell_type": "code",
   "execution_count": 5,
   "metadata": {},
   "outputs": [],
   "source": [
    "df['Condition_new'] = df['Condition(s)'].map(rename_condition, na_action='ignore')"
   ]
  },
  {
   "cell_type": "code",
   "execution_count": 6,
   "metadata": {},
   "outputs": [
    {
     "data": {
      "text/plain": [
       "Condition_new\n",
       "not provided                        92\n",
       "Inborn genetic diseases             29\n",
       "Meier-Gorlin syndrome 1 probably    27\n",
       "Meier-Gorlin syndrome 1             21\n",
       "Inborn genetic diseases probably    11\n",
       "not specified                        4\n",
       "ORC1-related disorder probably       2\n",
       "Name: count, dtype: int64"
      ]
     },
     "execution_count": 6,
     "metadata": {},
     "output_type": "execute_result"
    }
   ],
   "source": [
    "df['Condition_new'].value_counts()"
   ]
  },
  {
   "cell_type": "markdown",
   "metadata": {},
   "source": [
    "## Groupby"
   ]
  },
  {
   "cell_type": "code",
   "execution_count": 7,
   "metadata": {},
   "outputs": [
    {
     "data": {
      "text/plain": [
       "Germline review status                                Condition_new                   \n",
       "criteria provided, conflicting classifications        Meier-Gorlin syndrome 1 probably     6\n",
       "                                                      Inborn genetic diseases probably     3\n",
       "                                                      ORC1-related disorder probably       1\n",
       "criteria provided, multiple submitters, no conflicts  Meier-Gorlin syndrome 1 probably    21\n",
       "                                                      Inborn genetic diseases probably     8\n",
       "                                                      not provided                         4\n",
       "                                                      ORC1-related disorder probably       1\n",
       "criteria provided, single submitter                   not provided                        86\n",
       "                                                      Inborn genetic diseases             29\n",
       "                                                      Meier-Gorlin syndrome 1             18\n",
       "                                                      not specified                        4\n",
       "no assertion criteria provided                        Meier-Gorlin syndrome 1              3\n",
       "                                                      not provided                         2\n",
       "Name: count, dtype: int64"
      ]
     },
     "execution_count": 7,
     "metadata": {},
     "output_type": "execute_result"
    }
   ],
   "source": [
    "df.groupby(\"Germline review status\")[\"Condition_new\"].value_counts()"
   ]
  },
  {
   "cell_type": "markdown",
   "metadata": {},
   "source": [
    "## Subsets"
   ]
  },
  {
   "cell_type": "code",
   "execution_count": 14,
   "metadata": {},
   "outputs": [
    {
     "name": "stdout",
     "output_type": "stream",
     "text": [
      "Total number of mutations is: 21\n",
      "Number of mutations within interaval of interest is 4\n",
      "Number of mutations outside interaval of interest is 26\n"
     ]
    }
   ],
   "source": [
    "criterion = 'criteria provided, multiple submitters, no conflicts'\n",
    "disease = 'Meier-Gorlin syndrome 1 probably'\n",
    "protein_mut = df['Protein change'][(df['Germline review status'] == criterion) & (df['Condition_new']==disease)]\n",
    "print(f\"Total number of mutations is: {len(protein_mut)}\")\n",
    "yes, no = mutation_analysis(protein_mut, CDCD6_positions)  "
   ]
  },
  {
   "cell_type": "code",
   "execution_count": null,
   "metadata": {},
   "outputs": [],
   "source": [
    "def mutation_analysis(sb, li):\n",
    "    '''\n",
    "    Input - pd.Series with list of mutations to test\n",
    "    Output - 2 lists of mutations: first - within interval of interest (li); second - outside of interval of interest\n",
    "    '''\n",
    "    sb.dropna(inplace=True) # deleete empty positions in the \n",
    "    sb = list(sb) # convert pd.Series to list\n",
    "    sb = [string.split(\", \") for string in sb] # split strings with contains several mutaions\n",
    "    sb = [item for sublist in sb for item in sublist] # flatten list of lists\n",
    "    interval_mutations = []\n",
    "    no_interval_mutations = []\n",
    "    for mutation in sb:\n",
    "        positions = list(map(int, re.findall(r'\\d+', mutation)))\n",
    "        for position in positions:\n",
    "            if position in li:\n",
    "                interval_mutations.append(mutation)\n",
    "            else:\n",
    "                no_interval_mutations.append(mutation)\n",
    "    print(f\"Total number of mutations is: {len(sb)}\")\n",
    "    print(f\"Number of mutations within interaval of interest is {len(interval_mutations)}\")\n",
    "    print(f\"Number of mutations outside interaval of interest is {len(no_interval_mutations)}\")\n",
    "    return(interval_mutations, no_interval_mutations)"
   ]
  }
 ],
 "metadata": {
  "kernelspec": {
   "display_name": "bioinfo",
   "language": "python",
   "name": "python3"
  },
  "language_info": {
   "codemirror_mode": {
    "name": "ipython",
    "version": 3
   },
   "file_extension": ".py",
   "mimetype": "text/x-python",
   "name": "python",
   "nbconvert_exporter": "python",
   "pygments_lexer": "ipython3",
   "version": "3.12.1"
  }
 },
 "nbformat": 4,
 "nbformat_minor": 2
}
