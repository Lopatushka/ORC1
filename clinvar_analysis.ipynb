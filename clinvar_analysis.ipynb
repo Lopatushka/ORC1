{
 "cells": [
  {
   "cell_type": "markdown",
   "metadata": {},
   "source": [
    "# Analysis of clinical variatns of ORC1 protein"
   ]
  },
  {
   "cell_type": "code",
   "execution_count": 1,
   "metadata": {},
   "outputs": [],
   "source": [
    "from clinvar_functions import *\n",
    "import pandas as pd"
   ]
  },
  {
   "cell_type": "markdown",
   "metadata": {},
   "source": [
    "## ORC1 regions"
   ]
  },
  {
   "cell_type": "code",
   "execution_count": 15,
   "metadata": {},
   "outputs": [],
   "source": [
    "# List of intervals for particular feature\n",
    "LLPS = [(360, 382), (412, 476), (577, 636), (677, 729), (757, 816)] # Chinees paper\n",
    "IDR_total = [(183, 476)] # Chinees paper\n",
    "G4_RNA = [(413, 511)] # Hoshina paper\n",
    "CDCD6=[(180, 240)] # CDC6 paper\n",
    "BP=[(354, 368), (378, 392)] # CDC6 paper\n",
    "\n",
    "# Positions\n",
    "G4_RNA_positions = generate_list(G4_RNA)\n",
    "LLPS_positions = generate_list(LLPS)\n",
    "CDCD6_positions = generate_list(CDCD6)\n",
    "BP_positions = generate_list(BP)"
   ]
  },
  {
   "cell_type": "code",
   "execution_count": 3,
   "metadata": {},
   "outputs": [
    {
     "data": {
      "text/plain": [
       "[413,\n",
       " 414,\n",
       " 415,\n",
       " 416,\n",
       " 417,\n",
       " 418,\n",
       " 419,\n",
       " 420,\n",
       " 421,\n",
       " 422,\n",
       " 423,\n",
       " 424,\n",
       " 425,\n",
       " 426,\n",
       " 427,\n",
       " 428,\n",
       " 429,\n",
       " 430,\n",
       " 431,\n",
       " 432,\n",
       " 433,\n",
       " 434,\n",
       " 435,\n",
       " 436,\n",
       " 437,\n",
       " 438,\n",
       " 439,\n",
       " 440,\n",
       " 441,\n",
       " 442,\n",
       " 443,\n",
       " 444,\n",
       " 445,\n",
       " 446,\n",
       " 447,\n",
       " 448,\n",
       " 449,\n",
       " 450,\n",
       " 451,\n",
       " 452,\n",
       " 453,\n",
       " 454,\n",
       " 455,\n",
       " 456,\n",
       " 457,\n",
       " 458,\n",
       " 459,\n",
       " 460,\n",
       " 461,\n",
       " 462,\n",
       " 463,\n",
       " 464,\n",
       " 465,\n",
       " 466,\n",
       " 467,\n",
       " 468,\n",
       " 469,\n",
       " 470,\n",
       " 471,\n",
       " 472,\n",
       " 473,\n",
       " 474,\n",
       " 475,\n",
       " 476,\n",
       " 477,\n",
       " 478,\n",
       " 479,\n",
       " 480,\n",
       " 481,\n",
       " 482,\n",
       " 483,\n",
       " 484,\n",
       " 485,\n",
       " 486,\n",
       " 487,\n",
       " 488,\n",
       " 489,\n",
       " 490,\n",
       " 491,\n",
       " 492,\n",
       " 493,\n",
       " 494,\n",
       " 495,\n",
       " 496,\n",
       " 497,\n",
       " 498,\n",
       " 499,\n",
       " 500,\n",
       " 501,\n",
       " 502,\n",
       " 503,\n",
       " 504,\n",
       " 505,\n",
       " 506,\n",
       " 507,\n",
       " 508,\n",
       " 509,\n",
       " 510,\n",
       " 511]"
      ]
     },
     "execution_count": 3,
     "metadata": {},
     "output_type": "execute_result"
    }
   ],
   "source": [
    "G4_RNA_positions"
   ]
  },
  {
   "cell_type": "markdown",
   "metadata": {},
   "source": [
    "## Read data"
   ]
  },
  {
   "cell_type": "code",
   "execution_count": 4,
   "metadata": {},
   "outputs": [
    {
     "data": {
      "text/plain": [
       "(333, 25)"
      ]
     },
     "execution_count": 4,
     "metadata": {},
     "output_type": "execute_result"
    }
   ],
   "source": [
    "# Set option to display all rows and columns\n",
    "# pd.set_option('display.max_rows', None)\n",
    "# pd.set_option('display.max_columns', None)\n",
    "\n",
    "df = pd.read_csv('clinvar_result.csv', sep = \"\\t\")\n",
    "df = df[df['Gene(s)'] == 'ORC1'] # save only ORC1 gene - delete 7 records\n",
    "df.shape"
   ]
  },
  {
   "cell_type": "code",
   "execution_count": 5,
   "metadata": {},
   "outputs": [
    {
     "data": {
      "text/plain": [
       "(188, 25)"
      ]
     },
     "execution_count": 5,
     "metadata": {},
     "output_type": "execute_result"
    }
   ],
   "source": [
    "# Subset of data: only mutations in protein\n",
    "df = df[df['Protein change'].apply(lambda x: isinstance(x, str))]\n",
    "df.shape"
   ]
  },
  {
   "cell_type": "markdown",
   "metadata": {},
   "source": [
    "## Look at the different columns of df"
   ]
  },
  {
   "cell_type": "code",
   "execution_count": 6,
   "metadata": {},
   "outputs": [
    {
     "data": {
      "text/plain": [
       "Condition(s)\n",
       "not provided                                                                89\n",
       "Inborn genetic diseases                                                     29\n",
       "Meier-Gorlin syndrome 1                                                     21\n",
       "not provided|Inborn genetic diseases                                         6\n",
       "not provided|Meier-Gorlin syndrome 1                                         5\n",
       "Inborn genetic diseases|not provided                                         5\n",
       "not specified                                                                4\n",
       "Meier-Gorlin syndrome 1|not provided                                         3\n",
       "Meier-Gorlin syndrome 1|not provided|Inborn genetic diseases                 3\n",
       "Inborn genetic diseases|Meier-Gorlin syndrome 1                              2\n",
       "not provided|not specified|Meier-Gorlin syndrome 1                           2\n",
       "not specified|not provided|Meier-Gorlin syndrome 1                           2\n",
       "not provided|not specified                                                   2\n",
       "not specified|not provided                                                   1\n",
       "Inborn genetic diseases|ORC1-related disorder                                1\n",
       "not specified|Meier-Gorlin syndrome 1|ORC1-related disorder|not provided     1\n",
       "not specified|ORC1-related disorder|Meier-Gorlin syndrome 1|not provided     1\n",
       "not provided|Meier-Gorlin syndrome 1|ORC1-related disorder                   1\n",
       "ORC1-related disorder|not specified|Meier-Gorlin syndrome 1|not provided     1\n",
       "not provided|Meier-Gorlin syndrome 1|not specified                           1\n",
       "not provided|ORC1-related disorder|not specified|Meier-Gorlin syndrome 1     1\n",
       "Meier-Gorlin syndrome 1|Inborn genetic diseases                              1\n",
       "Meier-Gorlin syndrome 1|not provided|Meier-Gorlin syndrome                   1\n",
       "not provided|Inborn genetic diseases|Meier-Gorlin syndrome 1                 1\n",
       "ORC1-related disorder|not provided                                           1\n",
       "not specified|Meier-Gorlin syndrome 1|not provided|ORC1-related disorder     1\n",
       "Name: count, dtype: int64"
      ]
     },
     "execution_count": 6,
     "metadata": {},
     "output_type": "execute_result"
    }
   ],
   "source": [
    "df[\"Condition(s)\"].value_counts()"
   ]
  },
  {
   "cell_type": "code",
   "execution_count": 7,
   "metadata": {},
   "outputs": [
    {
     "data": {
      "text/plain": [
       "Germline classification\n",
       "Uncertain significance                          142\n",
       "Pathogenic                                       13\n",
       "Conflicting classifications of pathogenicity     10\n",
       "Benign                                            6\n",
       "Likely pathogenic                                 5\n",
       "Benign/Likely benign                              5\n",
       "Likely benign                                     4\n",
       "no classification for the single variant          2\n",
       "Pathogenic/Likely pathogenic                      1\n",
       "Name: count, dtype: int64"
      ]
     },
     "execution_count": 7,
     "metadata": {},
     "output_type": "execute_result"
    }
   ],
   "source": [
    "df[\"Germline classification\"].value_counts()"
   ]
  },
  {
   "cell_type": "code",
   "execution_count": 8,
   "metadata": {},
   "outputs": [
    {
     "data": {
      "text/plain": [
       "Germline review status\n",
       "criteria provided, single submitter                     137\n",
       "criteria provided, multiple submitters, no conflicts     34\n",
       "criteria provided, conflicting classifications           10\n",
       "no assertion criteria provided                            5\n",
       "no classification for the single variant                  2\n",
       "Name: count, dtype: int64"
      ]
     },
     "execution_count": 8,
     "metadata": {},
     "output_type": "execute_result"
    }
   ],
   "source": [
    "df['Germline review status'].value_counts()"
   ]
  },
  {
   "cell_type": "markdown",
   "metadata": {},
   "source": [
    "## Get list of transcript IDs"
   ]
  },
  {
   "cell_type": "code",
   "execution_count": 9,
   "metadata": {},
   "outputs": [
    {
     "data": {
      "text/plain": [
       "Name\n",
       "NM_004153.4(ORC1)    188\n",
       "Name: count, dtype: int64"
      ]
     },
     "execution_count": 9,
     "metadata": {},
     "output_type": "execute_result"
    }
   ],
   "source": [
    "IDs = df['Name'].apply(lambda x: x.split(\":\")[0])\n",
    "IDs.value_counts()"
   ]
  },
  {
   "cell_type": "markdown",
   "metadata": {},
   "source": [
    "## Add new column: Condition_new"
   ]
  },
  {
   "cell_type": "code",
   "execution_count": 10,
   "metadata": {},
   "outputs": [],
   "source": [
    "df['Condition_new'] = df['Condition(s)'].map(rename_condition, na_action='ignore')"
   ]
  },
  {
   "cell_type": "code",
   "execution_count": 11,
   "metadata": {},
   "outputs": [
    {
     "data": {
      "text/plain": [
       "Condition_new\n",
       "not provided                        96\n",
       "Inborn genetic diseases             29\n",
       "Meier-Gorlin syndrome 1 probably    27\n",
       "Meier-Gorlin syndrome 1             21\n",
       "Inborn genetic diseases probably    11\n",
       "ORC1-related disorder probably       2\n",
       "Name: count, dtype: int64"
      ]
     },
     "execution_count": 11,
     "metadata": {},
     "output_type": "execute_result"
    }
   ],
   "source": [
    "df['Condition_new'].value_counts()"
   ]
  },
  {
   "cell_type": "markdown",
   "metadata": {},
   "source": [
    "## Groupby"
   ]
  },
  {
   "cell_type": "code",
   "execution_count": 12,
   "metadata": {},
   "outputs": [
    {
     "data": {
      "text/plain": [
       "Germline review status                                Condition_new                   \n",
       "criteria provided, conflicting classifications        Meier-Gorlin syndrome 1 probably     6\n",
       "                                                      Inborn genetic diseases probably     3\n",
       "                                                      ORC1-related disorder probably       1\n",
       "criteria provided, multiple submitters, no conflicts  Meier-Gorlin syndrome 1 probably    21\n",
       "                                                      Inborn genetic diseases probably     8\n",
       "                                                      not provided                         4\n",
       "                                                      ORC1-related disorder probably       1\n",
       "criteria provided, single submitter                   not provided                        90\n",
       "                                                      Inborn genetic diseases             29\n",
       "                                                      Meier-Gorlin syndrome 1             18\n",
       "no assertion criteria provided                        Meier-Gorlin syndrome 1              3\n",
       "                                                      not provided                         2\n",
       "Name: count, dtype: int64"
      ]
     },
     "execution_count": 12,
     "metadata": {},
     "output_type": "execute_result"
    }
   ],
   "source": [
    "df.groupby(\"Germline review status\")[\"Condition_new\"].value_counts()"
   ]
  },
  {
   "cell_type": "markdown",
   "metadata": {},
   "source": [
    "## Subsets"
   ]
  },
  {
   "cell_type": "code",
   "execution_count": 25,
   "metadata": {},
   "outputs": [
    {
     "name": "stdout",
     "output_type": "stream",
     "text": [
      "Total number of mutations is: 40\n",
      "Number of mutations within interaval of interest is 0\n",
      "Number of mutations outside interaval of interest is 40\n"
     ]
    }
   ],
   "source": [
    "criterion = 'criteria provided, single submitter'\n",
    "disease = 'Inborn genetic diseases'\n",
    "protein_mut = df['Protein change'][(df['Germline review status'] == criterion) & (df['Condition_new']==disease)]\n",
    "yes, no = mutation_analysis(protein_mut, BP_positions)  "
   ]
  },
  {
   "cell_type": "code",
   "execution_count": 24,
   "metadata": {},
   "outputs": [
    {
     "data": {
      "text/plain": [
       "['R380L']"
      ]
     },
     "execution_count": 24,
     "metadata": {},
     "output_type": "execute_result"
    }
   ],
   "source": [
    "yes"
   ]
  }
 ],
 "metadata": {
  "kernelspec": {
   "display_name": "bioinfo",
   "language": "python",
   "name": "python3"
  },
  "language_info": {
   "codemirror_mode": {
    "name": "ipython",
    "version": 3
   },
   "file_extension": ".py",
   "mimetype": "text/x-python",
   "name": "python",
   "nbconvert_exporter": "python",
   "pygments_lexer": "ipython3",
   "version": "3.12.1"
  }
 },
 "nbformat": 4,
 "nbformat_minor": 2
}
