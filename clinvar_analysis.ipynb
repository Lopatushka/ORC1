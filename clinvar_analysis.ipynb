{
 "cells": [
  {
   "cell_type": "markdown",
   "metadata": {},
   "source": [
    "# Analysis of clinical variatns of ORC1 protein"
   ]
  },
  {
   "cell_type": "code",
   "execution_count": 8,
   "metadata": {},
   "outputs": [],
   "source": [
    "from clinvar_functions import *\n",
    "import pandas as pd\n",
    "\n",
    "# Set option to display all rows\n",
    "pd.set_option('display.max_rows', None)"
   ]
  },
  {
   "cell_type": "markdown",
   "metadata": {},
   "source": [
    "## ORC1 regions"
   ]
  },
  {
   "cell_type": "code",
   "execution_count": 2,
   "metadata": {},
   "outputs": [],
   "source": [
    "# List of intervals for particular feature\n",
    "LLPS = [(360, 382), (412, 476), (577, 636), (677, 729), (757, 816)] # Chinees paper\n",
    "IDR_total = [(183, 476)] # Chinees paper\n",
    "G4_RNA = [(413, 511)] # Hoshina paper\n",
    "CDCD6=[(180, 240)] # CDC6 paper\n",
    "BP=[(354, 368), (378, 392)] # CDC6 paper\n",
    "\n",
    "# Positions\n",
    "G4_RNA_positions = generate_list(G4_RNA)\n",
    "LLPS_positions = generate_list(LLPS)\n",
    "CDCD6_positions = generate_list(CDCD6)\n",
    "BP_positions = generate_list(BP)"
   ]
  },
  {
   "cell_type": "markdown",
   "metadata": {},
   "source": [
    "## Read data"
   ]
  },
  {
   "cell_type": "code",
   "execution_count": 16,
   "metadata": {},
   "outputs": [
    {
     "data": {
      "text/plain": [
       "(333, 25)"
      ]
     },
     "execution_count": 16,
     "metadata": {},
     "output_type": "execute_result"
    }
   ],
   "source": [
    "# Set option to display all rows and columns\n",
    "# pd.set_option('display.max_rows', None)\n",
    "# pd.set_option('display.max_columns', None)\n",
    "\n",
    "df = pd.read_csv('clinvar_result.csv', sep = \"\\t\")\n",
    "df = df[df['Gene(s)'] == 'ORC1'] # save only ORC1 gene - delete 7 records\n",
    "df.shape"
   ]
  },
  {
   "cell_type": "code",
   "execution_count": 17,
   "metadata": {},
   "outputs": [
    {
     "data": {
      "text/plain": [
       "(188, 25)"
      ]
     },
     "execution_count": 17,
     "metadata": {},
     "output_type": "execute_result"
    }
   ],
   "source": [
    "# Subset of data: only mutations in protein\n",
    "df = df[df['Protein change'].apply(lambda x: isinstance(x, str))]\n",
    "df.shape"
   ]
  },
  {
   "cell_type": "code",
   "execution_count": 18,
   "metadata": {},
   "outputs": [
    {
     "data": {
      "text/html": [
       "<div>\n",
       "<style scoped>\n",
       "    .dataframe tbody tr th:only-of-type {\n",
       "        vertical-align: middle;\n",
       "    }\n",
       "\n",
       "    .dataframe tbody tr th {\n",
       "        vertical-align: top;\n",
       "    }\n",
       "\n",
       "    .dataframe thead th {\n",
       "        text-align: right;\n",
       "    }\n",
       "</style>\n",
       "<table border=\"1\" class=\"dataframe\">\n",
       "  <thead>\n",
       "    <tr style=\"text-align: right;\">\n",
       "      <th></th>\n",
       "      <th>Name</th>\n",
       "      <th>Gene(s)</th>\n",
       "      <th>Protein change</th>\n",
       "      <th>Condition(s)</th>\n",
       "      <th>Accession</th>\n",
       "      <th>GRCh37Chromosome</th>\n",
       "      <th>GRCh37Location</th>\n",
       "      <th>GRCh38Chromosome</th>\n",
       "      <th>GRCh38Location</th>\n",
       "      <th>VariationID</th>\n",
       "      <th>...</th>\n",
       "      <th>Germline classification</th>\n",
       "      <th>Germline date last evaluated</th>\n",
       "      <th>Germline review status</th>\n",
       "      <th>Somatic clinical impact</th>\n",
       "      <th>Somatic clinical impact date last evaluated</th>\n",
       "      <th>Somatic clinical impact review status</th>\n",
       "      <th>Oncogenicity classification</th>\n",
       "      <th>Oncogenicity date last evaluated</th>\n",
       "      <th>Oncogenicity review status</th>\n",
       "      <th>Unnamed: 24</th>\n",
       "    </tr>\n",
       "  </thead>\n",
       "  <tbody>\n",
       "    <tr>\n",
       "      <th>178</th>\n",
       "      <td>NM_004153.4(ORC1):c.1318T&gt;C (p.Ser440Pro)</td>\n",
       "      <td>ORC1</td>\n",
       "      <td>S440P</td>\n",
       "      <td>ORC1-related disorder|not specified|Meier-Gorl...</td>\n",
       "      <td>VCV000211798</td>\n",
       "      <td>1</td>\n",
       "      <td>52854179</td>\n",
       "      <td>1</td>\n",
       "      <td>52388507</td>\n",
       "      <td>211798</td>\n",
       "      <td>...</td>\n",
       "      <td>Conflicting classifications of pathogenicity</td>\n",
       "      <td>Nov 27, 2023</td>\n",
       "      <td>criteria provided, conflicting classifications</td>\n",
       "      <td>NaN</td>\n",
       "      <td>NaN</td>\n",
       "      <td>NaN</td>\n",
       "      <td>NaN</td>\n",
       "      <td>NaN</td>\n",
       "      <td>NaN</td>\n",
       "      <td>NaN</td>\n",
       "    </tr>\n",
       "  </tbody>\n",
       "</table>\n",
       "<p>1 rows × 25 columns</p>\n",
       "</div>"
      ],
      "text/plain": [
       "                                          Name Gene(s) Protein change  \\\n",
       "178  NM_004153.4(ORC1):c.1318T>C (p.Ser440Pro)    ORC1          S440P   \n",
       "\n",
       "                                          Condition(s)     Accession  \\\n",
       "178  ORC1-related disorder|not specified|Meier-Gorl...  VCV000211798   \n",
       "\n",
       "    GRCh37Chromosome GRCh37Location GRCh38Chromosome GRCh38Location  \\\n",
       "178                1       52854179                1       52388507   \n",
       "\n",
       "     VariationID  ...                       Germline classification  \\\n",
       "178       211798  ...  Conflicting classifications of pathogenicity   \n",
       "\n",
       "    Germline date last evaluated  \\\n",
       "178                 Nov 27, 2023   \n",
       "\n",
       "                             Germline review status Somatic clinical impact  \\\n",
       "178  criteria provided, conflicting classifications                     NaN   \n",
       "\n",
       "    Somatic clinical impact date last evaluated  \\\n",
       "178                                         NaN   \n",
       "\n",
       "    Somatic clinical impact review status Oncogenicity classification  \\\n",
       "178                                   NaN                         NaN   \n",
       "\n",
       "    Oncogenicity date last evaluated Oncogenicity review status  Unnamed: 24  \n",
       "178                              NaN                        NaN          NaN  \n",
       "\n",
       "[1 rows x 25 columns]"
      ]
     },
     "execution_count": 18,
     "metadata": {},
     "output_type": "execute_result"
    }
   ],
   "source": [
    "df[df['Protein change'] == 'S440P']"
   ]
  },
  {
   "cell_type": "code",
   "execution_count": 19,
   "metadata": {},
   "outputs": [
    {
     "data": {
      "text/html": [
       "<div>\n",
       "<style scoped>\n",
       "    .dataframe tbody tr th:only-of-type {\n",
       "        vertical-align: middle;\n",
       "    }\n",
       "\n",
       "    .dataframe tbody tr th {\n",
       "        vertical-align: top;\n",
       "    }\n",
       "\n",
       "    .dataframe thead th {\n",
       "        text-align: right;\n",
       "    }\n",
       "</style>\n",
       "<table border=\"1\" class=\"dataframe\">\n",
       "  <thead>\n",
       "    <tr style=\"text-align: right;\">\n",
       "      <th></th>\n",
       "      <th>Name</th>\n",
       "      <th>Gene(s)</th>\n",
       "      <th>Protein change</th>\n",
       "      <th>Condition(s)</th>\n",
       "      <th>Accession</th>\n",
       "      <th>GRCh37Chromosome</th>\n",
       "      <th>GRCh37Location</th>\n",
       "      <th>GRCh38Chromosome</th>\n",
       "      <th>GRCh38Location</th>\n",
       "      <th>VariationID</th>\n",
       "      <th>...</th>\n",
       "      <th>Germline classification</th>\n",
       "      <th>Germline date last evaluated</th>\n",
       "      <th>Germline review status</th>\n",
       "      <th>Somatic clinical impact</th>\n",
       "      <th>Somatic clinical impact date last evaluated</th>\n",
       "      <th>Somatic clinical impact review status</th>\n",
       "      <th>Oncogenicity classification</th>\n",
       "      <th>Oncogenicity date last evaluated</th>\n",
       "      <th>Oncogenicity review status</th>\n",
       "      <th>Unnamed: 24</th>\n",
       "    </tr>\n",
       "  </thead>\n",
       "  <tbody>\n",
       "    <tr>\n",
       "      <th>192</th>\n",
       "      <td>NM_004153.4(ORC1):c.1186C&gt;T (p.Arg396Trp)</td>\n",
       "      <td>ORC1</td>\n",
       "      <td>R396W</td>\n",
       "      <td>not specified|not provided|Meier-Gorlin syndro...</td>\n",
       "      <td>VCV000211797</td>\n",
       "      <td>1</td>\n",
       "      <td>52854890</td>\n",
       "      <td>1</td>\n",
       "      <td>52389218</td>\n",
       "      <td>211797</td>\n",
       "      <td>...</td>\n",
       "      <td>Benign/Likely benign</td>\n",
       "      <td>Jan 30, 2024</td>\n",
       "      <td>criteria provided, multiple submitters, no con...</td>\n",
       "      <td>NaN</td>\n",
       "      <td>NaN</td>\n",
       "      <td>NaN</td>\n",
       "      <td>NaN</td>\n",
       "      <td>NaN</td>\n",
       "      <td>NaN</td>\n",
       "      <td>NaN</td>\n",
       "    </tr>\n",
       "  </tbody>\n",
       "</table>\n",
       "<p>1 rows × 25 columns</p>\n",
       "</div>"
      ],
      "text/plain": [
       "                                          Name Gene(s) Protein change  \\\n",
       "192  NM_004153.4(ORC1):c.1186C>T (p.Arg396Trp)    ORC1          R396W   \n",
       "\n",
       "                                          Condition(s)     Accession  \\\n",
       "192  not specified|not provided|Meier-Gorlin syndro...  VCV000211797   \n",
       "\n",
       "    GRCh37Chromosome GRCh37Location GRCh38Chromosome GRCh38Location  \\\n",
       "192                1       52854890                1       52389218   \n",
       "\n",
       "     VariationID  ... Germline classification Germline date last evaluated  \\\n",
       "192       211797  ...    Benign/Likely benign                 Jan 30, 2024   \n",
       "\n",
       "                                Germline review status  \\\n",
       "192  criteria provided, multiple submitters, no con...   \n",
       "\n",
       "    Somatic clinical impact Somatic clinical impact date last evaluated  \\\n",
       "192                     NaN                                         NaN   \n",
       "\n",
       "    Somatic clinical impact review status Oncogenicity classification  \\\n",
       "192                                   NaN                         NaN   \n",
       "\n",
       "    Oncogenicity date last evaluated Oncogenicity review status  Unnamed: 24  \n",
       "192                              NaN                        NaN          NaN  \n",
       "\n",
       "[1 rows x 25 columns]"
      ]
     },
     "execution_count": 19,
     "metadata": {},
     "output_type": "execute_result"
    }
   ],
   "source": [
    "df[df['Protein change'] == 'R396W']"
   ]
  },
  {
   "cell_type": "markdown",
   "metadata": {},
   "source": [
    "## Look at the different columns of df"
   ]
  },
  {
   "cell_type": "code",
   "execution_count": null,
   "metadata": {},
   "outputs": [],
   "source": [
    "df[\"Condition(s)\"].value_counts()"
   ]
  },
  {
   "cell_type": "code",
   "execution_count": null,
   "metadata": {},
   "outputs": [],
   "source": [
    "df[\"Germline classification\"].value_counts()"
   ]
  },
  {
   "cell_type": "code",
   "execution_count": null,
   "metadata": {},
   "outputs": [],
   "source": [
    "df['Germline review status'].value_counts()"
   ]
  },
  {
   "cell_type": "markdown",
   "metadata": {},
   "source": [
    "## Get list of transcript IDs"
   ]
  },
  {
   "cell_type": "code",
   "execution_count": null,
   "metadata": {},
   "outputs": [],
   "source": [
    "IDs = df['Name'].apply(lambda x: x.split(\":\")[0])\n",
    "IDs.value_counts()"
   ]
  },
  {
   "cell_type": "markdown",
   "metadata": {},
   "source": [
    "## Add new column: Condition_new"
   ]
  },
  {
   "cell_type": "code",
   "execution_count": null,
   "metadata": {},
   "outputs": [],
   "source": [
    "df['Condition_new'] = df['Condition(s)'].map(rename_condition, na_action='ignore')"
   ]
  },
  {
   "cell_type": "code",
   "execution_count": null,
   "metadata": {},
   "outputs": [],
   "source": [
    "df['Condition_new'].value_counts()"
   ]
  },
  {
   "cell_type": "markdown",
   "metadata": {},
   "source": [
    "## Groupby"
   ]
  },
  {
   "cell_type": "code",
   "execution_count": null,
   "metadata": {},
   "outputs": [],
   "source": [
    "df.groupby(\"Germline review status\")[\"Condition_new\"].value_counts()"
   ]
  },
  {
   "cell_type": "markdown",
   "metadata": {},
   "source": [
    "## Subsets"
   ]
  },
  {
   "cell_type": "code",
   "execution_count": null,
   "metadata": {},
   "outputs": [],
   "source": [
    "criterion = 'criteria provided, single submitter'\n",
    "disease = 'Inborn genetic diseases'\n",
    "protein_mut = df['Protein change'][(df['Germline review status'] == criterion) & (df['Condition_new']==disease)]\n",
    "yes, no = mutation_analysis(protein_mut, BP_positions)  "
   ]
  },
  {
   "cell_type": "code",
   "execution_count": null,
   "metadata": {},
   "outputs": [],
   "source": [
    "yes"
   ]
  },
  {
   "cell_type": "markdown",
   "metadata": {},
   "source": [
    "## Amino acids analysis"
   ]
  },
  {
   "cell_type": "markdown",
   "metadata": {},
   "source": [
    "Analyse the percantage of Arginine (R) in different domains of ORC1 protein"
   ]
  },
  {
   "cell_type": "code",
   "execution_count": null,
   "metadata": {},
   "outputs": [],
   "source": [
    "# Protein sequences\n",
    "IDR = \"AAKCQKPVRAKSKSAESPSWTPAEHVAKRIESRHSASKSRQTPTHPLTPRARKRLELGNLGNPQMSQQTSCASLDSPGRIKRKVAFSEITSPSKRSQPDKLQTLSPALKAPEKTRETGLSYTEDDKKASPEHRIILRTRIAASKTIDIREERTLTPISGGQRSSVVPSVILKPENIKKRDAKEAKAQNEATSTPHRIRRKSSVLTMNRIRQQLRFLGNSKSDQEEKEILPAAEISDSSSDEEEASTPPLPRRAPRTVSRNLRSSLKSSLHTLTKVPKKSLKPRTPRCAAPQIRS\"\n",
    "G4 = \"AAEISDSSSDEEEASTPPLPRRAPRTVSRNLRSSLKSSLHTLTKVPKKSLKPRTPRCAAPQIRSRSLAAQEPASVLEEARLRLHVSAVPESLPCREQEF\"\n",
    "CDC6 = \"QESAAKCQKPVRAKSKSAESPSWTPAEHVAKRIESRHSASKSRQTPTHPLTPRARKRLELG\"\n",
    "ORC=\"MAHYPTRLKTRKTYSWVGRPLLDRKLHYQTYREMCVKTEGCSTEIHIQIGQFVLIEGDDDENPYVAKLLELFEDDSDPPPKKRARVQWFVRFCEVPACKRHLLGRKPGAQEIFWYDYPACDSNINAETIIGLVRVIPLAPKDVVPTNLKNEKTLFVKLSWNEKKFRPLSSELFAELNKPQESAAKCQKPVRAKSKSAESPSWTPAEHVAKRIESRHSASKSRQTPTHPLTPRARKRLELGNLGNPQMSQQTSCASLDSPGRIKRKVAFSEITSPSKRSQPDKLQTLSPALKAPEKTRETGLSYTEDDKKASPEHRIILRTRIAASKTIDIREERTLTPISGGQRSSVVPSVILKPENIKKRDAKEAKAQNEATSTPHRIRRKSSVLTMNRIRQQLRFLGNSKSDQEEKEILPAAEISDSSSDEEEASTPPLPRRAPRTVSRNLRSSLKSSLHTLTKVPKKSLKPRTPRCAAPQIRSRSLAAQEPASVLEEARLRLHVSAVPESLPCREQEFQDIYNFVESKLLDHTGGCMYISGVPGTGKTATVHEVIRCLQQAAQANDVPPFQYIEVNGMKLTEPHQVYVQILQKLTGQKATANHAAELLAKQFCTRGSPQETTVLLVDELDLLWTHKQDIMYNLFDWPTHKEARLVVLAIANTMDLPERIMMNRVSSRLGLTRMCFQPYTYSQLQQILRSRLKHLKAFEDDAIQLVARKVAALSGDARRCLDICRRATEICEFSQQKPDSPGLVTIAHSMEAVDEMFSSSYITAIKNSSVLEQSFLRAILAEFRRSGLEEATFQQIYSQHVALCRMEGLPYPTMSETMAVCSHLGSCRLLLVEPSRNDLLLRVRLNVSQDDVLYALKDE\"\n",
    "\n",
    "# Calculations\n",
    "ORC1_R = percantage_aa(seq=ORC, A=\"R\")\n",
    "IDR_R = percantage_aa(seq=IDR, A=\"R\")\n",
    "G4_R = percantage_aa(seq=G4, A=\"R\")\n",
    "CDC6_R = percantage_aa(seq=CDC6, A=\"R\")\n",
    "\n",
    "ORC1_G = percantage_aa(seq=ORC, A=\"G\")\n",
    "IDR_G = percantage_aa(seq=IDR, A=\"G\")\n",
    "G4_G = percantage_aa(seq=G4, A=\"G\")\n",
    "CDC6_G = percantage_aa(seq=CDC6, A=\"G\")\n",
    "\n",
    "print(f\"Arginines in different ORC1 domains:\")\n",
    "print(f\"ORC1: {ORC1_R} ; IDR: {IDR_R} ; G4 binding: {G4_R} ; CDC6 binding: {CDC6_R}\")\n",
    "\n",
    "print(f\"Glycines in different ORC1 domains:\")\n",
    "print(f\"ORC1: {ORC1_G} ; IDR: {IDR_G} ; G4 binding: {G4_G} ; CDC6 binding: {CDC6_G}\")"
   ]
  }
 ],
 "metadata": {
  "kernelspec": {
   "display_name": "bioinfo",
   "language": "python",
   "name": "python3"
  },
  "language_info": {
   "codemirror_mode": {
    "name": "ipython",
    "version": 3
   },
   "file_extension": ".py",
   "mimetype": "text/x-python",
   "name": "python",
   "nbconvert_exporter": "python",
   "pygments_lexer": "ipython3",
   "version": "3.12.1"
  }
 },
 "nbformat": 4,
 "nbformat_minor": 2
}
