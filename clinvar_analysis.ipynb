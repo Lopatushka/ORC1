{
 "cells": [
  {
   "cell_type": "markdown",
   "metadata": {},
   "source": [
    "# Analysis of clinical variatns of ORC1 protein"
   ]
  },
  {
   "cell_type": "code",
   "execution_count": 1,
   "metadata": {},
   "outputs": [],
   "source": [
    "from clinvar_functions import *\n",
    "import pandas as pd"
   ]
  },
  {
   "cell_type": "markdown",
   "metadata": {},
   "source": [
    "## ORC1 regions"
   ]
  },
  {
   "cell_type": "code",
   "execution_count": 2,
   "metadata": {},
   "outputs": [],
   "source": [
    "# List of intervals for particular feature\n",
    "LLPS = [(360, 382), (412, 476), (577, 636), (677, 729), (757, 816)] # Chinees paper\n",
    "IDR_total = [(183, 476)] # Chinees paper\n",
    "G4_RNA = [(413, 511)] # Hoshina paper\n",
    "CDCD6=[(180, 240)] # CDC6 paper\n",
    "\n",
    "# Positions\n",
    "G4_RNA_positions = generate_list(G4_RNA)\n",
    "LLPS_positions = generate_list(LLPS)\n",
    "CDCD6_positions = generate_list(CDCD6)"
   ]
  },
  {
   "cell_type": "markdown",
   "metadata": {},
   "source": [
    "## Read data"
   ]
  },
  {
   "cell_type": "code",
   "execution_count": 3,
   "metadata": {},
   "outputs": [
    {
     "data": {
      "text/plain": [
       "(333, 25)"
      ]
     },
     "execution_count": 3,
     "metadata": {},
     "output_type": "execute_result"
    }
   ],
   "source": [
    "# Set option to display all rows and columns\n",
    "# pd.set_option('display.max_rows', None)\n",
    "# pd.set_option('display.max_columns', None)\n",
    "\n",
    "df = pd.read_csv('clinvar_result.csv', sep = \"\\t\")\n",
    "df = df[df['Gene(s)'] == 'ORC1'] # save only ORC1 gene - delete 7 records\n",
    "df.shape"
   ]
  },
  {
   "cell_type": "code",
   "execution_count": 4,
   "metadata": {},
   "outputs": [],
   "source": [
    "# Subset of data: only mutations in protein\n",
    "df_proteins = df[df['Protein change'].apply(lambda x: isinstance(x, str))]"
   ]
  },
  {
   "cell_type": "markdown",
   "metadata": {},
   "source": [
    "## Look at the different columns of df"
   ]
  },
  {
   "cell_type": "code",
   "execution_count": null,
   "metadata": {},
   "outputs": [],
   "source": [
    "df[\"Condition(s)\"].value_counts()"
   ]
  },
  {
   "cell_type": "code",
   "execution_count": null,
   "metadata": {},
   "outputs": [],
   "source": [
    "df[\"Germline classification\"].value_counts()"
   ]
  },
  {
   "cell_type": "code",
   "execution_count": null,
   "metadata": {},
   "outputs": [],
   "source": [
    "df['Germline review status'].value_counts()"
   ]
  },
  {
   "cell_type": "markdown",
   "metadata": {},
   "source": [
    "## Get list of transcript IDs"
   ]
  },
  {
   "cell_type": "code",
   "execution_count": null,
   "metadata": {},
   "outputs": [],
   "source": [
    "IDs = df['Name'].apply(lambda x: x.split(\":\")[0])\n",
    "IDs.value_counts()"
   ]
  },
  {
   "cell_type": "markdown",
   "metadata": {},
   "source": [
    "## Add new column: Condition_new"
   ]
  },
  {
   "cell_type": "code",
   "execution_count": null,
   "metadata": {},
   "outputs": [],
   "source": [
    "df['Condition(s)'].unique()"
   ]
  },
  {
   "cell_type": "code",
   "execution_count": 5,
   "metadata": {},
   "outputs": [
    {
     "name": "stderr",
     "output_type": "stream",
     "text": [
      "/tmp/ipykernel_5881/1592931774.py:1: SettingWithCopyWarning: \n",
      "A value is trying to be set on a copy of a slice from a DataFrame.\n",
      "Try using .loc[row_indexer,col_indexer] = value instead\n",
      "\n",
      "See the caveats in the documentation: https://pandas.pydata.org/pandas-docs/stable/user_guide/indexing.html#returning-a-view-versus-a-copy\n",
      "  df_proteins['Condition_new'] = df_proteins['Condition(s)'].map(rename_condition, na_action='ignore')\n"
     ]
    }
   ],
   "source": [
    "df_proteins['Condition_new'] = df_proteins['Condition(s)'].map(rename_condition, na_action='ignore')"
   ]
  },
  {
   "cell_type": "code",
   "execution_count": 6,
   "metadata": {},
   "outputs": [
    {
     "data": {
      "text/html": [
       "<div>\n",
       "<style scoped>\n",
       "    .dataframe tbody tr th:only-of-type {\n",
       "        vertical-align: middle;\n",
       "    }\n",
       "\n",
       "    .dataframe tbody tr th {\n",
       "        vertical-align: top;\n",
       "    }\n",
       "\n",
       "    .dataframe thead th {\n",
       "        text-align: right;\n",
       "    }\n",
       "</style>\n",
       "<table border=\"1\" class=\"dataframe\">\n",
       "  <thead>\n",
       "    <tr style=\"text-align: right;\">\n",
       "      <th></th>\n",
       "      <th>Name</th>\n",
       "      <th>Gene(s)</th>\n",
       "      <th>Protein change</th>\n",
       "      <th>Condition(s)</th>\n",
       "      <th>Accession</th>\n",
       "      <th>GRCh37Chromosome</th>\n",
       "      <th>GRCh37Location</th>\n",
       "      <th>GRCh38Chromosome</th>\n",
       "      <th>GRCh38Location</th>\n",
       "      <th>VariationID</th>\n",
       "      <th>...</th>\n",
       "      <th>Germline date last evaluated</th>\n",
       "      <th>Germline review status</th>\n",
       "      <th>Somatic clinical impact</th>\n",
       "      <th>Somatic clinical impact date last evaluated</th>\n",
       "      <th>Somatic clinical impact review status</th>\n",
       "      <th>Oncogenicity classification</th>\n",
       "      <th>Oncogenicity date last evaluated</th>\n",
       "      <th>Oncogenicity review status</th>\n",
       "      <th>Unnamed: 24</th>\n",
       "      <th>Condition_new</th>\n",
       "    </tr>\n",
       "  </thead>\n",
       "  <tbody>\n",
       "    <tr>\n",
       "      <th>6</th>\n",
       "      <td>NM_004153.4(ORC1):c.2570C&gt;T (p.Ala857Val)</td>\n",
       "      <td>ORC1</td>\n",
       "      <td>A852V, A857V</td>\n",
       "      <td>not provided|Meier-Gorlin syndrome 1</td>\n",
       "      <td>VCV000873948</td>\n",
       "      <td>1</td>\n",
       "      <td>52838869</td>\n",
       "      <td>1</td>\n",
       "      <td>52373197</td>\n",
       "      <td>873948</td>\n",
       "      <td>...</td>\n",
       "      <td>Aug 19, 2022</td>\n",
       "      <td>criteria provided, multiple submitters, no con...</td>\n",
       "      <td>NaN</td>\n",
       "      <td>NaN</td>\n",
       "      <td>NaN</td>\n",
       "      <td>NaN</td>\n",
       "      <td>NaN</td>\n",
       "      <td>NaN</td>\n",
       "      <td>NaN</td>\n",
       "      <td>Meier-Gorlin syndrome 1 probaly</td>\n",
       "    </tr>\n",
       "    <tr>\n",
       "      <th>8</th>\n",
       "      <td>NM_004153.4(ORC1):c.2554G&gt;T (p.Asp852Tyr)</td>\n",
       "      <td>ORC1</td>\n",
       "      <td>D847Y, D852Y</td>\n",
       "      <td>Inborn genetic diseases</td>\n",
       "      <td>VCV003206932</td>\n",
       "      <td>1</td>\n",
       "      <td>52838885</td>\n",
       "      <td>1</td>\n",
       "      <td>52373213</td>\n",
       "      <td>3206932</td>\n",
       "      <td>...</td>\n",
       "      <td>Feb 6, 2024</td>\n",
       "      <td>criteria provided, single submitter</td>\n",
       "      <td>NaN</td>\n",
       "      <td>NaN</td>\n",
       "      <td>NaN</td>\n",
       "      <td>NaN</td>\n",
       "      <td>NaN</td>\n",
       "      <td>NaN</td>\n",
       "      <td>NaN</td>\n",
       "      <td>Inborn genetic diseases</td>\n",
       "    </tr>\n",
       "    <tr>\n",
       "      <th>10</th>\n",
       "      <td>NM_004153.4(ORC1):c.2537G&gt;A (p.Arg846Gln)</td>\n",
       "      <td>ORC1</td>\n",
       "      <td>R841Q, R846Q</td>\n",
       "      <td>not provided</td>\n",
       "      <td>VCV001486128</td>\n",
       "      <td>1</td>\n",
       "      <td>52838902</td>\n",
       "      <td>1</td>\n",
       "      <td>52373230</td>\n",
       "      <td>1486128</td>\n",
       "      <td>...</td>\n",
       "      <td>Jul 1, 2022</td>\n",
       "      <td>criteria provided, single submitter</td>\n",
       "      <td>NaN</td>\n",
       "      <td>NaN</td>\n",
       "      <td>NaN</td>\n",
       "      <td>NaN</td>\n",
       "      <td>NaN</td>\n",
       "      <td>NaN</td>\n",
       "      <td>NaN</td>\n",
       "      <td>not provided</td>\n",
       "    </tr>\n",
       "    <tr>\n",
       "      <th>11</th>\n",
       "      <td>NM_004153.4(ORC1):c.2536C&gt;T (p.Arg846Trp)</td>\n",
       "      <td>ORC1</td>\n",
       "      <td>R846W, R841W</td>\n",
       "      <td>Meier-Gorlin syndrome 1</td>\n",
       "      <td>VCV000873949</td>\n",
       "      <td>1</td>\n",
       "      <td>52838903</td>\n",
       "      <td>1</td>\n",
       "      <td>52373231</td>\n",
       "      <td>873949</td>\n",
       "      <td>...</td>\n",
       "      <td>Jan 12, 2018</td>\n",
       "      <td>criteria provided, single submitter</td>\n",
       "      <td>NaN</td>\n",
       "      <td>NaN</td>\n",
       "      <td>NaN</td>\n",
       "      <td>NaN</td>\n",
       "      <td>NaN</td>\n",
       "      <td>NaN</td>\n",
       "      <td>NaN</td>\n",
       "      <td>Meier-Gorlin syndrome 1</td>\n",
       "    </tr>\n",
       "    <tr>\n",
       "      <th>12</th>\n",
       "      <td>NM_004153.4(ORC1):c.2531G&gt;A (p.Arg844Gln)</td>\n",
       "      <td>ORC1</td>\n",
       "      <td>R839Q, R844Q</td>\n",
       "      <td>not provided</td>\n",
       "      <td>VCV001909061</td>\n",
       "      <td>1</td>\n",
       "      <td>52838908</td>\n",
       "      <td>1</td>\n",
       "      <td>52373236</td>\n",
       "      <td>1909061</td>\n",
       "      <td>...</td>\n",
       "      <td>Jul 15, 2022</td>\n",
       "      <td>criteria provided, single submitter</td>\n",
       "      <td>NaN</td>\n",
       "      <td>NaN</td>\n",
       "      <td>NaN</td>\n",
       "      <td>NaN</td>\n",
       "      <td>NaN</td>\n",
       "      <td>NaN</td>\n",
       "      <td>NaN</td>\n",
       "      <td>not provided</td>\n",
       "    </tr>\n",
       "    <tr>\n",
       "      <th>...</th>\n",
       "      <td>...</td>\n",
       "      <td>...</td>\n",
       "      <td>...</td>\n",
       "      <td>...</td>\n",
       "      <td>...</td>\n",
       "      <td>...</td>\n",
       "      <td>...</td>\n",
       "      <td>...</td>\n",
       "      <td>...</td>\n",
       "      <td>...</td>\n",
       "      <td>...</td>\n",
       "      <td>...</td>\n",
       "      <td>...</td>\n",
       "      <td>...</td>\n",
       "      <td>...</td>\n",
       "      <td>...</td>\n",
       "      <td>...</td>\n",
       "      <td>...</td>\n",
       "      <td>...</td>\n",
       "      <td>...</td>\n",
       "      <td>...</td>\n",
       "    </tr>\n",
       "    <tr>\n",
       "      <th>323</th>\n",
       "      <td>NM_004153.4(ORC1):c.83A&gt;G (p.Tyr28Cys)</td>\n",
       "      <td>ORC1</td>\n",
       "      <td>Y28C</td>\n",
       "      <td>Inborn genetic diseases</td>\n",
       "      <td>VCV003206936</td>\n",
       "      <td>1</td>\n",
       "      <td>52867813</td>\n",
       "      <td>1</td>\n",
       "      <td>52402141</td>\n",
       "      <td>3206936</td>\n",
       "      <td>...</td>\n",
       "      <td>Dec 8, 2023</td>\n",
       "      <td>criteria provided, single submitter</td>\n",
       "      <td>NaN</td>\n",
       "      <td>NaN</td>\n",
       "      <td>NaN</td>\n",
       "      <td>NaN</td>\n",
       "      <td>NaN</td>\n",
       "      <td>NaN</td>\n",
       "      <td>NaN</td>\n",
       "      <td>Inborn genetic diseases</td>\n",
       "    </tr>\n",
       "    <tr>\n",
       "      <th>324</th>\n",
       "      <td>NM_004153.4(ORC1):c.71G&gt;A (p.Arg24Gln)</td>\n",
       "      <td>ORC1</td>\n",
       "      <td>R24Q</td>\n",
       "      <td>Inborn genetic diseases</td>\n",
       "      <td>VCV002618990</td>\n",
       "      <td>1</td>\n",
       "      <td>52867825</td>\n",
       "      <td>1</td>\n",
       "      <td>52402153</td>\n",
       "      <td>2618990</td>\n",
       "      <td>...</td>\n",
       "      <td>Aug 15, 2023</td>\n",
       "      <td>criteria provided, single submitter</td>\n",
       "      <td>NaN</td>\n",
       "      <td>NaN</td>\n",
       "      <td>NaN</td>\n",
       "      <td>NaN</td>\n",
       "      <td>NaN</td>\n",
       "      <td>NaN</td>\n",
       "      <td>NaN</td>\n",
       "      <td>Inborn genetic diseases</td>\n",
       "    </tr>\n",
       "    <tr>\n",
       "      <th>326</th>\n",
       "      <td>NM_004153.4(ORC1):c.57G&gt;C (p.Arg19Ser)</td>\n",
       "      <td>ORC1</td>\n",
       "      <td>R19S</td>\n",
       "      <td>not specified|Meier-Gorlin syndrome 1|not prov...</td>\n",
       "      <td>VCV000259242</td>\n",
       "      <td>1</td>\n",
       "      <td>52867839</td>\n",
       "      <td>1</td>\n",
       "      <td>52402167</td>\n",
       "      <td>259242</td>\n",
       "      <td>...</td>\n",
       "      <td>Jun 1, 2024</td>\n",
       "      <td>criteria provided, multiple submitters, no con...</td>\n",
       "      <td>NaN</td>\n",
       "      <td>NaN</td>\n",
       "      <td>NaN</td>\n",
       "      <td>NaN</td>\n",
       "      <td>NaN</td>\n",
       "      <td>NaN</td>\n",
       "      <td>NaN</td>\n",
       "      <td>Meier-Gorlin syndrome 1 probaly</td>\n",
       "    </tr>\n",
       "    <tr>\n",
       "      <th>328</th>\n",
       "      <td>NM_004153.4(ORC1):c.35A&gt;G (p.Lys12Arg)</td>\n",
       "      <td>ORC1</td>\n",
       "      <td>K12R</td>\n",
       "      <td>Inborn genetic diseases</td>\n",
       "      <td>VCV003303495</td>\n",
       "      <td>1</td>\n",
       "      <td>52867861</td>\n",
       "      <td>1</td>\n",
       "      <td>52402189</td>\n",
       "      <td>3303495</td>\n",
       "      <td>...</td>\n",
       "      <td>Jun 17, 2024</td>\n",
       "      <td>criteria provided, single submitter</td>\n",
       "      <td>NaN</td>\n",
       "      <td>NaN</td>\n",
       "      <td>NaN</td>\n",
       "      <td>NaN</td>\n",
       "      <td>NaN</td>\n",
       "      <td>NaN</td>\n",
       "      <td>NaN</td>\n",
       "      <td>Inborn genetic diseases</td>\n",
       "    </tr>\n",
       "    <tr>\n",
       "      <th>331</th>\n",
       "      <td>NM_004153.4(ORC1):c.8A&gt;C (p.His3Pro)</td>\n",
       "      <td>ORC1</td>\n",
       "      <td>H3P</td>\n",
       "      <td>not provided</td>\n",
       "      <td>VCV002102960</td>\n",
       "      <td>1</td>\n",
       "      <td>52867888</td>\n",
       "      <td>1</td>\n",
       "      <td>52402216</td>\n",
       "      <td>2102960</td>\n",
       "      <td>...</td>\n",
       "      <td>Feb 24, 2022</td>\n",
       "      <td>criteria provided, single submitter</td>\n",
       "      <td>NaN</td>\n",
       "      <td>NaN</td>\n",
       "      <td>NaN</td>\n",
       "      <td>NaN</td>\n",
       "      <td>NaN</td>\n",
       "      <td>NaN</td>\n",
       "      <td>NaN</td>\n",
       "      <td>not provided</td>\n",
       "    </tr>\n",
       "  </tbody>\n",
       "</table>\n",
       "<p>188 rows × 26 columns</p>\n",
       "</div>"
      ],
      "text/plain": [
       "                                          Name Gene(s) Protein change  \\\n",
       "6    NM_004153.4(ORC1):c.2570C>T (p.Ala857Val)    ORC1   A852V, A857V   \n",
       "8    NM_004153.4(ORC1):c.2554G>T (p.Asp852Tyr)    ORC1   D847Y, D852Y   \n",
       "10   NM_004153.4(ORC1):c.2537G>A (p.Arg846Gln)    ORC1   R841Q, R846Q   \n",
       "11   NM_004153.4(ORC1):c.2536C>T (p.Arg846Trp)    ORC1   R846W, R841W   \n",
       "12   NM_004153.4(ORC1):c.2531G>A (p.Arg844Gln)    ORC1   R839Q, R844Q   \n",
       "..                                         ...     ...            ...   \n",
       "323     NM_004153.4(ORC1):c.83A>G (p.Tyr28Cys)    ORC1           Y28C   \n",
       "324     NM_004153.4(ORC1):c.71G>A (p.Arg24Gln)    ORC1           R24Q   \n",
       "326     NM_004153.4(ORC1):c.57G>C (p.Arg19Ser)    ORC1           R19S   \n",
       "328     NM_004153.4(ORC1):c.35A>G (p.Lys12Arg)    ORC1           K12R   \n",
       "331       NM_004153.4(ORC1):c.8A>C (p.His3Pro)    ORC1            H3P   \n",
       "\n",
       "                                          Condition(s)     Accession  \\\n",
       "6                 not provided|Meier-Gorlin syndrome 1  VCV000873948   \n",
       "8                              Inborn genetic diseases  VCV003206932   \n",
       "10                                        not provided  VCV001486128   \n",
       "11                             Meier-Gorlin syndrome 1  VCV000873949   \n",
       "12                                        not provided  VCV001909061   \n",
       "..                                                 ...           ...   \n",
       "323                            Inborn genetic diseases  VCV003206936   \n",
       "324                            Inborn genetic diseases  VCV002618990   \n",
       "326  not specified|Meier-Gorlin syndrome 1|not prov...  VCV000259242   \n",
       "328                            Inborn genetic diseases  VCV003303495   \n",
       "331                                       not provided  VCV002102960   \n",
       "\n",
       "    GRCh37Chromosome GRCh37Location GRCh38Chromosome GRCh38Location  \\\n",
       "6                  1       52838869                1       52373197   \n",
       "8                  1       52838885                1       52373213   \n",
       "10                 1       52838902                1       52373230   \n",
       "11                 1       52838903                1       52373231   \n",
       "12                 1       52838908                1       52373236   \n",
       "..               ...            ...              ...            ...   \n",
       "323                1       52867813                1       52402141   \n",
       "324                1       52867825                1       52402153   \n",
       "326                1       52867839                1       52402167   \n",
       "328                1       52867861                1       52402189   \n",
       "331                1       52867888                1       52402216   \n",
       "\n",
       "     VariationID  ... Germline date last evaluated  \\\n",
       "6         873948  ...                 Aug 19, 2022   \n",
       "8        3206932  ...                  Feb 6, 2024   \n",
       "10       1486128  ...                  Jul 1, 2022   \n",
       "11        873949  ...                 Jan 12, 2018   \n",
       "12       1909061  ...                 Jul 15, 2022   \n",
       "..           ...  ...                          ...   \n",
       "323      3206936  ...                  Dec 8, 2023   \n",
       "324      2618990  ...                 Aug 15, 2023   \n",
       "326       259242  ...                  Jun 1, 2024   \n",
       "328      3303495  ...                 Jun 17, 2024   \n",
       "331      2102960  ...                 Feb 24, 2022   \n",
       "\n",
       "                                Germline review status  \\\n",
       "6    criteria provided, multiple submitters, no con...   \n",
       "8                  criteria provided, single submitter   \n",
       "10                 criteria provided, single submitter   \n",
       "11                 criteria provided, single submitter   \n",
       "12                 criteria provided, single submitter   \n",
       "..                                                 ...   \n",
       "323                criteria provided, single submitter   \n",
       "324                criteria provided, single submitter   \n",
       "326  criteria provided, multiple submitters, no con...   \n",
       "328                criteria provided, single submitter   \n",
       "331                criteria provided, single submitter   \n",
       "\n",
       "    Somatic clinical impact Somatic clinical impact date last evaluated  \\\n",
       "6                       NaN                                         NaN   \n",
       "8                       NaN                                         NaN   \n",
       "10                      NaN                                         NaN   \n",
       "11                      NaN                                         NaN   \n",
       "12                      NaN                                         NaN   \n",
       "..                      ...                                         ...   \n",
       "323                     NaN                                         NaN   \n",
       "324                     NaN                                         NaN   \n",
       "326                     NaN                                         NaN   \n",
       "328                     NaN                                         NaN   \n",
       "331                     NaN                                         NaN   \n",
       "\n",
       "    Somatic clinical impact review status Oncogenicity classification  \\\n",
       "6                                     NaN                         NaN   \n",
       "8                                     NaN                         NaN   \n",
       "10                                    NaN                         NaN   \n",
       "11                                    NaN                         NaN   \n",
       "12                                    NaN                         NaN   \n",
       "..                                    ...                         ...   \n",
       "323                                   NaN                         NaN   \n",
       "324                                   NaN                         NaN   \n",
       "326                                   NaN                         NaN   \n",
       "328                                   NaN                         NaN   \n",
       "331                                   NaN                         NaN   \n",
       "\n",
       "    Oncogenicity date last evaluated Oncogenicity review status Unnamed: 24  \\\n",
       "6                                NaN                        NaN         NaN   \n",
       "8                                NaN                        NaN         NaN   \n",
       "10                               NaN                        NaN         NaN   \n",
       "11                               NaN                        NaN         NaN   \n",
       "12                               NaN                        NaN         NaN   \n",
       "..                               ...                        ...         ...   \n",
       "323                              NaN                        NaN         NaN   \n",
       "324                              NaN                        NaN         NaN   \n",
       "326                              NaN                        NaN         NaN   \n",
       "328                              NaN                        NaN         NaN   \n",
       "331                              NaN                        NaN         NaN   \n",
       "\n",
       "                       Condition_new  \n",
       "6    Meier-Gorlin syndrome 1 probaly  \n",
       "8            Inborn genetic diseases  \n",
       "10                      not provided  \n",
       "11           Meier-Gorlin syndrome 1  \n",
       "12                      not provided  \n",
       "..                               ...  \n",
       "323          Inborn genetic diseases  \n",
       "324          Inborn genetic diseases  \n",
       "326  Meier-Gorlin syndrome 1 probaly  \n",
       "328          Inborn genetic diseases  \n",
       "331                     not provided  \n",
       "\n",
       "[188 rows x 26 columns]"
      ]
     },
     "execution_count": 6,
     "metadata": {},
     "output_type": "execute_result"
    }
   ],
   "source": [
    "df_proteins"
   ]
  },
  {
   "cell_type": "code",
   "execution_count": 9,
   "metadata": {},
   "outputs": [
    {
     "data": {
      "text/plain": [
       "Condition_new\n",
       "not provided                        92\n",
       "Inborn genetic diseases             29\n",
       "Meier-Gorlin syndrome 1 probaly     27\n",
       "Meier-Gorlin syndrome 1             21\n",
       "Inborn genetic diseases probably    11\n",
       "not specified                        4\n",
       "ORC1-related disorder probably       2\n",
       "Name: count, dtype: int64"
      ]
     },
     "execution_count": 9,
     "metadata": {},
     "output_type": "execute_result"
    }
   ],
   "source": [
    "df_proteins['Condition_new'].value_counts()"
   ]
  },
  {
   "cell_type": "markdown",
   "metadata": {},
   "source": [
    "## Groupby"
   ]
  },
  {
   "cell_type": "code",
   "execution_count": 15,
   "metadata": {},
   "outputs": [
    {
     "ename": "KeyError",
     "evalue": "'Column not found: Condition_new'",
     "output_type": "error",
     "traceback": [
      "\u001b[0;31m---------------------------------------------------------------------------\u001b[0m",
      "\u001b[0;31mKeyError\u001b[0m                                  Traceback (most recent call last)",
      "Cell \u001b[0;32mIn[15], line 1\u001b[0m\n\u001b[0;32m----> 1\u001b[0m \u001b[43mdf\u001b[49m\u001b[38;5;241;43m.\u001b[39;49m\u001b[43mgroupby\u001b[49m\u001b[43m(\u001b[49m\u001b[38;5;124;43m\"\u001b[39;49m\u001b[38;5;124;43mGermline review status\u001b[39;49m\u001b[38;5;124;43m\"\u001b[39;49m\u001b[43m)\u001b[49m\u001b[43m[\u001b[49m\u001b[38;5;124;43m\"\u001b[39;49m\u001b[38;5;124;43mCondition_new\u001b[39;49m\u001b[38;5;124;43m\"\u001b[39;49m\u001b[43m]\u001b[49m\u001b[38;5;241m.\u001b[39mvalue_counts()\n",
      "File \u001b[0;32m~/miniconda3/envs/bioinfo/lib/python3.12/site-packages/pandas/core/groupby/generic.py:1951\u001b[0m, in \u001b[0;36mDataFrameGroupBy.__getitem__\u001b[0;34m(self, key)\u001b[0m\n\u001b[1;32m   1944\u001b[0m \u001b[38;5;28;01mif\u001b[39;00m \u001b[38;5;28misinstance\u001b[39m(key, \u001b[38;5;28mtuple\u001b[39m) \u001b[38;5;129;01mand\u001b[39;00m \u001b[38;5;28mlen\u001b[39m(key) \u001b[38;5;241m>\u001b[39m \u001b[38;5;241m1\u001b[39m:\n\u001b[1;32m   1945\u001b[0m     \u001b[38;5;66;03m# if len == 1, then it becomes a SeriesGroupBy and this is actually\u001b[39;00m\n\u001b[1;32m   1946\u001b[0m     \u001b[38;5;66;03m# valid syntax, so don't raise\u001b[39;00m\n\u001b[1;32m   1947\u001b[0m     \u001b[38;5;28;01mraise\u001b[39;00m \u001b[38;5;167;01mValueError\u001b[39;00m(\n\u001b[1;32m   1948\u001b[0m         \u001b[38;5;124m\"\u001b[39m\u001b[38;5;124mCannot subset columns with a tuple with more than one element. \u001b[39m\u001b[38;5;124m\"\u001b[39m\n\u001b[1;32m   1949\u001b[0m         \u001b[38;5;124m\"\u001b[39m\u001b[38;5;124mUse a list instead.\u001b[39m\u001b[38;5;124m\"\u001b[39m\n\u001b[1;32m   1950\u001b[0m     )\n\u001b[0;32m-> 1951\u001b[0m \u001b[38;5;28;01mreturn\u001b[39;00m \u001b[38;5;28;43msuper\u001b[39;49m\u001b[43m(\u001b[49m\u001b[43m)\u001b[49m\u001b[38;5;241;43m.\u001b[39;49m\u001b[38;5;21;43m__getitem__\u001b[39;49m\u001b[43m(\u001b[49m\u001b[43mkey\u001b[49m\u001b[43m)\u001b[49m\n",
      "File \u001b[0;32m~/miniconda3/envs/bioinfo/lib/python3.12/site-packages/pandas/core/base.py:244\u001b[0m, in \u001b[0;36mSelectionMixin.__getitem__\u001b[0;34m(self, key)\u001b[0m\n\u001b[1;32m    242\u001b[0m \u001b[38;5;28;01melse\u001b[39;00m:\n\u001b[1;32m    243\u001b[0m     \u001b[38;5;28;01mif\u001b[39;00m key \u001b[38;5;129;01mnot\u001b[39;00m \u001b[38;5;129;01min\u001b[39;00m \u001b[38;5;28mself\u001b[39m\u001b[38;5;241m.\u001b[39mobj:\n\u001b[0;32m--> 244\u001b[0m         \u001b[38;5;28;01mraise\u001b[39;00m \u001b[38;5;167;01mKeyError\u001b[39;00m(\u001b[38;5;124mf\u001b[39m\u001b[38;5;124m\"\u001b[39m\u001b[38;5;124mColumn not found: \u001b[39m\u001b[38;5;132;01m{\u001b[39;00mkey\u001b[38;5;132;01m}\u001b[39;00m\u001b[38;5;124m\"\u001b[39m)\n\u001b[1;32m    245\u001b[0m     ndim \u001b[38;5;241m=\u001b[39m \u001b[38;5;28mself\u001b[39m\u001b[38;5;241m.\u001b[39mobj[key]\u001b[38;5;241m.\u001b[39mndim\n\u001b[1;32m    246\u001b[0m     \u001b[38;5;28;01mreturn\u001b[39;00m \u001b[38;5;28mself\u001b[39m\u001b[38;5;241m.\u001b[39m_gotitem(key, ndim\u001b[38;5;241m=\u001b[39mndim)\n",
      "\u001b[0;31mKeyError\u001b[0m: 'Column not found: Condition_new'"
     ]
    }
   ],
   "source": [
    "df_proteins.groupby(\"Germline review status\")[\"Condition_new\"].value_counts()"
   ]
  },
  {
   "cell_type": "markdown",
   "metadata": {},
   "source": [
    "## Subsets"
   ]
  },
  {
   "cell_type": "code",
   "execution_count": 14,
   "metadata": {},
   "outputs": [
    {
     "name": "stdout",
     "output_type": "stream",
     "text": [
      "Series([], Name: Protein change, dtype: object)\n"
     ]
    }
   ],
   "source": [
    "criterion = 'criteria provided, multiple submitters, no conflicts'\n",
    "disease = 'Meier-Gorlin syndrome 1 probably'\n",
    "protein_mut = df_proteins['Protein change'][(df_proteins['Germline review status'] == criterion) & (df_proteins['Condition_new']==disease)]\n",
    "print(protein_mut)"
   ]
  },
  {
   "cell_type": "code",
   "execution_count": null,
   "metadata": {},
   "outputs": [],
   "source": [
    "yes, no = mutation_analysis(protein_mut, G4_RNA_positions)  "
   ]
  },
  {
   "cell_type": "code",
   "execution_count": null,
   "metadata": {},
   "outputs": [],
   "source": [
    "yes"
   ]
  },
  {
   "cell_type": "code",
   "execution_count": null,
   "metadata": {},
   "outputs": [],
   "source": [
    "no"
   ]
  }
 ],
 "metadata": {
  "kernelspec": {
   "display_name": "bioinfo",
   "language": "python",
   "name": "python3"
  },
  "language_info": {
   "codemirror_mode": {
    "name": "ipython",
    "version": 3
   },
   "file_extension": ".py",
   "mimetype": "text/x-python",
   "name": "python",
   "nbconvert_exporter": "python",
   "pygments_lexer": "ipython3",
   "version": "3.12.1"
  }
 },
 "nbformat": 4,
 "nbformat_minor": 2
}
